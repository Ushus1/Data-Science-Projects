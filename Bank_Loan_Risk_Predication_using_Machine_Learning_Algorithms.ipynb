{
  "cells": [
    {
      "cell_type": "markdown",
      "metadata": {
        "id": "view-in-github",
        "colab_type": "text"
      },
      "source": [
        "<a href=\"https://colab.research.google.com/github/Ushus1/Data-Science-Projects/blob/main/Bank_Loan_Risk_Predication_using_Machine_Learning_Algorithms.ipynb\" target=\"_parent\"><img src=\"https://colab.research.google.com/assets/colab-badge.svg\" alt=\"Open In Colab\"/></a>"
      ]
    },
    {
      "metadata": {
        "_uuid": "f6285d85a00d6a31792fac4c08ba523cd049cf07",
        "trusted": true,
        "id": "G8lPqwdC8ehu"
      },
      "cell_type": "code",
      "source": [
        "# I will use in this Kernel the step-by-step process of Will Koehrsen.\n",
        "# I won't use everything, but most of them.\n",
        "# This project at in GitHub repository: https://github.com/WillKoehrsen/machine-learning-project-walkthrough"
      ],
      "execution_count": null,
      "outputs": []
    },
    {
      "metadata": {
        "_cell_guid": "b1076dfc-b9ad-4769-8c92-a6c4dae69d19",
        "_uuid": "8f2839f25d086af736a60e9eeb907d3b93b6e0e5",
        "trusted": true,
        "id": "PncSPKVD8ehy"
      },
      "cell_type": "code",
      "source": [
        "##### # Imports\n",
        "\n",
        "# Pandas and numpy for data manipulation\n",
        "import pandas as pd\n",
        "import numpy as np\n",
        "\n",
        "# No warnings about setting value on copy of slice\n",
        "pd.options.mode.chained_assignment = None\n",
        "\n",
        "# Display up to 60 columns of a dataframe\n",
        "pd.set_option('display.max_columns', 60)\n",
        "\n",
        "# Matplotlib visualization\n",
        "import matplotlib.pyplot as plt\n",
        "%matplotlib inline\n",
        "\n",
        "# Set default font size\n",
        "plt.rcParams['font.size'] = 24\n",
        "\n",
        "# Internal ipython tool for setting figure size\n",
        "from IPython.core.pylabtools import figsize\n",
        "\n",
        "# Seaborn for visualization\n",
        "import seaborn as sns\n",
        "sns.set(font_scale = 2)\n",
        "\n",
        "# Splitting data into training and testing\n",
        "from sklearn.model_selection import train_test_split"
      ],
      "execution_count": null,
      "outputs": []
    },
    {
      "cell_type": "code",
      "source": [
        "from google.colab import drive\n",
        "drive.mount('/content/drive')\n",
        "!unzip /content/drive/MyDrive/Masters/Loan_dataset.zip"
      ],
      "metadata": {
        "colab": {
          "base_uri": "https://localhost:8080/"
        },
        "id": "ZHuyUhvw8lib",
        "outputId": "b66cf1b7-936d-4e57-917e-d6929bdad9f9"
      },
      "execution_count": null,
      "outputs": [
        {
          "output_type": "stream",
          "name": "stdout",
          "text": [
            "Mounted at /content/drive\n",
            "Archive:  /content/drive/MyDrive/Masters/Loan_dataset.zip\n",
            "  inflating: credit_test.csv         \n",
            "  inflating: credit_train.csv        \n"
          ]
        }
      ]
    },
    {
      "metadata": {
        "_cell_guid": "79c7e3d0-c299-4dcb-8224-4455121ee9b0",
        "_uuid": "d629ff2d2480ee46fbb7e2d37f6b5fab8052498a",
        "trusted": true,
        "id": "jTVLRWC-8ehz"
      },
      "cell_type": "code",
      "source": [
        "# # # Data Cleaning and Formatting\n",
        "\n",
        "# # Load in the Data and Examine\n",
        "\n",
        "# Read in credit into a dataframe \n",
        "credit = pd.read_csv('./credit_train.csv')\n",
        "\n",
        "# Display top of dataframe\n",
        "#credit.head()"
      ],
      "execution_count": null,
      "outputs": []
    },
    {
      "metadata": {
        "_uuid": "6dd5c8d62615e1e852c59db262dde7fef027ca06",
        "trusted": true,
        "colab": {
          "base_uri": "https://localhost:8080/"
        },
        "id": "fDKXZFvL8eh0",
        "outputId": "53bd6dc4-52a9-4f62-b2ea-5c37ed291a43"
      },
      "cell_type": "code",
      "source": [
        "credit.shape"
      ],
      "execution_count": null,
      "outputs": [
        {
          "output_type": "execute_result",
          "data": {
            "text/plain": [
              "(100514, 19)"
            ]
          },
          "metadata": {},
          "execution_count": 6
        }
      ]
    },
    {
      "cell_type": "code",
      "source": [],
      "metadata": {
        "id": "XgXKKQDhHdW7"
      },
      "execution_count": null,
      "outputs": []
    },
    {
      "metadata": {
        "_uuid": "e2a8dd84e67164754d6d43902592a8249ec6dac8",
        "trusted": true,
        "colab": {
          "base_uri": "https://localhost:8080/"
        },
        "id": "ADYu_HOx8eh1",
        "outputId": "16ce1793-8218-46e5-c60b-52a7f8be66e2"
      },
      "cell_type": "code",
      "source": [
        "# # Data Types and Missing Values\n",
        "\n",
        "# See the column data types and non-missing values\n",
        "credit.info()"
      ],
      "execution_count": null,
      "outputs": [
        {
          "output_type": "stream",
          "name": "stdout",
          "text": [
            "<class 'pandas.core.frame.DataFrame'>\n",
            "RangeIndex: 100514 entries, 0 to 100513\n",
            "Data columns (total 19 columns):\n",
            " #   Column                        Non-Null Count   Dtype  \n",
            "---  ------                        --------------   -----  \n",
            " 0   Loan ID                       100000 non-null  object \n",
            " 1   Customer ID                   100000 non-null  object \n",
            " 2   Loan Status                   100000 non-null  object \n",
            " 3   Current Loan Amount           100000 non-null  float64\n",
            " 4   Term                          100000 non-null  object \n",
            " 5   Credit Score                  80846 non-null   float64\n",
            " 6   Annual Income                 80846 non-null   float64\n",
            " 7   Years in current job          95778 non-null   object \n",
            " 8   Home Ownership                100000 non-null  object \n",
            " 9   Purpose                       100000 non-null  object \n",
            " 10  Monthly Debt                  100000 non-null  float64\n",
            " 11  Years of Credit History       100000 non-null  float64\n",
            " 12  Months since last delinquent  46859 non-null   float64\n",
            " 13  Number of Open Accounts       100000 non-null  float64\n",
            " 14  Number of Credit Problems     100000 non-null  float64\n",
            " 15  Current Credit Balance        100000 non-null  float64\n",
            " 16  Maximum Open Credit           99998 non-null   float64\n",
            " 17  Bankruptcies                  99796 non-null   float64\n",
            " 18  Tax Liens                     99990 non-null   float64\n",
            "dtypes: float64(12), object(7)\n",
            "memory usage: 14.6+ MB\n"
          ]
        }
      ]
    },
    {
      "metadata": {
        "_uuid": "9c722bd0380292d587e258da5e3ff09d00f57bca",
        "trusted": true,
        "colab": {
          "base_uri": "https://localhost:8080/",
          "height": 361
        },
        "id": "CmXNdDjA8eh1",
        "outputId": "0822f887-7360-40b3-bf1e-0b2b205953ad"
      },
      "cell_type": "code",
      "source": [
        "# Statistics for each column\n",
        "credit.describe()"
      ],
      "execution_count": null,
      "outputs": [
        {
          "output_type": "execute_result",
          "data": {
            "text/plain": [
              "       Current Loan Amount  Credit Score  Annual Income   Monthly Debt  \\\n",
              "count         1.000000e+05  80846.000000   8.084600e+04  100000.000000   \n",
              "mean          1.176045e+07   1076.456089   1.378277e+06   18472.412336   \n",
              "std           3.178394e+07   1475.403791   1.081360e+06   12174.992609   \n",
              "min           1.080200e+04    585.000000   7.662700e+04       0.000000   \n",
              "25%           1.796520e+05    705.000000   8.488440e+05   10214.162500   \n",
              "50%           3.122460e+05    724.000000   1.174162e+06   16220.300000   \n",
              "75%           5.249420e+05    741.000000   1.650663e+06   24012.057500   \n",
              "max           1.000000e+08   7510.000000   1.655574e+08  435843.280000   \n",
              "\n",
              "       Years of Credit History  Months since last delinquent  \\\n",
              "count            100000.000000                  46859.000000   \n",
              "mean                 18.199141                     34.901321   \n",
              "std                   7.015324                     21.997829   \n",
              "min                   3.600000                      0.000000   \n",
              "25%                  13.500000                     16.000000   \n",
              "50%                  16.900000                     32.000000   \n",
              "75%                  21.700000                     51.000000   \n",
              "max                  70.500000                    176.000000   \n",
              "\n",
              "       Number of Open Accounts  Number of Credit Problems  \\\n",
              "count             100000.00000              100000.000000   \n",
              "mean                  11.12853                   0.168310   \n",
              "std                    5.00987                   0.482705   \n",
              "min                    0.00000                   0.000000   \n",
              "25%                    8.00000                   0.000000   \n",
              "50%                   10.00000                   0.000000   \n",
              "75%                   14.00000                   0.000000   \n",
              "max                   76.00000                  15.000000   \n",
              "\n",
              "       Current Credit Balance  Maximum Open Credit  Bankruptcies     Tax Liens  \n",
              "count            1.000000e+05         9.999800e+04  99796.000000  99990.000000  \n",
              "mean             2.946374e+05         7.607984e+05      0.117740      0.029313  \n",
              "std              3.761709e+05         8.384503e+06      0.351424      0.258182  \n",
              "min              0.000000e+00         0.000000e+00      0.000000      0.000000  \n",
              "25%              1.126700e+05         2.734380e+05      0.000000      0.000000  \n",
              "50%              2.098170e+05         4.678740e+05      0.000000      0.000000  \n",
              "75%              3.679588e+05         7.829580e+05      0.000000      0.000000  \n",
              "max              3.287897e+07         1.539738e+09      7.000000     15.000000  "
            ],
            "text/html": [
              "\n",
              "  <div id=\"df-5d32d71a-2b2a-4da0-8e39-8b26c8dbcca5\">\n",
              "    <div class=\"colab-df-container\">\n",
              "      <div>\n",
              "<style scoped>\n",
              "    .dataframe tbody tr th:only-of-type {\n",
              "        vertical-align: middle;\n",
              "    }\n",
              "\n",
              "    .dataframe tbody tr th {\n",
              "        vertical-align: top;\n",
              "    }\n",
              "\n",
              "    .dataframe thead th {\n",
              "        text-align: right;\n",
              "    }\n",
              "</style>\n",
              "<table border=\"1\" class=\"dataframe\">\n",
              "  <thead>\n",
              "    <tr style=\"text-align: right;\">\n",
              "      <th></th>\n",
              "      <th>Current Loan Amount</th>\n",
              "      <th>Credit Score</th>\n",
              "      <th>Annual Income</th>\n",
              "      <th>Monthly Debt</th>\n",
              "      <th>Years of Credit History</th>\n",
              "      <th>Months since last delinquent</th>\n",
              "      <th>Number of Open Accounts</th>\n",
              "      <th>Number of Credit Problems</th>\n",
              "      <th>Current Credit Balance</th>\n",
              "      <th>Maximum Open Credit</th>\n",
              "      <th>Bankruptcies</th>\n",
              "      <th>Tax Liens</th>\n",
              "    </tr>\n",
              "  </thead>\n",
              "  <tbody>\n",
              "    <tr>\n",
              "      <th>count</th>\n",
              "      <td>1.000000e+05</td>\n",
              "      <td>80846.000000</td>\n",
              "      <td>8.084600e+04</td>\n",
              "      <td>100000.000000</td>\n",
              "      <td>100000.000000</td>\n",
              "      <td>46859.000000</td>\n",
              "      <td>100000.00000</td>\n",
              "      <td>100000.000000</td>\n",
              "      <td>1.000000e+05</td>\n",
              "      <td>9.999800e+04</td>\n",
              "      <td>99796.000000</td>\n",
              "      <td>99990.000000</td>\n",
              "    </tr>\n",
              "    <tr>\n",
              "      <th>mean</th>\n",
              "      <td>1.176045e+07</td>\n",
              "      <td>1076.456089</td>\n",
              "      <td>1.378277e+06</td>\n",
              "      <td>18472.412336</td>\n",
              "      <td>18.199141</td>\n",
              "      <td>34.901321</td>\n",
              "      <td>11.12853</td>\n",
              "      <td>0.168310</td>\n",
              "      <td>2.946374e+05</td>\n",
              "      <td>7.607984e+05</td>\n",
              "      <td>0.117740</td>\n",
              "      <td>0.029313</td>\n",
              "    </tr>\n",
              "    <tr>\n",
              "      <th>std</th>\n",
              "      <td>3.178394e+07</td>\n",
              "      <td>1475.403791</td>\n",
              "      <td>1.081360e+06</td>\n",
              "      <td>12174.992609</td>\n",
              "      <td>7.015324</td>\n",
              "      <td>21.997829</td>\n",
              "      <td>5.00987</td>\n",
              "      <td>0.482705</td>\n",
              "      <td>3.761709e+05</td>\n",
              "      <td>8.384503e+06</td>\n",
              "      <td>0.351424</td>\n",
              "      <td>0.258182</td>\n",
              "    </tr>\n",
              "    <tr>\n",
              "      <th>min</th>\n",
              "      <td>1.080200e+04</td>\n",
              "      <td>585.000000</td>\n",
              "      <td>7.662700e+04</td>\n",
              "      <td>0.000000</td>\n",
              "      <td>3.600000</td>\n",
              "      <td>0.000000</td>\n",
              "      <td>0.00000</td>\n",
              "      <td>0.000000</td>\n",
              "      <td>0.000000e+00</td>\n",
              "      <td>0.000000e+00</td>\n",
              "      <td>0.000000</td>\n",
              "      <td>0.000000</td>\n",
              "    </tr>\n",
              "    <tr>\n",
              "      <th>25%</th>\n",
              "      <td>1.796520e+05</td>\n",
              "      <td>705.000000</td>\n",
              "      <td>8.488440e+05</td>\n",
              "      <td>10214.162500</td>\n",
              "      <td>13.500000</td>\n",
              "      <td>16.000000</td>\n",
              "      <td>8.00000</td>\n",
              "      <td>0.000000</td>\n",
              "      <td>1.126700e+05</td>\n",
              "      <td>2.734380e+05</td>\n",
              "      <td>0.000000</td>\n",
              "      <td>0.000000</td>\n",
              "    </tr>\n",
              "    <tr>\n",
              "      <th>50%</th>\n",
              "      <td>3.122460e+05</td>\n",
              "      <td>724.000000</td>\n",
              "      <td>1.174162e+06</td>\n",
              "      <td>16220.300000</td>\n",
              "      <td>16.900000</td>\n",
              "      <td>32.000000</td>\n",
              "      <td>10.00000</td>\n",
              "      <td>0.000000</td>\n",
              "      <td>2.098170e+05</td>\n",
              "      <td>4.678740e+05</td>\n",
              "      <td>0.000000</td>\n",
              "      <td>0.000000</td>\n",
              "    </tr>\n",
              "    <tr>\n",
              "      <th>75%</th>\n",
              "      <td>5.249420e+05</td>\n",
              "      <td>741.000000</td>\n",
              "      <td>1.650663e+06</td>\n",
              "      <td>24012.057500</td>\n",
              "      <td>21.700000</td>\n",
              "      <td>51.000000</td>\n",
              "      <td>14.00000</td>\n",
              "      <td>0.000000</td>\n",
              "      <td>3.679588e+05</td>\n",
              "      <td>7.829580e+05</td>\n",
              "      <td>0.000000</td>\n",
              "      <td>0.000000</td>\n",
              "    </tr>\n",
              "    <tr>\n",
              "      <th>max</th>\n",
              "      <td>1.000000e+08</td>\n",
              "      <td>7510.000000</td>\n",
              "      <td>1.655574e+08</td>\n",
              "      <td>435843.280000</td>\n",
              "      <td>70.500000</td>\n",
              "      <td>176.000000</td>\n",
              "      <td>76.00000</td>\n",
              "      <td>15.000000</td>\n",
              "      <td>3.287897e+07</td>\n",
              "      <td>1.539738e+09</td>\n",
              "      <td>7.000000</td>\n",
              "      <td>15.000000</td>\n",
              "    </tr>\n",
              "  </tbody>\n",
              "</table>\n",
              "</div>\n",
              "      <button class=\"colab-df-convert\" onclick=\"convertToInteractive('df-5d32d71a-2b2a-4da0-8e39-8b26c8dbcca5')\"\n",
              "              title=\"Convert this dataframe to an interactive table.\"\n",
              "              style=\"display:none;\">\n",
              "        \n",
              "  <svg xmlns=\"http://www.w3.org/2000/svg\" height=\"24px\"viewBox=\"0 0 24 24\"\n",
              "       width=\"24px\">\n",
              "    <path d=\"M0 0h24v24H0V0z\" fill=\"none\"/>\n",
              "    <path d=\"M18.56 5.44l.94 2.06.94-2.06 2.06-.94-2.06-.94-.94-2.06-.94 2.06-2.06.94zm-11 1L8.5 8.5l.94-2.06 2.06-.94-2.06-.94L8.5 2.5l-.94 2.06-2.06.94zm10 10l.94 2.06.94-2.06 2.06-.94-2.06-.94-.94-2.06-.94 2.06-2.06.94z\"/><path d=\"M17.41 7.96l-1.37-1.37c-.4-.4-.92-.59-1.43-.59-.52 0-1.04.2-1.43.59L10.3 9.45l-7.72 7.72c-.78.78-.78 2.05 0 2.83L4 21.41c.39.39.9.59 1.41.59.51 0 1.02-.2 1.41-.59l7.78-7.78 2.81-2.81c.8-.78.8-2.07 0-2.86zM5.41 20L4 18.59l7.72-7.72 1.47 1.35L5.41 20z\"/>\n",
              "  </svg>\n",
              "      </button>\n",
              "      \n",
              "  <style>\n",
              "    .colab-df-container {\n",
              "      display:flex;\n",
              "      flex-wrap:wrap;\n",
              "      gap: 12px;\n",
              "    }\n",
              "\n",
              "    .colab-df-convert {\n",
              "      background-color: #E8F0FE;\n",
              "      border: none;\n",
              "      border-radius: 50%;\n",
              "      cursor: pointer;\n",
              "      display: none;\n",
              "      fill: #1967D2;\n",
              "      height: 32px;\n",
              "      padding: 0 0 0 0;\n",
              "      width: 32px;\n",
              "    }\n",
              "\n",
              "    .colab-df-convert:hover {\n",
              "      background-color: #E2EBFA;\n",
              "      box-shadow: 0px 1px 2px rgba(60, 64, 67, 0.3), 0px 1px 3px 1px rgba(60, 64, 67, 0.15);\n",
              "      fill: #174EA6;\n",
              "    }\n",
              "\n",
              "    [theme=dark] .colab-df-convert {\n",
              "      background-color: #3B4455;\n",
              "      fill: #D2E3FC;\n",
              "    }\n",
              "\n",
              "    [theme=dark] .colab-df-convert:hover {\n",
              "      background-color: #434B5C;\n",
              "      box-shadow: 0px 1px 3px 1px rgba(0, 0, 0, 0.15);\n",
              "      filter: drop-shadow(0px 1px 2px rgba(0, 0, 0, 0.3));\n",
              "      fill: #FFFFFF;\n",
              "    }\n",
              "  </style>\n",
              "\n",
              "      <script>\n",
              "        const buttonEl =\n",
              "          document.querySelector('#df-5d32d71a-2b2a-4da0-8e39-8b26c8dbcca5 button.colab-df-convert');\n",
              "        buttonEl.style.display =\n",
              "          google.colab.kernel.accessAllowed ? 'block' : 'none';\n",
              "\n",
              "        async function convertToInteractive(key) {\n",
              "          const element = document.querySelector('#df-5d32d71a-2b2a-4da0-8e39-8b26c8dbcca5');\n",
              "          const dataTable =\n",
              "            await google.colab.kernel.invokeFunction('convertToInteractive',\n",
              "                                                     [key], {});\n",
              "          if (!dataTable) return;\n",
              "\n",
              "          const docLinkHtml = 'Like what you see? Visit the ' +\n",
              "            '<a target=\"_blank\" href=https://colab.research.google.com/notebooks/data_table.ipynb>data table notebook</a>'\n",
              "            + ' to learn more about interactive tables.';\n",
              "          element.innerHTML = '';\n",
              "          dataTable['output_type'] = 'display_data';\n",
              "          await google.colab.output.renderOutput(dataTable, element);\n",
              "          const docLink = document.createElement('div');\n",
              "          docLink.innerHTML = docLinkHtml;\n",
              "          element.appendChild(docLink);\n",
              "        }\n",
              "      </script>\n",
              "    </div>\n",
              "  </div>\n",
              "  "
            ]
          },
          "metadata": {},
          "execution_count": 7
        }
      ]
    },
    {
      "cell_type": "code",
      "source": [
        "result = credit.dtypes\n",
        "print(result)\n",
        "print(credit.shape)"
      ],
      "metadata": {
        "colab": {
          "base_uri": "https://localhost:8080/"
        },
        "id": "7IzE1SCxHzyN",
        "outputId": "bb912ae5-6895-40a8-9183-e69bee733859"
      },
      "execution_count": null,
      "outputs": [
        {
          "output_type": "stream",
          "name": "stdout",
          "text": [
            "Loan ID                          object\n",
            "Customer ID                      object\n",
            "Loan Status                      object\n",
            "Current Loan Amount             float64\n",
            "Term                             object\n",
            "Credit Score                    float64\n",
            "Annual Income                   float64\n",
            "Years in current job             object\n",
            "Home Ownership                   object\n",
            "Purpose                          object\n",
            "Monthly Debt                    float64\n",
            "Years of Credit History         float64\n",
            "Months since last delinquent    float64\n",
            "Number of Open Accounts         float64\n",
            "Number of Credit Problems       float64\n",
            "Current Credit Balance          float64\n",
            "Maximum Open Credit             float64\n",
            "Bankruptcies                    float64\n",
            "Tax Liens                       float64\n",
            "dtype: object\n",
            "(100514, 19)\n"
          ]
        }
      ]
    },
    {
      "metadata": {
        "_uuid": "e516824b86742c41bce64e70d6134231e31a4ea3",
        "trusted": true,
        "id": "kpVaar5x8eh2"
      },
      "cell_type": "code",
      "source": [
        "credit.drop(labels=['Loan ID', 'Customer ID'], axis=1, inplace=True)\n",
        "\n",
        "# These two features are only for identification."
      ],
      "execution_count": null,
      "outputs": []
    },
    {
      "metadata": {
        "_uuid": "c0d448aee129b1a9d2dfbfe60e7ffa71c3011689",
        "trusted": true,
        "id": "SBkNbq1G8eh3"
      },
      "cell_type": "code",
      "source": [
        "# # Missing Values\n",
        "\n",
        "# Function to calculate missing values by column\n",
        "def missing_values_table(df):\n",
        "        # Total missing values\n",
        "        mis_val = df.isnull().sum()\n",
        "        \n",
        "        # Percentage of missing values\n",
        "        mis_val_percent = 100 * df.isnull().sum() / len(df)\n",
        "        \n",
        "        # Make a table with the results\n",
        "        mis_val_table = pd.concat([mis_val, mis_val_percent], axis=1)\n",
        "        \n",
        "        # Rename the columns\n",
        "        mis_val_table_ren_columns = mis_val_table.rename(\n",
        "        columns = {0 : 'Missing Values', 1 : '% of Total Values'})\n",
        "        \n",
        "        # Sort the table by percentage of missing descending\n",
        "        mis_val_table_ren_columns = mis_val_table_ren_columns[\n",
        "            mis_val_table_ren_columns.iloc[:,1] != 0].sort_values(\n",
        "        '% of Total Values', ascending=False).round(1)\n",
        "        \n",
        "        # Print some summary information\n",
        "        print (\"Your selected dataframe has \" + str(df.shape[1]) + \" columns.\\n\"      \n",
        "            \"There are \" + str(mis_val_table_ren_columns.shape[0]) +\n",
        "              \" columns that have missing values.\")\n",
        "        \n",
        "        # Return the dataframe with missing information\n",
        "        return mis_val_table_ren_columns"
      ],
      "execution_count": null,
      "outputs": []
    },
    {
      "metadata": {
        "_uuid": "254bd2f8d7e4e8082f412dfe7660f63dad43dc14",
        "trusted": true,
        "colab": {
          "base_uri": "https://localhost:8080/",
          "height": 617
        },
        "id": "w98fymO18eh4",
        "outputId": "047b58cb-e451-49a0-dbbb-90ad9eaf3d47"
      },
      "cell_type": "code",
      "source": [
        "missing_values_table(credit)\n",
        "\n",
        "# A curious thing about the table below is the last 10 features have the same number o missing values.\n",
        "# I will go deeper and figure out what is happening."
      ],
      "execution_count": null,
      "outputs": [
        {
          "output_type": "stream",
          "name": "stdout",
          "text": [
            "Your selected dataframe has 17 columns.\n",
            "There are 17 columns that have missing values.\n"
          ]
        },
        {
          "output_type": "execute_result",
          "data": {
            "text/plain": [
              "                              Missing Values  % of Total Values\n",
              "Months since last delinquent           53655               53.4\n",
              "Credit Score                           19668               19.6\n",
              "Annual Income                          19668               19.6\n",
              "Years in current job                    4736                4.7\n",
              "Bankruptcies                             718                0.7\n",
              "Tax Liens                                524                0.5\n",
              "Maximum Open Credit                      516                0.5\n",
              "Current Credit Balance                   514                0.5\n",
              "Number of Credit Problems                514                0.5\n",
              "Number of Open Accounts                  514                0.5\n",
              "Loan Status                              514                0.5\n",
              "Years of Credit History                  514                0.5\n",
              "Current Loan Amount                      514                0.5\n",
              "Purpose                                  514                0.5\n",
              "Home Ownership                           514                0.5\n",
              "Term                                     514                0.5\n",
              "Monthly Debt                             514                0.5"
            ],
            "text/html": [
              "\n",
              "  <div id=\"df-ebb9337f-c2b5-4b24-aa07-c4cace405f13\">\n",
              "    <div class=\"colab-df-container\">\n",
              "      <div>\n",
              "<style scoped>\n",
              "    .dataframe tbody tr th:only-of-type {\n",
              "        vertical-align: middle;\n",
              "    }\n",
              "\n",
              "    .dataframe tbody tr th {\n",
              "        vertical-align: top;\n",
              "    }\n",
              "\n",
              "    .dataframe thead th {\n",
              "        text-align: right;\n",
              "    }\n",
              "</style>\n",
              "<table border=\"1\" class=\"dataframe\">\n",
              "  <thead>\n",
              "    <tr style=\"text-align: right;\">\n",
              "      <th></th>\n",
              "      <th>Missing Values</th>\n",
              "      <th>% of Total Values</th>\n",
              "    </tr>\n",
              "  </thead>\n",
              "  <tbody>\n",
              "    <tr>\n",
              "      <th>Months since last delinquent</th>\n",
              "      <td>53655</td>\n",
              "      <td>53.4</td>\n",
              "    </tr>\n",
              "    <tr>\n",
              "      <th>Credit Score</th>\n",
              "      <td>19668</td>\n",
              "      <td>19.6</td>\n",
              "    </tr>\n",
              "    <tr>\n",
              "      <th>Annual Income</th>\n",
              "      <td>19668</td>\n",
              "      <td>19.6</td>\n",
              "    </tr>\n",
              "    <tr>\n",
              "      <th>Years in current job</th>\n",
              "      <td>4736</td>\n",
              "      <td>4.7</td>\n",
              "    </tr>\n",
              "    <tr>\n",
              "      <th>Bankruptcies</th>\n",
              "      <td>718</td>\n",
              "      <td>0.7</td>\n",
              "    </tr>\n",
              "    <tr>\n",
              "      <th>Tax Liens</th>\n",
              "      <td>524</td>\n",
              "      <td>0.5</td>\n",
              "    </tr>\n",
              "    <tr>\n",
              "      <th>Maximum Open Credit</th>\n",
              "      <td>516</td>\n",
              "      <td>0.5</td>\n",
              "    </tr>\n",
              "    <tr>\n",
              "      <th>Current Credit Balance</th>\n",
              "      <td>514</td>\n",
              "      <td>0.5</td>\n",
              "    </tr>\n",
              "    <tr>\n",
              "      <th>Number of Credit Problems</th>\n",
              "      <td>514</td>\n",
              "      <td>0.5</td>\n",
              "    </tr>\n",
              "    <tr>\n",
              "      <th>Number of Open Accounts</th>\n",
              "      <td>514</td>\n",
              "      <td>0.5</td>\n",
              "    </tr>\n",
              "    <tr>\n",
              "      <th>Loan Status</th>\n",
              "      <td>514</td>\n",
              "      <td>0.5</td>\n",
              "    </tr>\n",
              "    <tr>\n",
              "      <th>Years of Credit History</th>\n",
              "      <td>514</td>\n",
              "      <td>0.5</td>\n",
              "    </tr>\n",
              "    <tr>\n",
              "      <th>Current Loan Amount</th>\n",
              "      <td>514</td>\n",
              "      <td>0.5</td>\n",
              "    </tr>\n",
              "    <tr>\n",
              "      <th>Purpose</th>\n",
              "      <td>514</td>\n",
              "      <td>0.5</td>\n",
              "    </tr>\n",
              "    <tr>\n",
              "      <th>Home Ownership</th>\n",
              "      <td>514</td>\n",
              "      <td>0.5</td>\n",
              "    </tr>\n",
              "    <tr>\n",
              "      <th>Term</th>\n",
              "      <td>514</td>\n",
              "      <td>0.5</td>\n",
              "    </tr>\n",
              "    <tr>\n",
              "      <th>Monthly Debt</th>\n",
              "      <td>514</td>\n",
              "      <td>0.5</td>\n",
              "    </tr>\n",
              "  </tbody>\n",
              "</table>\n",
              "</div>\n",
              "      <button class=\"colab-df-convert\" onclick=\"convertToInteractive('df-ebb9337f-c2b5-4b24-aa07-c4cace405f13')\"\n",
              "              title=\"Convert this dataframe to an interactive table.\"\n",
              "              style=\"display:none;\">\n",
              "        \n",
              "  <svg xmlns=\"http://www.w3.org/2000/svg\" height=\"24px\"viewBox=\"0 0 24 24\"\n",
              "       width=\"24px\">\n",
              "    <path d=\"M0 0h24v24H0V0z\" fill=\"none\"/>\n",
              "    <path d=\"M18.56 5.44l.94 2.06.94-2.06 2.06-.94-2.06-.94-.94-2.06-.94 2.06-2.06.94zm-11 1L8.5 8.5l.94-2.06 2.06-.94-2.06-.94L8.5 2.5l-.94 2.06-2.06.94zm10 10l.94 2.06.94-2.06 2.06-.94-2.06-.94-.94-2.06-.94 2.06-2.06.94z\"/><path d=\"M17.41 7.96l-1.37-1.37c-.4-.4-.92-.59-1.43-.59-.52 0-1.04.2-1.43.59L10.3 9.45l-7.72 7.72c-.78.78-.78 2.05 0 2.83L4 21.41c.39.39.9.59 1.41.59.51 0 1.02-.2 1.41-.59l7.78-7.78 2.81-2.81c.8-.78.8-2.07 0-2.86zM5.41 20L4 18.59l7.72-7.72 1.47 1.35L5.41 20z\"/>\n",
              "  </svg>\n",
              "      </button>\n",
              "      \n",
              "  <style>\n",
              "    .colab-df-container {\n",
              "      display:flex;\n",
              "      flex-wrap:wrap;\n",
              "      gap: 12px;\n",
              "    }\n",
              "\n",
              "    .colab-df-convert {\n",
              "      background-color: #E8F0FE;\n",
              "      border: none;\n",
              "      border-radius: 50%;\n",
              "      cursor: pointer;\n",
              "      display: none;\n",
              "      fill: #1967D2;\n",
              "      height: 32px;\n",
              "      padding: 0 0 0 0;\n",
              "      width: 32px;\n",
              "    }\n",
              "\n",
              "    .colab-df-convert:hover {\n",
              "      background-color: #E2EBFA;\n",
              "      box-shadow: 0px 1px 2px rgba(60, 64, 67, 0.3), 0px 1px 3px 1px rgba(60, 64, 67, 0.15);\n",
              "      fill: #174EA6;\n",
              "    }\n",
              "\n",
              "    [theme=dark] .colab-df-convert {\n",
              "      background-color: #3B4455;\n",
              "      fill: #D2E3FC;\n",
              "    }\n",
              "\n",
              "    [theme=dark] .colab-df-convert:hover {\n",
              "      background-color: #434B5C;\n",
              "      box-shadow: 0px 1px 3px 1px rgba(0, 0, 0, 0.15);\n",
              "      filter: drop-shadow(0px 1px 2px rgba(0, 0, 0, 0.3));\n",
              "      fill: #FFFFFF;\n",
              "    }\n",
              "  </style>\n",
              "\n",
              "      <script>\n",
              "        const buttonEl =\n",
              "          document.querySelector('#df-ebb9337f-c2b5-4b24-aa07-c4cace405f13 button.colab-df-convert');\n",
              "        buttonEl.style.display =\n",
              "          google.colab.kernel.accessAllowed ? 'block' : 'none';\n",
              "\n",
              "        async function convertToInteractive(key) {\n",
              "          const element = document.querySelector('#df-ebb9337f-c2b5-4b24-aa07-c4cace405f13');\n",
              "          const dataTable =\n",
              "            await google.colab.kernel.invokeFunction('convertToInteractive',\n",
              "                                                     [key], {});\n",
              "          if (!dataTable) return;\n",
              "\n",
              "          const docLinkHtml = 'Like what you see? Visit the ' +\n",
              "            '<a target=\"_blank\" href=https://colab.research.google.com/notebooks/data_table.ipynb>data table notebook</a>'\n",
              "            + ' to learn more about interactive tables.';\n",
              "          element.innerHTML = '';\n",
              "          dataTable['output_type'] = 'display_data';\n",
              "          await google.colab.output.renderOutput(dataTable, element);\n",
              "          const docLink = document.createElement('div');\n",
              "          docLink.innerHTML = docLinkHtml;\n",
              "          element.appendChild(docLink);\n",
              "        }\n",
              "      </script>\n",
              "    </div>\n",
              "  </div>\n",
              "  "
            ]
          },
          "metadata": {},
          "execution_count": 10
        }
      ]
    },
    {
      "metadata": {
        "_uuid": "52ccf316384829ebc2b01d27ccf4b40aef37403c",
        "trusted": true,
        "id": "MWtf4FWi8eh5"
      },
      "cell_type": "code",
      "source": [
        "# Drop the columns with > 50% missing\n",
        "credit.drop(columns = 'Months since last delinquent', axis=1, inplace=True)"
      ],
      "execution_count": null,
      "outputs": []
    },
    {
      "metadata": {
        "_uuid": "330d0ef3e7e0732b90dccaeb56d8ce949b48b509",
        "scrolled": true,
        "trusted": true,
        "colab": {
          "base_uri": "https://localhost:8080/",
          "height": 485
        },
        "id": "Xx_GywV68eh5",
        "outputId": "49cedfbb-aefd-454a-d554-c83e075d3c30"
      },
      "cell_type": "code",
      "source": [
        "credit[credit['Years of Credit History'].isnull() == True]\n",
        "\n",
        "# Here I can see that the last 514 observations are NaN values."
      ],
      "execution_count": null,
      "outputs": [
        {
          "output_type": "execute_result",
          "data": {
            "text/plain": [
              "       Loan Status  Current Loan Amount Term  Credit Score  Annual Income  \\\n",
              "100000         NaN                  NaN  NaN           NaN            NaN   \n",
              "100001         NaN                  NaN  NaN           NaN            NaN   \n",
              "100002         NaN                  NaN  NaN           NaN            NaN   \n",
              "100003         NaN                  NaN  NaN           NaN            NaN   \n",
              "100004         NaN                  NaN  NaN           NaN            NaN   \n",
              "...            ...                  ...  ...           ...            ...   \n",
              "100509         NaN                  NaN  NaN           NaN            NaN   \n",
              "100510         NaN                  NaN  NaN           NaN            NaN   \n",
              "100511         NaN                  NaN  NaN           NaN            NaN   \n",
              "100512         NaN                  NaN  NaN           NaN            NaN   \n",
              "100513         NaN                  NaN  NaN           NaN            NaN   \n",
              "\n",
              "       Years in current job Home Ownership Purpose  Monthly Debt  \\\n",
              "100000                  NaN            NaN     NaN           NaN   \n",
              "100001                  NaN            NaN     NaN           NaN   \n",
              "100002                  NaN            NaN     NaN           NaN   \n",
              "100003                  NaN            NaN     NaN           NaN   \n",
              "100004                  NaN            NaN     NaN           NaN   \n",
              "...                     ...            ...     ...           ...   \n",
              "100509                  NaN            NaN     NaN           NaN   \n",
              "100510                  NaN            NaN     NaN           NaN   \n",
              "100511                  NaN            NaN     NaN           NaN   \n",
              "100512                  NaN            NaN     NaN           NaN   \n",
              "100513                  NaN            NaN     NaN           NaN   \n",
              "\n",
              "        Years of Credit History  Number of Open Accounts  \\\n",
              "100000                      NaN                      NaN   \n",
              "100001                      NaN                      NaN   \n",
              "100002                      NaN                      NaN   \n",
              "100003                      NaN                      NaN   \n",
              "100004                      NaN                      NaN   \n",
              "...                         ...                      ...   \n",
              "100509                      NaN                      NaN   \n",
              "100510                      NaN                      NaN   \n",
              "100511                      NaN                      NaN   \n",
              "100512                      NaN                      NaN   \n",
              "100513                      NaN                      NaN   \n",
              "\n",
              "        Number of Credit Problems  Current Credit Balance  \\\n",
              "100000                        NaN                     NaN   \n",
              "100001                        NaN                     NaN   \n",
              "100002                        NaN                     NaN   \n",
              "100003                        NaN                     NaN   \n",
              "100004                        NaN                     NaN   \n",
              "...                           ...                     ...   \n",
              "100509                        NaN                     NaN   \n",
              "100510                        NaN                     NaN   \n",
              "100511                        NaN                     NaN   \n",
              "100512                        NaN                     NaN   \n",
              "100513                        NaN                     NaN   \n",
              "\n",
              "        Maximum Open Credit  Bankruptcies  Tax Liens  \n",
              "100000                  NaN           NaN        NaN  \n",
              "100001                  NaN           NaN        NaN  \n",
              "100002                  NaN           NaN        NaN  \n",
              "100003                  NaN           NaN        NaN  \n",
              "100004                  NaN           NaN        NaN  \n",
              "...                     ...           ...        ...  \n",
              "100509                  NaN           NaN        NaN  \n",
              "100510                  NaN           NaN        NaN  \n",
              "100511                  NaN           NaN        NaN  \n",
              "100512                  NaN           NaN        NaN  \n",
              "100513                  NaN           NaN        NaN  \n",
              "\n",
              "[514 rows x 16 columns]"
            ],
            "text/html": [
              "\n",
              "  <div id=\"df-f4d6184c-9428-4c23-b4ee-705fdaa55f92\">\n",
              "    <div class=\"colab-df-container\">\n",
              "      <div>\n",
              "<style scoped>\n",
              "    .dataframe tbody tr th:only-of-type {\n",
              "        vertical-align: middle;\n",
              "    }\n",
              "\n",
              "    .dataframe tbody tr th {\n",
              "        vertical-align: top;\n",
              "    }\n",
              "\n",
              "    .dataframe thead th {\n",
              "        text-align: right;\n",
              "    }\n",
              "</style>\n",
              "<table border=\"1\" class=\"dataframe\">\n",
              "  <thead>\n",
              "    <tr style=\"text-align: right;\">\n",
              "      <th></th>\n",
              "      <th>Loan Status</th>\n",
              "      <th>Current Loan Amount</th>\n",
              "      <th>Term</th>\n",
              "      <th>Credit Score</th>\n",
              "      <th>Annual Income</th>\n",
              "      <th>Years in current job</th>\n",
              "      <th>Home Ownership</th>\n",
              "      <th>Purpose</th>\n",
              "      <th>Monthly Debt</th>\n",
              "      <th>Years of Credit History</th>\n",
              "      <th>Number of Open Accounts</th>\n",
              "      <th>Number of Credit Problems</th>\n",
              "      <th>Current Credit Balance</th>\n",
              "      <th>Maximum Open Credit</th>\n",
              "      <th>Bankruptcies</th>\n",
              "      <th>Tax Liens</th>\n",
              "    </tr>\n",
              "  </thead>\n",
              "  <tbody>\n",
              "    <tr>\n",
              "      <th>100000</th>\n",
              "      <td>NaN</td>\n",
              "      <td>NaN</td>\n",
              "      <td>NaN</td>\n",
              "      <td>NaN</td>\n",
              "      <td>NaN</td>\n",
              "      <td>NaN</td>\n",
              "      <td>NaN</td>\n",
              "      <td>NaN</td>\n",
              "      <td>NaN</td>\n",
              "      <td>NaN</td>\n",
              "      <td>NaN</td>\n",
              "      <td>NaN</td>\n",
              "      <td>NaN</td>\n",
              "      <td>NaN</td>\n",
              "      <td>NaN</td>\n",
              "      <td>NaN</td>\n",
              "    </tr>\n",
              "    <tr>\n",
              "      <th>100001</th>\n",
              "      <td>NaN</td>\n",
              "      <td>NaN</td>\n",
              "      <td>NaN</td>\n",
              "      <td>NaN</td>\n",
              "      <td>NaN</td>\n",
              "      <td>NaN</td>\n",
              "      <td>NaN</td>\n",
              "      <td>NaN</td>\n",
              "      <td>NaN</td>\n",
              "      <td>NaN</td>\n",
              "      <td>NaN</td>\n",
              "      <td>NaN</td>\n",
              "      <td>NaN</td>\n",
              "      <td>NaN</td>\n",
              "      <td>NaN</td>\n",
              "      <td>NaN</td>\n",
              "    </tr>\n",
              "    <tr>\n",
              "      <th>100002</th>\n",
              "      <td>NaN</td>\n",
              "      <td>NaN</td>\n",
              "      <td>NaN</td>\n",
              "      <td>NaN</td>\n",
              "      <td>NaN</td>\n",
              "      <td>NaN</td>\n",
              "      <td>NaN</td>\n",
              "      <td>NaN</td>\n",
              "      <td>NaN</td>\n",
              "      <td>NaN</td>\n",
              "      <td>NaN</td>\n",
              "      <td>NaN</td>\n",
              "      <td>NaN</td>\n",
              "      <td>NaN</td>\n",
              "      <td>NaN</td>\n",
              "      <td>NaN</td>\n",
              "    </tr>\n",
              "    <tr>\n",
              "      <th>100003</th>\n",
              "      <td>NaN</td>\n",
              "      <td>NaN</td>\n",
              "      <td>NaN</td>\n",
              "      <td>NaN</td>\n",
              "      <td>NaN</td>\n",
              "      <td>NaN</td>\n",
              "      <td>NaN</td>\n",
              "      <td>NaN</td>\n",
              "      <td>NaN</td>\n",
              "      <td>NaN</td>\n",
              "      <td>NaN</td>\n",
              "      <td>NaN</td>\n",
              "      <td>NaN</td>\n",
              "      <td>NaN</td>\n",
              "      <td>NaN</td>\n",
              "      <td>NaN</td>\n",
              "    </tr>\n",
              "    <tr>\n",
              "      <th>100004</th>\n",
              "      <td>NaN</td>\n",
              "      <td>NaN</td>\n",
              "      <td>NaN</td>\n",
              "      <td>NaN</td>\n",
              "      <td>NaN</td>\n",
              "      <td>NaN</td>\n",
              "      <td>NaN</td>\n",
              "      <td>NaN</td>\n",
              "      <td>NaN</td>\n",
              "      <td>NaN</td>\n",
              "      <td>NaN</td>\n",
              "      <td>NaN</td>\n",
              "      <td>NaN</td>\n",
              "      <td>NaN</td>\n",
              "      <td>NaN</td>\n",
              "      <td>NaN</td>\n",
              "    </tr>\n",
              "    <tr>\n",
              "      <th>...</th>\n",
              "      <td>...</td>\n",
              "      <td>...</td>\n",
              "      <td>...</td>\n",
              "      <td>...</td>\n",
              "      <td>...</td>\n",
              "      <td>...</td>\n",
              "      <td>...</td>\n",
              "      <td>...</td>\n",
              "      <td>...</td>\n",
              "      <td>...</td>\n",
              "      <td>...</td>\n",
              "      <td>...</td>\n",
              "      <td>...</td>\n",
              "      <td>...</td>\n",
              "      <td>...</td>\n",
              "      <td>...</td>\n",
              "    </tr>\n",
              "    <tr>\n",
              "      <th>100509</th>\n",
              "      <td>NaN</td>\n",
              "      <td>NaN</td>\n",
              "      <td>NaN</td>\n",
              "      <td>NaN</td>\n",
              "      <td>NaN</td>\n",
              "      <td>NaN</td>\n",
              "      <td>NaN</td>\n",
              "      <td>NaN</td>\n",
              "      <td>NaN</td>\n",
              "      <td>NaN</td>\n",
              "      <td>NaN</td>\n",
              "      <td>NaN</td>\n",
              "      <td>NaN</td>\n",
              "      <td>NaN</td>\n",
              "      <td>NaN</td>\n",
              "      <td>NaN</td>\n",
              "    </tr>\n",
              "    <tr>\n",
              "      <th>100510</th>\n",
              "      <td>NaN</td>\n",
              "      <td>NaN</td>\n",
              "      <td>NaN</td>\n",
              "      <td>NaN</td>\n",
              "      <td>NaN</td>\n",
              "      <td>NaN</td>\n",
              "      <td>NaN</td>\n",
              "      <td>NaN</td>\n",
              "      <td>NaN</td>\n",
              "      <td>NaN</td>\n",
              "      <td>NaN</td>\n",
              "      <td>NaN</td>\n",
              "      <td>NaN</td>\n",
              "      <td>NaN</td>\n",
              "      <td>NaN</td>\n",
              "      <td>NaN</td>\n",
              "    </tr>\n",
              "    <tr>\n",
              "      <th>100511</th>\n",
              "      <td>NaN</td>\n",
              "      <td>NaN</td>\n",
              "      <td>NaN</td>\n",
              "      <td>NaN</td>\n",
              "      <td>NaN</td>\n",
              "      <td>NaN</td>\n",
              "      <td>NaN</td>\n",
              "      <td>NaN</td>\n",
              "      <td>NaN</td>\n",
              "      <td>NaN</td>\n",
              "      <td>NaN</td>\n",
              "      <td>NaN</td>\n",
              "      <td>NaN</td>\n",
              "      <td>NaN</td>\n",
              "      <td>NaN</td>\n",
              "      <td>NaN</td>\n",
              "    </tr>\n",
              "    <tr>\n",
              "      <th>100512</th>\n",
              "      <td>NaN</td>\n",
              "      <td>NaN</td>\n",
              "      <td>NaN</td>\n",
              "      <td>NaN</td>\n",
              "      <td>NaN</td>\n",
              "      <td>NaN</td>\n",
              "      <td>NaN</td>\n",
              "      <td>NaN</td>\n",
              "      <td>NaN</td>\n",
              "      <td>NaN</td>\n",
              "      <td>NaN</td>\n",
              "      <td>NaN</td>\n",
              "      <td>NaN</td>\n",
              "      <td>NaN</td>\n",
              "      <td>NaN</td>\n",
              "      <td>NaN</td>\n",
              "    </tr>\n",
              "    <tr>\n",
              "      <th>100513</th>\n",
              "      <td>NaN</td>\n",
              "      <td>NaN</td>\n",
              "      <td>NaN</td>\n",
              "      <td>NaN</td>\n",
              "      <td>NaN</td>\n",
              "      <td>NaN</td>\n",
              "      <td>NaN</td>\n",
              "      <td>NaN</td>\n",
              "      <td>NaN</td>\n",
              "      <td>NaN</td>\n",
              "      <td>NaN</td>\n",
              "      <td>NaN</td>\n",
              "      <td>NaN</td>\n",
              "      <td>NaN</td>\n",
              "      <td>NaN</td>\n",
              "      <td>NaN</td>\n",
              "    </tr>\n",
              "  </tbody>\n",
              "</table>\n",
              "<p>514 rows × 16 columns</p>\n",
              "</div>\n",
              "      <button class=\"colab-df-convert\" onclick=\"convertToInteractive('df-f4d6184c-9428-4c23-b4ee-705fdaa55f92')\"\n",
              "              title=\"Convert this dataframe to an interactive table.\"\n",
              "              style=\"display:none;\">\n",
              "        \n",
              "  <svg xmlns=\"http://www.w3.org/2000/svg\" height=\"24px\"viewBox=\"0 0 24 24\"\n",
              "       width=\"24px\">\n",
              "    <path d=\"M0 0h24v24H0V0z\" fill=\"none\"/>\n",
              "    <path d=\"M18.56 5.44l.94 2.06.94-2.06 2.06-.94-2.06-.94-.94-2.06-.94 2.06-2.06.94zm-11 1L8.5 8.5l.94-2.06 2.06-.94-2.06-.94L8.5 2.5l-.94 2.06-2.06.94zm10 10l.94 2.06.94-2.06 2.06-.94-2.06-.94-.94-2.06-.94 2.06-2.06.94z\"/><path d=\"M17.41 7.96l-1.37-1.37c-.4-.4-.92-.59-1.43-.59-.52 0-1.04.2-1.43.59L10.3 9.45l-7.72 7.72c-.78.78-.78 2.05 0 2.83L4 21.41c.39.39.9.59 1.41.59.51 0 1.02-.2 1.41-.59l7.78-7.78 2.81-2.81c.8-.78.8-2.07 0-2.86zM5.41 20L4 18.59l7.72-7.72 1.47 1.35L5.41 20z\"/>\n",
              "  </svg>\n",
              "      </button>\n",
              "      \n",
              "  <style>\n",
              "    .colab-df-container {\n",
              "      display:flex;\n",
              "      flex-wrap:wrap;\n",
              "      gap: 12px;\n",
              "    }\n",
              "\n",
              "    .colab-df-convert {\n",
              "      background-color: #E8F0FE;\n",
              "      border: none;\n",
              "      border-radius: 50%;\n",
              "      cursor: pointer;\n",
              "      display: none;\n",
              "      fill: #1967D2;\n",
              "      height: 32px;\n",
              "      padding: 0 0 0 0;\n",
              "      width: 32px;\n",
              "    }\n",
              "\n",
              "    .colab-df-convert:hover {\n",
              "      background-color: #E2EBFA;\n",
              "      box-shadow: 0px 1px 2px rgba(60, 64, 67, 0.3), 0px 1px 3px 1px rgba(60, 64, 67, 0.15);\n",
              "      fill: #174EA6;\n",
              "    }\n",
              "\n",
              "    [theme=dark] .colab-df-convert {\n",
              "      background-color: #3B4455;\n",
              "      fill: #D2E3FC;\n",
              "    }\n",
              "\n",
              "    [theme=dark] .colab-df-convert:hover {\n",
              "      background-color: #434B5C;\n",
              "      box-shadow: 0px 1px 3px 1px rgba(0, 0, 0, 0.15);\n",
              "      filter: drop-shadow(0px 1px 2px rgba(0, 0, 0, 0.3));\n",
              "      fill: #FFFFFF;\n",
              "    }\n",
              "  </style>\n",
              "\n",
              "      <script>\n",
              "        const buttonEl =\n",
              "          document.querySelector('#df-f4d6184c-9428-4c23-b4ee-705fdaa55f92 button.colab-df-convert');\n",
              "        buttonEl.style.display =\n",
              "          google.colab.kernel.accessAllowed ? 'block' : 'none';\n",
              "\n",
              "        async function convertToInteractive(key) {\n",
              "          const element = document.querySelector('#df-f4d6184c-9428-4c23-b4ee-705fdaa55f92');\n",
              "          const dataTable =\n",
              "            await google.colab.kernel.invokeFunction('convertToInteractive',\n",
              "                                                     [key], {});\n",
              "          if (!dataTable) return;\n",
              "\n",
              "          const docLinkHtml = 'Like what you see? Visit the ' +\n",
              "            '<a target=\"_blank\" href=https://colab.research.google.com/notebooks/data_table.ipynb>data table notebook</a>'\n",
              "            + ' to learn more about interactive tables.';\n",
              "          element.innerHTML = '';\n",
              "          dataTable['output_type'] = 'display_data';\n",
              "          await google.colab.output.renderOutput(dataTable, element);\n",
              "          const docLink = document.createElement('div');\n",
              "          docLink.innerHTML = docLinkHtml;\n",
              "          element.appendChild(docLink);\n",
              "        }\n",
              "      </script>\n",
              "    </div>\n",
              "  </div>\n",
              "  "
            ]
          },
          "metadata": {},
          "execution_count": 12
        }
      ]
    },
    {
      "metadata": {
        "_uuid": "72df239d275ad726663669430043430d43477bec",
        "trusted": true,
        "colab": {
          "base_uri": "https://localhost:8080/",
          "height": 272
        },
        "id": "bglSJHN08eh6",
        "outputId": "7acb8719-4508-4acd-95c8-f2f3b9c12fac"
      },
      "cell_type": "code",
      "source": [
        "credit.drop(credit.tail(514).index, inplace=True) # drop last 514 rows\n",
        "missing_values_table(credit)"
      ],
      "execution_count": null,
      "outputs": [
        {
          "output_type": "stream",
          "name": "stdout",
          "text": [
            "Your selected dataframe has 16 columns.\n",
            "There are 6 columns that have missing values.\n"
          ]
        },
        {
          "output_type": "execute_result",
          "data": {
            "text/plain": [
              "                      Missing Values  % of Total Values\n",
              "Credit Score                   19154               19.2\n",
              "Annual Income                  19154               19.2\n",
              "Years in current job            4222                4.2\n",
              "Bankruptcies                     204                0.2\n",
              "Tax Liens                         10                0.0\n",
              "Maximum Open Credit                2                0.0"
            ],
            "text/html": [
              "\n",
              "  <div id=\"df-9f1e20bc-2aab-464c-a42d-600af7ed517c\">\n",
              "    <div class=\"colab-df-container\">\n",
              "      <div>\n",
              "<style scoped>\n",
              "    .dataframe tbody tr th:only-of-type {\n",
              "        vertical-align: middle;\n",
              "    }\n",
              "\n",
              "    .dataframe tbody tr th {\n",
              "        vertical-align: top;\n",
              "    }\n",
              "\n",
              "    .dataframe thead th {\n",
              "        text-align: right;\n",
              "    }\n",
              "</style>\n",
              "<table border=\"1\" class=\"dataframe\">\n",
              "  <thead>\n",
              "    <tr style=\"text-align: right;\">\n",
              "      <th></th>\n",
              "      <th>Missing Values</th>\n",
              "      <th>% of Total Values</th>\n",
              "    </tr>\n",
              "  </thead>\n",
              "  <tbody>\n",
              "    <tr>\n",
              "      <th>Credit Score</th>\n",
              "      <td>19154</td>\n",
              "      <td>19.2</td>\n",
              "    </tr>\n",
              "    <tr>\n",
              "      <th>Annual Income</th>\n",
              "      <td>19154</td>\n",
              "      <td>19.2</td>\n",
              "    </tr>\n",
              "    <tr>\n",
              "      <th>Years in current job</th>\n",
              "      <td>4222</td>\n",
              "      <td>4.2</td>\n",
              "    </tr>\n",
              "    <tr>\n",
              "      <th>Bankruptcies</th>\n",
              "      <td>204</td>\n",
              "      <td>0.2</td>\n",
              "    </tr>\n",
              "    <tr>\n",
              "      <th>Tax Liens</th>\n",
              "      <td>10</td>\n",
              "      <td>0.0</td>\n",
              "    </tr>\n",
              "    <tr>\n",
              "      <th>Maximum Open Credit</th>\n",
              "      <td>2</td>\n",
              "      <td>0.0</td>\n",
              "    </tr>\n",
              "  </tbody>\n",
              "</table>\n",
              "</div>\n",
              "      <button class=\"colab-df-convert\" onclick=\"convertToInteractive('df-9f1e20bc-2aab-464c-a42d-600af7ed517c')\"\n",
              "              title=\"Convert this dataframe to an interactive table.\"\n",
              "              style=\"display:none;\">\n",
              "        \n",
              "  <svg xmlns=\"http://www.w3.org/2000/svg\" height=\"24px\"viewBox=\"0 0 24 24\"\n",
              "       width=\"24px\">\n",
              "    <path d=\"M0 0h24v24H0V0z\" fill=\"none\"/>\n",
              "    <path d=\"M18.56 5.44l.94 2.06.94-2.06 2.06-.94-2.06-.94-.94-2.06-.94 2.06-2.06.94zm-11 1L8.5 8.5l.94-2.06 2.06-.94-2.06-.94L8.5 2.5l-.94 2.06-2.06.94zm10 10l.94 2.06.94-2.06 2.06-.94-2.06-.94-.94-2.06-.94 2.06-2.06.94z\"/><path d=\"M17.41 7.96l-1.37-1.37c-.4-.4-.92-.59-1.43-.59-.52 0-1.04.2-1.43.59L10.3 9.45l-7.72 7.72c-.78.78-.78 2.05 0 2.83L4 21.41c.39.39.9.59 1.41.59.51 0 1.02-.2 1.41-.59l7.78-7.78 2.81-2.81c.8-.78.8-2.07 0-2.86zM5.41 20L4 18.59l7.72-7.72 1.47 1.35L5.41 20z\"/>\n",
              "  </svg>\n",
              "      </button>\n",
              "      \n",
              "  <style>\n",
              "    .colab-df-container {\n",
              "      display:flex;\n",
              "      flex-wrap:wrap;\n",
              "      gap: 12px;\n",
              "    }\n",
              "\n",
              "    .colab-df-convert {\n",
              "      background-color: #E8F0FE;\n",
              "      border: none;\n",
              "      border-radius: 50%;\n",
              "      cursor: pointer;\n",
              "      display: none;\n",
              "      fill: #1967D2;\n",
              "      height: 32px;\n",
              "      padding: 0 0 0 0;\n",
              "      width: 32px;\n",
              "    }\n",
              "\n",
              "    .colab-df-convert:hover {\n",
              "      background-color: #E2EBFA;\n",
              "      box-shadow: 0px 1px 2px rgba(60, 64, 67, 0.3), 0px 1px 3px 1px rgba(60, 64, 67, 0.15);\n",
              "      fill: #174EA6;\n",
              "    }\n",
              "\n",
              "    [theme=dark] .colab-df-convert {\n",
              "      background-color: #3B4455;\n",
              "      fill: #D2E3FC;\n",
              "    }\n",
              "\n",
              "    [theme=dark] .colab-df-convert:hover {\n",
              "      background-color: #434B5C;\n",
              "      box-shadow: 0px 1px 3px 1px rgba(0, 0, 0, 0.15);\n",
              "      filter: drop-shadow(0px 1px 2px rgba(0, 0, 0, 0.3));\n",
              "      fill: #FFFFFF;\n",
              "    }\n",
              "  </style>\n",
              "\n",
              "      <script>\n",
              "        const buttonEl =\n",
              "          document.querySelector('#df-9f1e20bc-2aab-464c-a42d-600af7ed517c button.colab-df-convert');\n",
              "        buttonEl.style.display =\n",
              "          google.colab.kernel.accessAllowed ? 'block' : 'none';\n",
              "\n",
              "        async function convertToInteractive(key) {\n",
              "          const element = document.querySelector('#df-9f1e20bc-2aab-464c-a42d-600af7ed517c');\n",
              "          const dataTable =\n",
              "            await google.colab.kernel.invokeFunction('convertToInteractive',\n",
              "                                                     [key], {});\n",
              "          if (!dataTable) return;\n",
              "\n",
              "          const docLinkHtml = 'Like what you see? Visit the ' +\n",
              "            '<a target=\"_blank\" href=https://colab.research.google.com/notebooks/data_table.ipynb>data table notebook</a>'\n",
              "            + ' to learn more about interactive tables.';\n",
              "          element.innerHTML = '';\n",
              "          dataTable['output_type'] = 'display_data';\n",
              "          await google.colab.output.renderOutput(dataTable, element);\n",
              "          const docLink = document.createElement('div');\n",
              "          docLink.innerHTML = docLinkHtml;\n",
              "          element.appendChild(docLink);\n",
              "        }\n",
              "      </script>\n",
              "    </div>\n",
              "  </div>\n",
              "  "
            ]
          },
          "metadata": {},
          "execution_count": 13
        }
      ]
    },
    {
      "metadata": {
        "_uuid": "f37c96f849e1a0505bf6dab39e377d115957662a",
        "trusted": true,
        "colab": {
          "base_uri": "https://localhost:8080/",
          "height": 241
        },
        "id": "44rS3Yjz8eh6",
        "outputId": "cf37a15b-3f8a-4ce9-f267-1629905dde9b"
      },
      "cell_type": "code",
      "source": [
        "# As the number of missing values is so low in the 'Maximum Open Credit' I will drop them.\n",
        "\n",
        "for i in credit['Maximum Open Credit'][credit['Maximum Open Credit'].isnull() == True].index:\n",
        "    credit.drop(labels=i, inplace=True)\n",
        "missing_values_table(credit)"
      ],
      "execution_count": null,
      "outputs": [
        {
          "output_type": "stream",
          "name": "stdout",
          "text": [
            "Your selected dataframe has 16 columns.\n",
            "There are 5 columns that have missing values.\n"
          ]
        },
        {
          "output_type": "execute_result",
          "data": {
            "text/plain": [
              "                      Missing Values  % of Total Values\n",
              "Credit Score                   19153               19.2\n",
              "Annual Income                  19153               19.2\n",
              "Years in current job            4222                4.2\n",
              "Bankruptcies                     204                0.2\n",
              "Tax Liens                         10                0.0"
            ],
            "text/html": [
              "\n",
              "  <div id=\"df-d9634163-2316-4b5a-8a25-85d377bb9d62\">\n",
              "    <div class=\"colab-df-container\">\n",
              "      <div>\n",
              "<style scoped>\n",
              "    .dataframe tbody tr th:only-of-type {\n",
              "        vertical-align: middle;\n",
              "    }\n",
              "\n",
              "    .dataframe tbody tr th {\n",
              "        vertical-align: top;\n",
              "    }\n",
              "\n",
              "    .dataframe thead th {\n",
              "        text-align: right;\n",
              "    }\n",
              "</style>\n",
              "<table border=\"1\" class=\"dataframe\">\n",
              "  <thead>\n",
              "    <tr style=\"text-align: right;\">\n",
              "      <th></th>\n",
              "      <th>Missing Values</th>\n",
              "      <th>% of Total Values</th>\n",
              "    </tr>\n",
              "  </thead>\n",
              "  <tbody>\n",
              "    <tr>\n",
              "      <th>Credit Score</th>\n",
              "      <td>19153</td>\n",
              "      <td>19.2</td>\n",
              "    </tr>\n",
              "    <tr>\n",
              "      <th>Annual Income</th>\n",
              "      <td>19153</td>\n",
              "      <td>19.2</td>\n",
              "    </tr>\n",
              "    <tr>\n",
              "      <th>Years in current job</th>\n",
              "      <td>4222</td>\n",
              "      <td>4.2</td>\n",
              "    </tr>\n",
              "    <tr>\n",
              "      <th>Bankruptcies</th>\n",
              "      <td>204</td>\n",
              "      <td>0.2</td>\n",
              "    </tr>\n",
              "    <tr>\n",
              "      <th>Tax Liens</th>\n",
              "      <td>10</td>\n",
              "      <td>0.0</td>\n",
              "    </tr>\n",
              "  </tbody>\n",
              "</table>\n",
              "</div>\n",
              "      <button class=\"colab-df-convert\" onclick=\"convertToInteractive('df-d9634163-2316-4b5a-8a25-85d377bb9d62')\"\n",
              "              title=\"Convert this dataframe to an interactive table.\"\n",
              "              style=\"display:none;\">\n",
              "        \n",
              "  <svg xmlns=\"http://www.w3.org/2000/svg\" height=\"24px\"viewBox=\"0 0 24 24\"\n",
              "       width=\"24px\">\n",
              "    <path d=\"M0 0h24v24H0V0z\" fill=\"none\"/>\n",
              "    <path d=\"M18.56 5.44l.94 2.06.94-2.06 2.06-.94-2.06-.94-.94-2.06-.94 2.06-2.06.94zm-11 1L8.5 8.5l.94-2.06 2.06-.94-2.06-.94L8.5 2.5l-.94 2.06-2.06.94zm10 10l.94 2.06.94-2.06 2.06-.94-2.06-.94-.94-2.06-.94 2.06-2.06.94z\"/><path d=\"M17.41 7.96l-1.37-1.37c-.4-.4-.92-.59-1.43-.59-.52 0-1.04.2-1.43.59L10.3 9.45l-7.72 7.72c-.78.78-.78 2.05 0 2.83L4 21.41c.39.39.9.59 1.41.59.51 0 1.02-.2 1.41-.59l7.78-7.78 2.81-2.81c.8-.78.8-2.07 0-2.86zM5.41 20L4 18.59l7.72-7.72 1.47 1.35L5.41 20z\"/>\n",
              "  </svg>\n",
              "      </button>\n",
              "      \n",
              "  <style>\n",
              "    .colab-df-container {\n",
              "      display:flex;\n",
              "      flex-wrap:wrap;\n",
              "      gap: 12px;\n",
              "    }\n",
              "\n",
              "    .colab-df-convert {\n",
              "      background-color: #E8F0FE;\n",
              "      border: none;\n",
              "      border-radius: 50%;\n",
              "      cursor: pointer;\n",
              "      display: none;\n",
              "      fill: #1967D2;\n",
              "      height: 32px;\n",
              "      padding: 0 0 0 0;\n",
              "      width: 32px;\n",
              "    }\n",
              "\n",
              "    .colab-df-convert:hover {\n",
              "      background-color: #E2EBFA;\n",
              "      box-shadow: 0px 1px 2px rgba(60, 64, 67, 0.3), 0px 1px 3px 1px rgba(60, 64, 67, 0.15);\n",
              "      fill: #174EA6;\n",
              "    }\n",
              "\n",
              "    [theme=dark] .colab-df-convert {\n",
              "      background-color: #3B4455;\n",
              "      fill: #D2E3FC;\n",
              "    }\n",
              "\n",
              "    [theme=dark] .colab-df-convert:hover {\n",
              "      background-color: #434B5C;\n",
              "      box-shadow: 0px 1px 3px 1px rgba(0, 0, 0, 0.15);\n",
              "      filter: drop-shadow(0px 1px 2px rgba(0, 0, 0, 0.3));\n",
              "      fill: #FFFFFF;\n",
              "    }\n",
              "  </style>\n",
              "\n",
              "      <script>\n",
              "        const buttonEl =\n",
              "          document.querySelector('#df-d9634163-2316-4b5a-8a25-85d377bb9d62 button.colab-df-convert');\n",
              "        buttonEl.style.display =\n",
              "          google.colab.kernel.accessAllowed ? 'block' : 'none';\n",
              "\n",
              "        async function convertToInteractive(key) {\n",
              "          const element = document.querySelector('#df-d9634163-2316-4b5a-8a25-85d377bb9d62');\n",
              "          const dataTable =\n",
              "            await google.colab.kernel.invokeFunction('convertToInteractive',\n",
              "                                                     [key], {});\n",
              "          if (!dataTable) return;\n",
              "\n",
              "          const docLinkHtml = 'Like what you see? Visit the ' +\n",
              "            '<a target=\"_blank\" href=https://colab.research.google.com/notebooks/data_table.ipynb>data table notebook</a>'\n",
              "            + ' to learn more about interactive tables.';\n",
              "          element.innerHTML = '';\n",
              "          dataTable['output_type'] = 'display_data';\n",
              "          await google.colab.output.renderOutput(dataTable, element);\n",
              "          const docLink = document.createElement('div');\n",
              "          docLink.innerHTML = docLinkHtml;\n",
              "          element.appendChild(docLink);\n",
              "        }\n",
              "      </script>\n",
              "    </div>\n",
              "  </div>\n",
              "  "
            ]
          },
          "metadata": {},
          "execution_count": 14
        }
      ]
    },
    {
      "metadata": {
        "_uuid": "1400de3e7f5be2188f94b6b41723ce8976adc3d2",
        "trusted": true,
        "colab": {
          "base_uri": "https://localhost:8080/",
          "height": 209
        },
        "id": "sq0Uisq08eh7",
        "outputId": "5c555c24-3cf8-4116-912a-94c2b543eab5"
      },
      "cell_type": "code",
      "source": [
        "# As the number of missing values is so low in the 'Tax Liens' I will drop them.\n",
        "\n",
        "for i in credit['Tax Liens'][credit['Tax Liens'].isnull() == True].index:\n",
        "    credit.drop(labels=i, inplace=True)\n",
        "missing_values_table(credit)"
      ],
      "execution_count": null,
      "outputs": [
        {
          "output_type": "stream",
          "name": "stdout",
          "text": [
            "Your selected dataframe has 16 columns.\n",
            "There are 4 columns that have missing values.\n"
          ]
        },
        {
          "output_type": "execute_result",
          "data": {
            "text/plain": [
              "                      Missing Values  % of Total Values\n",
              "Credit Score                   19149               19.2\n",
              "Annual Income                  19149               19.2\n",
              "Years in current job            4222                4.2\n",
              "Bankruptcies                     194                0.2"
            ],
            "text/html": [
              "\n",
              "  <div id=\"df-5ab64ee2-4eb3-493d-b1d3-577ed0598ed8\">\n",
              "    <div class=\"colab-df-container\">\n",
              "      <div>\n",
              "<style scoped>\n",
              "    .dataframe tbody tr th:only-of-type {\n",
              "        vertical-align: middle;\n",
              "    }\n",
              "\n",
              "    .dataframe tbody tr th {\n",
              "        vertical-align: top;\n",
              "    }\n",
              "\n",
              "    .dataframe thead th {\n",
              "        text-align: right;\n",
              "    }\n",
              "</style>\n",
              "<table border=\"1\" class=\"dataframe\">\n",
              "  <thead>\n",
              "    <tr style=\"text-align: right;\">\n",
              "      <th></th>\n",
              "      <th>Missing Values</th>\n",
              "      <th>% of Total Values</th>\n",
              "    </tr>\n",
              "  </thead>\n",
              "  <tbody>\n",
              "    <tr>\n",
              "      <th>Credit Score</th>\n",
              "      <td>19149</td>\n",
              "      <td>19.2</td>\n",
              "    </tr>\n",
              "    <tr>\n",
              "      <th>Annual Income</th>\n",
              "      <td>19149</td>\n",
              "      <td>19.2</td>\n",
              "    </tr>\n",
              "    <tr>\n",
              "      <th>Years in current job</th>\n",
              "      <td>4222</td>\n",
              "      <td>4.2</td>\n",
              "    </tr>\n",
              "    <tr>\n",
              "      <th>Bankruptcies</th>\n",
              "      <td>194</td>\n",
              "      <td>0.2</td>\n",
              "    </tr>\n",
              "  </tbody>\n",
              "</table>\n",
              "</div>\n",
              "      <button class=\"colab-df-convert\" onclick=\"convertToInteractive('df-5ab64ee2-4eb3-493d-b1d3-577ed0598ed8')\"\n",
              "              title=\"Convert this dataframe to an interactive table.\"\n",
              "              style=\"display:none;\">\n",
              "        \n",
              "  <svg xmlns=\"http://www.w3.org/2000/svg\" height=\"24px\"viewBox=\"0 0 24 24\"\n",
              "       width=\"24px\">\n",
              "    <path d=\"M0 0h24v24H0V0z\" fill=\"none\"/>\n",
              "    <path d=\"M18.56 5.44l.94 2.06.94-2.06 2.06-.94-2.06-.94-.94-2.06-.94 2.06-2.06.94zm-11 1L8.5 8.5l.94-2.06 2.06-.94-2.06-.94L8.5 2.5l-.94 2.06-2.06.94zm10 10l.94 2.06.94-2.06 2.06-.94-2.06-.94-.94-2.06-.94 2.06-2.06.94z\"/><path d=\"M17.41 7.96l-1.37-1.37c-.4-.4-.92-.59-1.43-.59-.52 0-1.04.2-1.43.59L10.3 9.45l-7.72 7.72c-.78.78-.78 2.05 0 2.83L4 21.41c.39.39.9.59 1.41.59.51 0 1.02-.2 1.41-.59l7.78-7.78 2.81-2.81c.8-.78.8-2.07 0-2.86zM5.41 20L4 18.59l7.72-7.72 1.47 1.35L5.41 20z\"/>\n",
              "  </svg>\n",
              "      </button>\n",
              "      \n",
              "  <style>\n",
              "    .colab-df-container {\n",
              "      display:flex;\n",
              "      flex-wrap:wrap;\n",
              "      gap: 12px;\n",
              "    }\n",
              "\n",
              "    .colab-df-convert {\n",
              "      background-color: #E8F0FE;\n",
              "      border: none;\n",
              "      border-radius: 50%;\n",
              "      cursor: pointer;\n",
              "      display: none;\n",
              "      fill: #1967D2;\n",
              "      height: 32px;\n",
              "      padding: 0 0 0 0;\n",
              "      width: 32px;\n",
              "    }\n",
              "\n",
              "    .colab-df-convert:hover {\n",
              "      background-color: #E2EBFA;\n",
              "      box-shadow: 0px 1px 2px rgba(60, 64, 67, 0.3), 0px 1px 3px 1px rgba(60, 64, 67, 0.15);\n",
              "      fill: #174EA6;\n",
              "    }\n",
              "\n",
              "    [theme=dark] .colab-df-convert {\n",
              "      background-color: #3B4455;\n",
              "      fill: #D2E3FC;\n",
              "    }\n",
              "\n",
              "    [theme=dark] .colab-df-convert:hover {\n",
              "      background-color: #434B5C;\n",
              "      box-shadow: 0px 1px 3px 1px rgba(0, 0, 0, 0.15);\n",
              "      filter: drop-shadow(0px 1px 2px rgba(0, 0, 0, 0.3));\n",
              "      fill: #FFFFFF;\n",
              "    }\n",
              "  </style>\n",
              "\n",
              "      <script>\n",
              "        const buttonEl =\n",
              "          document.querySelector('#df-5ab64ee2-4eb3-493d-b1d3-577ed0598ed8 button.colab-df-convert');\n",
              "        buttonEl.style.display =\n",
              "          google.colab.kernel.accessAllowed ? 'block' : 'none';\n",
              "\n",
              "        async function convertToInteractive(key) {\n",
              "          const element = document.querySelector('#df-5ab64ee2-4eb3-493d-b1d3-577ed0598ed8');\n",
              "          const dataTable =\n",
              "            await google.colab.kernel.invokeFunction('convertToInteractive',\n",
              "                                                     [key], {});\n",
              "          if (!dataTable) return;\n",
              "\n",
              "          const docLinkHtml = 'Like what you see? Visit the ' +\n",
              "            '<a target=\"_blank\" href=https://colab.research.google.com/notebooks/data_table.ipynb>data table notebook</a>'\n",
              "            + ' to learn more about interactive tables.';\n",
              "          element.innerHTML = '';\n",
              "          dataTable['output_type'] = 'display_data';\n",
              "          await google.colab.output.renderOutput(dataTable, element);\n",
              "          const docLink = document.createElement('div');\n",
              "          docLink.innerHTML = docLinkHtml;\n",
              "          element.appendChild(docLink);\n",
              "        }\n",
              "      </script>\n",
              "    </div>\n",
              "  </div>\n",
              "  "
            ]
          },
          "metadata": {},
          "execution_count": 15
        }
      ]
    },
    {
      "metadata": {
        "_uuid": "61a666542aade522dbb48c908dcf7caf7ecd603d",
        "trusted": true,
        "colab": {
          "base_uri": "https://localhost:8080/",
          "height": 178
        },
        "id": "W02fsW-i8eh7",
        "outputId": "77160148-4d79-4dc3-d912-1f54e50d6786"
      },
      "cell_type": "code",
      "source": [
        "# As the number of missing values is so low in the 'Bankruptcies' I will drop them.\n",
        "\n",
        "for i in credit['Bankruptcies'][credit['Bankruptcies'].isnull() == True].index:\n",
        "    credit.drop(labels=i, inplace=True)\n",
        "missing_values_table(credit)\n"
      ],
      "execution_count": null,
      "outputs": [
        {
          "output_type": "stream",
          "name": "stdout",
          "text": [
            "Your selected dataframe has 16 columns.\n",
            "There are 3 columns that have missing values.\n"
          ]
        },
        {
          "output_type": "execute_result",
          "data": {
            "text/plain": [
              "                      Missing Values  % of Total Values\n",
              "Credit Score                   19111               19.2\n",
              "Annual Income                  19111               19.2\n",
              "Years in current job            4222                4.2"
            ],
            "text/html": [
              "\n",
              "  <div id=\"df-a4d4e88e-b118-479f-be16-0549e6d81719\">\n",
              "    <div class=\"colab-df-container\">\n",
              "      <div>\n",
              "<style scoped>\n",
              "    .dataframe tbody tr th:only-of-type {\n",
              "        vertical-align: middle;\n",
              "    }\n",
              "\n",
              "    .dataframe tbody tr th {\n",
              "        vertical-align: top;\n",
              "    }\n",
              "\n",
              "    .dataframe thead th {\n",
              "        text-align: right;\n",
              "    }\n",
              "</style>\n",
              "<table border=\"1\" class=\"dataframe\">\n",
              "  <thead>\n",
              "    <tr style=\"text-align: right;\">\n",
              "      <th></th>\n",
              "      <th>Missing Values</th>\n",
              "      <th>% of Total Values</th>\n",
              "    </tr>\n",
              "  </thead>\n",
              "  <tbody>\n",
              "    <tr>\n",
              "      <th>Credit Score</th>\n",
              "      <td>19111</td>\n",
              "      <td>19.2</td>\n",
              "    </tr>\n",
              "    <tr>\n",
              "      <th>Annual Income</th>\n",
              "      <td>19111</td>\n",
              "      <td>19.2</td>\n",
              "    </tr>\n",
              "    <tr>\n",
              "      <th>Years in current job</th>\n",
              "      <td>4222</td>\n",
              "      <td>4.2</td>\n",
              "    </tr>\n",
              "  </tbody>\n",
              "</table>\n",
              "</div>\n",
              "      <button class=\"colab-df-convert\" onclick=\"convertToInteractive('df-a4d4e88e-b118-479f-be16-0549e6d81719')\"\n",
              "              title=\"Convert this dataframe to an interactive table.\"\n",
              "              style=\"display:none;\">\n",
              "        \n",
              "  <svg xmlns=\"http://www.w3.org/2000/svg\" height=\"24px\"viewBox=\"0 0 24 24\"\n",
              "       width=\"24px\">\n",
              "    <path d=\"M0 0h24v24H0V0z\" fill=\"none\"/>\n",
              "    <path d=\"M18.56 5.44l.94 2.06.94-2.06 2.06-.94-2.06-.94-.94-2.06-.94 2.06-2.06.94zm-11 1L8.5 8.5l.94-2.06 2.06-.94-2.06-.94L8.5 2.5l-.94 2.06-2.06.94zm10 10l.94 2.06.94-2.06 2.06-.94-2.06-.94-.94-2.06-.94 2.06-2.06.94z\"/><path d=\"M17.41 7.96l-1.37-1.37c-.4-.4-.92-.59-1.43-.59-.52 0-1.04.2-1.43.59L10.3 9.45l-7.72 7.72c-.78.78-.78 2.05 0 2.83L4 21.41c.39.39.9.59 1.41.59.51 0 1.02-.2 1.41-.59l7.78-7.78 2.81-2.81c.8-.78.8-2.07 0-2.86zM5.41 20L4 18.59l7.72-7.72 1.47 1.35L5.41 20z\"/>\n",
              "  </svg>\n",
              "      </button>\n",
              "      \n",
              "  <style>\n",
              "    .colab-df-container {\n",
              "      display:flex;\n",
              "      flex-wrap:wrap;\n",
              "      gap: 12px;\n",
              "    }\n",
              "\n",
              "    .colab-df-convert {\n",
              "      background-color: #E8F0FE;\n",
              "      border: none;\n",
              "      border-radius: 50%;\n",
              "      cursor: pointer;\n",
              "      display: none;\n",
              "      fill: #1967D2;\n",
              "      height: 32px;\n",
              "      padding: 0 0 0 0;\n",
              "      width: 32px;\n",
              "    }\n",
              "\n",
              "    .colab-df-convert:hover {\n",
              "      background-color: #E2EBFA;\n",
              "      box-shadow: 0px 1px 2px rgba(60, 64, 67, 0.3), 0px 1px 3px 1px rgba(60, 64, 67, 0.15);\n",
              "      fill: #174EA6;\n",
              "    }\n",
              "\n",
              "    [theme=dark] .colab-df-convert {\n",
              "      background-color: #3B4455;\n",
              "      fill: #D2E3FC;\n",
              "    }\n",
              "\n",
              "    [theme=dark] .colab-df-convert:hover {\n",
              "      background-color: #434B5C;\n",
              "      box-shadow: 0px 1px 3px 1px rgba(0, 0, 0, 0.15);\n",
              "      filter: drop-shadow(0px 1px 2px rgba(0, 0, 0, 0.3));\n",
              "      fill: #FFFFFF;\n",
              "    }\n",
              "  </style>\n",
              "\n",
              "      <script>\n",
              "        const buttonEl =\n",
              "          document.querySelector('#df-a4d4e88e-b118-479f-be16-0549e6d81719 button.colab-df-convert');\n",
              "        buttonEl.style.display =\n",
              "          google.colab.kernel.accessAllowed ? 'block' : 'none';\n",
              "\n",
              "        async function convertToInteractive(key) {\n",
              "          const element = document.querySelector('#df-a4d4e88e-b118-479f-be16-0549e6d81719');\n",
              "          const dataTable =\n",
              "            await google.colab.kernel.invokeFunction('convertToInteractive',\n",
              "                                                     [key], {});\n",
              "          if (!dataTable) return;\n",
              "\n",
              "          const docLinkHtml = 'Like what you see? Visit the ' +\n",
              "            '<a target=\"_blank\" href=https://colab.research.google.com/notebooks/data_table.ipynb>data table notebook</a>'\n",
              "            + ' to learn more about interactive tables.';\n",
              "          element.innerHTML = '';\n",
              "          dataTable['output_type'] = 'display_data';\n",
              "          await google.colab.output.renderOutput(dataTable, element);\n",
              "          const docLink = document.createElement('div');\n",
              "          docLink.innerHTML = docLinkHtml;\n",
              "          element.appendChild(docLink);\n",
              "        }\n",
              "      </script>\n",
              "    </div>\n",
              "  </div>\n",
              "  "
            ]
          },
          "metadata": {},
          "execution_count": 16
        }
      ]
    },
    {
      "metadata": {
        "_uuid": "3a33a945216de8d42bdbf3731fdfe2d439693ee9",
        "trusted": true,
        "colab": {
          "base_uri": "https://localhost:8080/",
          "height": 170
        },
        "id": "eSrG8gu-8eh7",
        "outputId": "02c227bf-6ed0-48e3-ef02-facacfead397"
      },
      "cell_type": "code",
      "source": [
        "# Now I will use the 'mean' technique to fill the NaN values.\n",
        "\n",
        "credit.fillna(credit.mean(), inplace=True)\n",
        "missing_values_table(credit)\n",
        "\n",
        "# The feature 'Years in current job' didn't fill because has categorical values."
      ],
      "execution_count": null,
      "outputs": [
        {
          "output_type": "stream",
          "name": "stdout",
          "text": [
            "Your selected dataframe has 16 columns.\n",
            "There are 1 columns that have missing values.\n"
          ]
        },
        {
          "output_type": "stream",
          "name": "stderr",
          "text": [
            "/usr/local/lib/python3.7/dist-packages/ipykernel_launcher.py:3: FutureWarning: Dropping of nuisance columns in DataFrame reductions (with 'numeric_only=None') is deprecated; in a future version this will raise TypeError.  Select only valid columns before calling the reduction.\n",
            "  This is separate from the ipykernel package so we can avoid doing imports until\n"
          ]
        },
        {
          "output_type": "execute_result",
          "data": {
            "text/plain": [
              "                      Missing Values  % of Total Values\n",
              "Years in current job            4222                4.2"
            ],
            "text/html": [
              "\n",
              "  <div id=\"df-2c9919a0-1164-4d7e-a067-933f17626db0\">\n",
              "    <div class=\"colab-df-container\">\n",
              "      <div>\n",
              "<style scoped>\n",
              "    .dataframe tbody tr th:only-of-type {\n",
              "        vertical-align: middle;\n",
              "    }\n",
              "\n",
              "    .dataframe tbody tr th {\n",
              "        vertical-align: top;\n",
              "    }\n",
              "\n",
              "    .dataframe thead th {\n",
              "        text-align: right;\n",
              "    }\n",
              "</style>\n",
              "<table border=\"1\" class=\"dataframe\">\n",
              "  <thead>\n",
              "    <tr style=\"text-align: right;\">\n",
              "      <th></th>\n",
              "      <th>Missing Values</th>\n",
              "      <th>% of Total Values</th>\n",
              "    </tr>\n",
              "  </thead>\n",
              "  <tbody>\n",
              "    <tr>\n",
              "      <th>Years in current job</th>\n",
              "      <td>4222</td>\n",
              "      <td>4.2</td>\n",
              "    </tr>\n",
              "  </tbody>\n",
              "</table>\n",
              "</div>\n",
              "      <button class=\"colab-df-convert\" onclick=\"convertToInteractive('df-2c9919a0-1164-4d7e-a067-933f17626db0')\"\n",
              "              title=\"Convert this dataframe to an interactive table.\"\n",
              "              style=\"display:none;\">\n",
              "        \n",
              "  <svg xmlns=\"http://www.w3.org/2000/svg\" height=\"24px\"viewBox=\"0 0 24 24\"\n",
              "       width=\"24px\">\n",
              "    <path d=\"M0 0h24v24H0V0z\" fill=\"none\"/>\n",
              "    <path d=\"M18.56 5.44l.94 2.06.94-2.06 2.06-.94-2.06-.94-.94-2.06-.94 2.06-2.06.94zm-11 1L8.5 8.5l.94-2.06 2.06-.94-2.06-.94L8.5 2.5l-.94 2.06-2.06.94zm10 10l.94 2.06.94-2.06 2.06-.94-2.06-.94-.94-2.06-.94 2.06-2.06.94z\"/><path d=\"M17.41 7.96l-1.37-1.37c-.4-.4-.92-.59-1.43-.59-.52 0-1.04.2-1.43.59L10.3 9.45l-7.72 7.72c-.78.78-.78 2.05 0 2.83L4 21.41c.39.39.9.59 1.41.59.51 0 1.02-.2 1.41-.59l7.78-7.78 2.81-2.81c.8-.78.8-2.07 0-2.86zM5.41 20L4 18.59l7.72-7.72 1.47 1.35L5.41 20z\"/>\n",
              "  </svg>\n",
              "      </button>\n",
              "      \n",
              "  <style>\n",
              "    .colab-df-container {\n",
              "      display:flex;\n",
              "      flex-wrap:wrap;\n",
              "      gap: 12px;\n",
              "    }\n",
              "\n",
              "    .colab-df-convert {\n",
              "      background-color: #E8F0FE;\n",
              "      border: none;\n",
              "      border-radius: 50%;\n",
              "      cursor: pointer;\n",
              "      display: none;\n",
              "      fill: #1967D2;\n",
              "      height: 32px;\n",
              "      padding: 0 0 0 0;\n",
              "      width: 32px;\n",
              "    }\n",
              "\n",
              "    .colab-df-convert:hover {\n",
              "      background-color: #E2EBFA;\n",
              "      box-shadow: 0px 1px 2px rgba(60, 64, 67, 0.3), 0px 1px 3px 1px rgba(60, 64, 67, 0.15);\n",
              "      fill: #174EA6;\n",
              "    }\n",
              "\n",
              "    [theme=dark] .colab-df-convert {\n",
              "      background-color: #3B4455;\n",
              "      fill: #D2E3FC;\n",
              "    }\n",
              "\n",
              "    [theme=dark] .colab-df-convert:hover {\n",
              "      background-color: #434B5C;\n",
              "      box-shadow: 0px 1px 3px 1px rgba(0, 0, 0, 0.15);\n",
              "      filter: drop-shadow(0px 1px 2px rgba(0, 0, 0, 0.3));\n",
              "      fill: #FFFFFF;\n",
              "    }\n",
              "  </style>\n",
              "\n",
              "      <script>\n",
              "        const buttonEl =\n",
              "          document.querySelector('#df-2c9919a0-1164-4d7e-a067-933f17626db0 button.colab-df-convert');\n",
              "        buttonEl.style.display =\n",
              "          google.colab.kernel.accessAllowed ? 'block' : 'none';\n",
              "\n",
              "        async function convertToInteractive(key) {\n",
              "          const element = document.querySelector('#df-2c9919a0-1164-4d7e-a067-933f17626db0');\n",
              "          const dataTable =\n",
              "            await google.colab.kernel.invokeFunction('convertToInteractive',\n",
              "                                                     [key], {});\n",
              "          if (!dataTable) return;\n",
              "\n",
              "          const docLinkHtml = 'Like what you see? Visit the ' +\n",
              "            '<a target=\"_blank\" href=https://colab.research.google.com/notebooks/data_table.ipynb>data table notebook</a>'\n",
              "            + ' to learn more about interactive tables.';\n",
              "          element.innerHTML = '';\n",
              "          dataTable['output_type'] = 'display_data';\n",
              "          await google.colab.output.renderOutput(dataTable, element);\n",
              "          const docLink = document.createElement('div');\n",
              "          docLink.innerHTML = docLinkHtml;\n",
              "          element.appendChild(docLink);\n",
              "        }\n",
              "      </script>\n",
              "    </div>\n",
              "  </div>\n",
              "  "
            ]
          },
          "metadata": {},
          "execution_count": 17
        }
      ]
    },
    {
      "metadata": {
        "_uuid": "430680323b51481400716a6598c95ec555ec8b55",
        "trusted": true,
        "colab": {
          "base_uri": "https://localhost:8080/",
          "height": 897
        },
        "id": "HCQA3pIe8eh8",
        "outputId": "c3a0f1df-86bf-4356-d43e-c03dde9821c5"
      },
      "cell_type": "code",
      "source": [
        "# I will figure out what value is more present in this feature.\n",
        "\n",
        "plt.figure(figsize=(8,12))\n",
        "\n",
        "sns.countplot(credit['Years in current job'])\n",
        "# import matplotlib.pyplot as plt\n",
        "# plt.figure(figsize=(10,5))\n",
        "# chart = sns.countplot(x=\"HostRamSize\",data=df)\n",
        "\n",
        "plt.xticks(\n",
        "    rotation=45, \n",
        "    horizontalalignment='right',\n",
        "    fontweight='light',\n",
        "    fontsize='small'  \n",
        ")\n",
        "plt.yticks(\n",
        "    rotation=45, \n",
        "    horizontalalignment='right',\n",
        "    fontweight='light',\n",
        "    fontsize='x-small'  \n",
        ")\n",
        "\n",
        "# We can see that the value '10+ years' is strongly present in this feature, so I will use this value to fill the \n",
        "# missing values."
      ],
      "execution_count": null,
      "outputs": [
        {
          "output_type": "stream",
          "name": "stderr",
          "text": [
            "/usr/local/lib/python3.7/dist-packages/seaborn/_decorators.py:43: FutureWarning: Pass the following variable as a keyword arg: x. From version 0.12, the only valid positional argument will be `data`, and passing other arguments without an explicit keyword will result in an error or misinterpretation.\n",
            "  FutureWarning\n"
          ]
        },
        {
          "output_type": "execute_result",
          "data": {
            "text/plain": [
              "(array([    0.,  5000., 10000., 15000., 20000., 25000., 30000., 35000.]),\n",
              " <a list of 8 Text major ticklabel objects>)"
            ]
          },
          "metadata": {},
          "execution_count": 18
        },
        {
          "output_type": "display_data",
          "data": {
            "text/plain": [
              "<Figure size 576x864 with 1 Axes>"
            ],
            "image/png": "[encoded data removed]"
          },
          "metadata": {}
        }
      ]
    },
    {
      "metadata": {
        "_uuid": "89356ed83e426d2412294230cbcf0d3d5297aa01",
        "trusted": true,
        "colab": {
          "base_uri": "https://localhost:8080/",
          "height": 84
        },
        "id": "5oSKEWWS8eh8",
        "outputId": "9e529ccf-9db8-4578-f136-ace283574deb"
      },
      "cell_type": "code",
      "source": [
        "credit.fillna('10+ years', inplace=True) # fill with '10+ years'.\n",
        "missing_values_table(credit)\n",
        "\n",
        "# No missing values anymore."
      ],
      "execution_count": null,
      "outputs": [
        {
          "output_type": "stream",
          "name": "stdout",
          "text": [
            "Your selected dataframe has 16 columns.\n",
            "There are 0 columns that have missing values.\n"
          ]
        },
        {
          "output_type": "execute_result",
          "data": {
            "text/plain": [
              "Empty DataFrame\n",
              "Columns: [Missing Values, % of Total Values]\n",
              "Index: []"
            ],
            "text/html": [
              "\n",
              "  <div id=\"df-4090158b-db70-4d27-b8f2-46a1fb77af56\">\n",
              "    <div class=\"colab-df-container\">\n",
              "      <div>\n",
              "<style scoped>\n",
              "    .dataframe tbody tr th:only-of-type {\n",
              "        vertical-align: middle;\n",
              "    }\n",
              "\n",
              "    .dataframe tbody tr th {\n",
              "        vertical-align: top;\n",
              "    }\n",
              "\n",
              "    .dataframe thead th {\n",
              "        text-align: right;\n",
              "    }\n",
              "</style>\n",
              "<table border=\"1\" class=\"dataframe\">\n",
              "  <thead>\n",
              "    <tr style=\"text-align: right;\">\n",
              "      <th></th>\n",
              "      <th>Missing Values</th>\n",
              "      <th>% of Total Values</th>\n",
              "    </tr>\n",
              "  </thead>\n",
              "  <tbody>\n",
              "  </tbody>\n",
              "</table>\n",
              "</div>\n",
              "      <button class=\"colab-df-convert\" onclick=\"convertToInteractive('df-4090158b-db70-4d27-b8f2-46a1fb77af56')\"\n",
              "              title=\"Convert this dataframe to an interactive table.\"\n",
              "              style=\"display:none;\">\n",
              "        \n",
              "  <svg xmlns=\"http://www.w3.org/2000/svg\" height=\"24px\"viewBox=\"0 0 24 24\"\n",
              "       width=\"24px\">\n",
              "    <path d=\"M0 0h24v24H0V0z\" fill=\"none\"/>\n",
              "    <path d=\"M18.56 5.44l.94 2.06.94-2.06 2.06-.94-2.06-.94-.94-2.06-.94 2.06-2.06.94zm-11 1L8.5 8.5l.94-2.06 2.06-.94-2.06-.94L8.5 2.5l-.94 2.06-2.06.94zm10 10l.94 2.06.94-2.06 2.06-.94-2.06-.94-.94-2.06-.94 2.06-2.06.94z\"/><path d=\"M17.41 7.96l-1.37-1.37c-.4-.4-.92-.59-1.43-.59-.52 0-1.04.2-1.43.59L10.3 9.45l-7.72 7.72c-.78.78-.78 2.05 0 2.83L4 21.41c.39.39.9.59 1.41.59.51 0 1.02-.2 1.41-.59l7.78-7.78 2.81-2.81c.8-.78.8-2.07 0-2.86zM5.41 20L4 18.59l7.72-7.72 1.47 1.35L5.41 20z\"/>\n",
              "  </svg>\n",
              "      </button>\n",
              "      \n",
              "  <style>\n",
              "    .colab-df-container {\n",
              "      display:flex;\n",
              "      flex-wrap:wrap;\n",
              "      gap: 12px;\n",
              "    }\n",
              "\n",
              "    .colab-df-convert {\n",
              "      background-color: #E8F0FE;\n",
              "      border: none;\n",
              "      border-radius: 50%;\n",
              "      cursor: pointer;\n",
              "      display: none;\n",
              "      fill: #1967D2;\n",
              "      height: 32px;\n",
              "      padding: 0 0 0 0;\n",
              "      width: 32px;\n",
              "    }\n",
              "\n",
              "    .colab-df-convert:hover {\n",
              "      background-color: #E2EBFA;\n",
              "      box-shadow: 0px 1px 2px rgba(60, 64, 67, 0.3), 0px 1px 3px 1px rgba(60, 64, 67, 0.15);\n",
              "      fill: #174EA6;\n",
              "    }\n",
              "\n",
              "    [theme=dark] .colab-df-convert {\n",
              "      background-color: #3B4455;\n",
              "      fill: #D2E3FC;\n",
              "    }\n",
              "\n",
              "    [theme=dark] .colab-df-convert:hover {\n",
              "      background-color: #434B5C;\n",
              "      box-shadow: 0px 1px 3px 1px rgba(0, 0, 0, 0.15);\n",
              "      filter: drop-shadow(0px 1px 2px rgba(0, 0, 0, 0.3));\n",
              "      fill: #FFFFFF;\n",
              "    }\n",
              "  </style>\n",
              "\n",
              "      <script>\n",
              "        const buttonEl =\n",
              "          document.querySelector('#df-4090158b-db70-4d27-b8f2-46a1fb77af56 button.colab-df-convert');\n",
              "        buttonEl.style.display =\n",
              "          google.colab.kernel.accessAllowed ? 'block' : 'none';\n",
              "\n",
              "        async function convertToInteractive(key) {\n",
              "          const element = document.querySelector('#df-4090158b-db70-4d27-b8f2-46a1fb77af56');\n",
              "          const dataTable =\n",
              "            await google.colab.kernel.invokeFunction('convertToInteractive',\n",
              "                                                     [key], {});\n",
              "          if (!dataTable) return;\n",
              "\n",
              "          const docLinkHtml = 'Like what you see? Visit the ' +\n",
              "            '<a target=\"_blank\" href=https://colab.research.google.com/notebooks/data_table.ipynb>data table notebook</a>'\n",
              "            + ' to learn more about interactive tables.';\n",
              "          element.innerHTML = '';\n",
              "          dataTable['output_type'] = 'display_data';\n",
              "          await google.colab.output.renderOutput(dataTable, element);\n",
              "          const docLink = document.createElement('div');\n",
              "          docLink.innerHTML = docLinkHtml;\n",
              "          element.appendChild(docLink);\n",
              "        }\n",
              "      </script>\n",
              "    </div>\n",
              "  </div>\n",
              "  "
            ]
          },
          "metadata": {},
          "execution_count": 19
        }
      ]
    },
    {
      "cell_type": "markdown",
      "source": [
        "dont run below >> takes time"
      ],
      "metadata": {
        "id": "5e-Ht8rp-FPc"
      }
    },
    {
      "metadata": {
        "_uuid": "dfbfe9c6e65a4de3890e5a3c4d56142c9dc73703",
        "scrolled": false,
        "trusted": true,
        "id": "9xtrtgrQ8eh8"
      },
      "cell_type": "code",
      "source": [
        "# # # Exploratory Data Analysis\n",
        "# plt.figure(figsize=(30,40))\n",
        "# sns.set_style(\"whitegrid\")\n",
        "# sns.set(font_scale = 1.25)\n",
        "# sns.pairplot(credit)\n",
        "# #sns.set_xlabel(fontsize = 8)\n",
        "#sns.set_ylabel(fontsize = 8)\n",
        "# We can see in this pairplot graph that this dataset is extremely concentraded is 'zero' value, so here I won't\n",
        "# use the overfitting method."
      ],
      "execution_count": null,
      "outputs": []
    },
    {
      "metadata": {
        "_uuid": "0fac1793f054519d8f11c418cd1b383b73d4777a",
        "trusted": true,
        "colab": {
          "base_uri": "https://localhost:8080/"
        },
        "id": "DE36CH9m8eh8",
        "outputId": "08cce27b-b6b8-47ab-bea5-ce5bde4dfbcc"
      },
      "cell_type": "code",
      "source": [
        "# # Correlations between Features and Target\n",
        "\n",
        "# Find all correlations and sort \n",
        "correlations_data = credit.corr()['Credit Score'].sort_values(ascending=False)\n",
        "\n",
        "# Print the correlations\n",
        "print(correlations_data.tail)"
      ],
      "execution_count": null,
      "outputs": [
        {
          "output_type": "stream",
          "name": "stdout",
          "text": [
            "<bound method NDFrame.tail of Credit Score                 1.000000\n",
            "Number of Open Accounts      0.005726\n",
            "Tax Liens                    0.004765\n",
            "Current Credit Balance       0.000168\n",
            "Monthly Debt                -0.001457\n",
            "Maximum Open Credit         -0.002073\n",
            "Number of Credit Problems   -0.002785\n",
            "Bankruptcies                -0.006257\n",
            "Years of Credit History     -0.008652\n",
            "Annual Income               -0.016989\n",
            "Current Loan Amount         -0.095108\n",
            "Name: Credit Score, dtype: float64>\n"
          ]
        }
      ]
    },
    {
      "metadata": {
        "_uuid": "9ef51251b405bfecdc0e6c481f6a54eecd009c94",
        "trusted": true,
        "colab": {
          "base_uri": "https://localhost:8080/"
        },
        "id": "Vhlhen1l8eh9",
        "outputId": "9f151067-c99e-43e8-f812-a3da4141c382"
      },
      "cell_type": "code",
      "source": [
        "# # # Feature Engineering and Selection\n",
        "\n",
        "credit.columns"
      ],
      "execution_count": null,
      "outputs": [
        {
          "output_type": "execute_result",
          "data": {
            "text/plain": [
              "Index(['Loan Status', 'Current Loan Amount', 'Term', 'Credit Score',\n",
              "       'Annual Income', 'Years in current job', 'Home Ownership', 'Purpose',\n",
              "       'Monthly Debt', 'Years of Credit History', 'Number of Open Accounts',\n",
              "       'Number of Credit Problems', 'Current Credit Balance',\n",
              "       'Maximum Open Credit', 'Bankruptcies', 'Tax Liens'],\n",
              "      dtype='object')"
            ]
          },
          "metadata": {},
          "execution_count": 22
        }
      ]
    },
    {
      "metadata": {
        "_uuid": "13e110a0d27ac1da28d562ad0b6d84d8bfd4cd75",
        "trusted": true,
        "id": "F7xjRiU78eh9"
      },
      "cell_type": "code",
      "source": [
        "# # Encoding categorical data & Feature Scaling\n",
        "\n",
        "# Select the categorical columns\n",
        "categorical_subset = credit[['Term', 'Years in current job', 'Home Ownership', 'Purpose']]\n",
        "\n",
        "# One hot encode\n",
        "categorical_subset = pd.get_dummies(categorical_subset)\n",
        "\n",
        "# Join the dataframe in credit_train\n",
        "# Make sure to use axis = 1 to perform a column bind\n",
        "# First I will drop the 'old' categorical datas and after I will join the 'new' one.\n",
        "\n",
        "credit.drop(labels=['Term', 'Years in current job', 'Home Ownership', 'Purpose'], axis=1, inplace=True)\n",
        "credit = pd.concat([credit, categorical_subset], axis = 1)"
      ],
      "execution_count": null,
      "outputs": []
    },
    {
      "cell_type": "code",
      "source": [
        "credit.shape"
      ],
      "metadata": {
        "colab": {
          "base_uri": "https://localhost:8080/"
        },
        "id": "3RhCrvwy5_IP",
        "outputId": "ff6207c5-c15d-49f6-db62-8eef0b39bdb5"
      },
      "execution_count": null,
      "outputs": [
        {
          "output_type": "execute_result",
          "data": {
            "text/plain": [
              "(99794, 45)"
            ]
          },
          "metadata": {},
          "execution_count": 24
        }
      ]
    },
    {
      "metadata": {
        "_uuid": "b07ba1398ad974d62ccd1c65a1981915abc6976f",
        "trusted": true,
        "id": "7hPc98Yf8eh9"
      },
      "cell_type": "code",
      "source": [
        "# #  Remove Collinear Features\n",
        "\n",
        "def remove_collinear_features(x, threshold):\n",
        "    '''\n",
        "    Objective:\n",
        "        Remove collinear features in a dataframe with a correlation coefficient\n",
        "        greater than the threshold. Removing collinear features can help a model\n",
        "        to generalize and improves the interpretability of the model.\n",
        "        \n",
        "    Inputs: \n",
        "        threshold: any features with correlations greater than this value are removed\n",
        "    \n",
        "    Output: \n",
        "        dataframe that contains only the non-highly-collinear features\n",
        "    '''\n",
        "    \n",
        "    # Dont want to remove correlations between Energy Star Score\n",
        "    y = x['Loan Status']\n",
        "    x = x.drop(columns = ['Loan Status'])\n",
        "    \n",
        "    # Calculate the correlation matrix\n",
        "    corr_matrix = x.corr()\n",
        "    iters = range(len(corr_matrix.columns) - 1)\n",
        "    drop_cols = []\n",
        "\n",
        "    # Iterate through the correlation matrix and compare correlations\n",
        "    for i in iters:\n",
        "        for j in range(i):\n",
        "            item = corr_matrix.iloc[j:(j+1), (i+1):(i+2)]\n",
        "            col = item.columns\n",
        "            row = item.index\n",
        "            val = abs(item.values)\n",
        "            \n",
        "            # If correlation exceeds the threshold\n",
        "            if val >= threshold:\n",
        "                # Print the correlated features and the correlation value\n",
        "                # print(col.values[0], \"|\", row.values[0], \"|\", round(val[0][0], 2))\n",
        "                drop_cols.append(col.values[0])\n",
        "\n",
        "    # Drop one of each pair of correlated columns\n",
        "    drops = set(drop_cols)\n",
        "    print(drops)\n",
        "    x = x.drop(columns = drops)\n",
        "    \n",
        "    # Add the score back in to the data\n",
        "    x['Loan Status'] = y\n",
        "               \n",
        "    return x"
      ],
      "execution_count": null,
      "outputs": []
    },
    {
      "metadata": {
        "_uuid": "9ed921620417e13fb5641564b5090b3d7e97d86d",
        "trusted": true,
        "id": "A3e0NM478eh-",
        "colab": {
          "base_uri": "https://localhost:8080/"
        },
        "outputId": "0787ddfc-bb4c-4454-88b4-4bde426e641e"
      },
      "cell_type": "code",
      "source": [
        "# Remove the collinear features above a specified correlation coefficient\n",
        "credit = remove_collinear_features(credit, 0.6);"
      ],
      "execution_count": null,
      "outputs": [
        {
          "output_type": "stream",
          "name": "stdout",
          "text": [
            "{'Home Ownership_Rent', 'Bankruptcies', 'Purpose_Take a Trip'}\n"
          ]
        }
      ]
    },
    {
      "metadata": {
        "_uuid": "4be0e65c2ede81decd769b8e8768194a3c56b4cf",
        "trusted": true,
        "colab": {
          "base_uri": "https://localhost:8080/"
        },
        "id": "uj2aQl0w8eh-",
        "outputId": "6de34b38-6c7a-47f1-a5da-c2470b083d3d"
      },
      "cell_type": "code",
      "source": [
        "credit.shape"
      ],
      "execution_count": null,
      "outputs": [
        {
          "output_type": "execute_result",
          "data": {
            "text/plain": [
              "(99794, 42)"
            ]
          },
          "metadata": {},
          "execution_count": 27
        }
      ]
    },
    {
      "metadata": {
        "_uuid": "241e10723db0c1fd8df28e7afbac69d8b2b4ab1b",
        "trusted": true,
        "colab": {
          "base_uri": "https://localhost:8080/"
        },
        "id": "0xWgeYk48eh-",
        "outputId": "4a47d639-1187-4edc-c47a-fafd8abafc05"
      },
      "cell_type": "code",
      "source": [
        "# # # Split Into Training and Testing Sets\n",
        "\n",
        "# Separate out the features and targets\n",
        "features = credit.drop(columns='Loan Status')\n",
        "targets = pd.DataFrame(credit['Loan Status'])\n",
        "\n",
        "# Split into 80% training and 20% testing set\n",
        "X_train, X_test, y_train, y_test = train_test_split(features, targets, test_size = 0.2, random_state = 42)\n",
        "\n",
        "print(X_train.shape)\n",
        "print(X_test.shape)\n",
        "print(y_train.shape)\n",
        "print(y_test.shape)"
      ],
      "execution_count": null,
      "outputs": [
        {
          "output_type": "stream",
          "name": "stdout",
          "text": [
            "(79835, 41)\n",
            "(19959, 41)\n",
            "(79835, 1)\n",
            "(19959, 1)\n"
          ]
        }
      ]
    },
    {
      "metadata": {
        "_uuid": "349e486f1e8525e364f6be5334291ae8f00ca0cd",
        "trusted": true,
        "colab": {
          "base_uri": "https://localhost:8080/"
        },
        "id": "IOxcKJgN8eh-",
        "outputId": "9baef865-687c-461c-86cf-81160e95bdb3"
      },
      "cell_type": "code",
      "source": [
        "# # Feature Scaling\n",
        "from sklearn.preprocessing import StandardScaler\n",
        "sc = StandardScaler()\n",
        "X_train = sc.fit_transform(X_train)\n",
        "X_test = sc.transform(X_test)\n",
        "\n",
        "# Encoding the Dependent Variable\n",
        "from sklearn.preprocessing import LabelEncoder, OneHotEncoder\n",
        "labelencoder_y_train = LabelEncoder()\n",
        "y_train = labelencoder_y_train.fit_transform(y_train)\n",
        "labelencoder_y_test = LabelEncoder()\n",
        "y_test = labelencoder_y_test.fit_transform(y_test)"
      ],
      "execution_count": null,
      "outputs": [
        {
          "output_type": "stream",
          "name": "stderr",
          "text": [
            "/usr/local/lib/python3.7/dist-packages/sklearn/preprocessing/_label.py:115: DataConversionWarning: A column-vector y was passed when a 1d array was expected. Please change the shape of y to (n_samples, ), for example using ravel().\n",
            "  y = column_or_1d(y, warn=True)\n"
          ]
        }
      ]
    },
    {
      "metadata": {
        "_uuid": "d5fb7a46a004a2ec0570c4c135088a447c825d67",
        "trusted": true,
        "colab": {
          "base_uri": "https://localhost:8080/"
        },
        "id": "PxM1Ha9c8eh_",
        "outputId": "450d7f99-59d3-4df9-fae1-68cae057a280"
      },
      "cell_type": "code",
      "source": [
        "y_train"
      ],
      "execution_count": null,
      "outputs": [
        {
          "output_type": "execute_result",
          "data": {
            "text/plain": [
              "array([1, 1, 0, ..., 1, 0, 1])"
            ]
          },
          "metadata": {},
          "execution_count": 30
        }
      ]
    },
    {
      "metadata": {
        "_uuid": "e3eadeec18118a0f19acb201dc89d2d617617c8e",
        "trusted": true,
        "colab": {
          "base_uri": "https://localhost:8080/"
        },
        "id": "TCOWwKnh8eh_",
        "outputId": "322bab3c-b95c-46ab-9889-8d24ed4755c2"
      },
      "cell_type": "code",
      "source": [
        "y_test"
      ],
      "execution_count": null,
      "outputs": [
        {
          "output_type": "execute_result",
          "data": {
            "text/plain": [
              "array([1, 0, 0, ..., 1, 1, 1])"
            ]
          },
          "metadata": {},
          "execution_count": 31
        }
      ]
    },
    {
      "metadata": {
        "_uuid": "8fc8657bd8f88e32c876056e8279a1982a7d51bd",
        "trusted": true,
        "colab": {
          "base_uri": "https://localhost:8080/"
        },
        "id": "gdugfaay8eh_",
        "outputId": "668019cd-e566-416b-ee5c-6b050a0855cb"
      },
      "cell_type": "code",
      "source": [
        "X_train"
      ],
      "execution_count": null,
      "outputs": [
        {
          "output_type": "execute_result",
          "data": {
            "text/plain": [
              "array([[-0.36102332, -0.29098075,  0.52858264, ..., -0.05147771,\n",
              "        -0.03206516, -0.0343339 ],\n",
              "       [-0.35523419, -0.26165702,  0.48407171, ..., -0.05147771,\n",
              "        -0.03206516, -0.0343339 ],\n",
              "       [-0.357882  , -0.26165702, -0.35823972, ..., -0.05147771,\n",
              "        -0.03206516, -0.0343339 ],\n",
              "       ...,\n",
              "       [-0.36101847, -0.27744672,  0.47657733, ..., -0.05147771,\n",
              "        -0.03206516, -0.0343339 ],\n",
              "       [-0.36255586, -0.25789757, -0.77726096, ..., -0.05147771,\n",
              "        -0.03206516, -0.0343339 ],\n",
              "       [-0.35567642, -0.2556419 ,  0.1256506 , ..., -0.05147771,\n",
              "        -0.03206516, -0.0343339 ]])"
            ]
          },
          "metadata": {},
          "execution_count": 32
        }
      ]
    },
    {
      "metadata": {
        "_uuid": "102f279c83b538955a51028ea6b589cd9c75d293",
        "trusted": true,
        "colab": {
          "base_uri": "https://localhost:8080/"
        },
        "id": "H43rT_Te8eh_",
        "outputId": "7cdb6550-c0ca-4e17-ef88-85ae5b0f5847"
      },
      "cell_type": "code",
      "source": [
        "X_test"
      ],
      "execution_count": null,
      "outputs": [
        {
          "output_type": "execute_result",
          "data": {
            "text/plain": [
              "array([[-3.63944227e-01, -2.69927815e-01, -7.23642936e-01, ...,\n",
              "        -5.14777116e-02, -3.20651600e-02, -3.43338961e-02],\n",
              "       [-3.62381883e-01, -1.29610336e-03,  4.31089330e-04, ...,\n",
              "        -5.14777116e-02, -3.20651600e-02, -3.43338961e-02],\n",
              "       [-3.58970926e-01, -2.93236417e-01,  2.06722719e-01, ...,\n",
              "        -5.14777116e-02, -3.20651600e-02, -3.43338961e-02],\n",
              "       ...,\n",
              "       [-3.62962737e-01, -2.57145679e-01,  1.03184451e+00, ...,\n",
              "        -5.14777116e-02, -3.20651600e-02, -3.43338961e-02],\n",
              "       [-3.59089453e-01, -2.81958061e-01,  1.27927374e-01, ...,\n",
              "        -5.14777116e-02, -3.20651600e-02, -3.43338961e-02],\n",
              "       [-3.63813916e-01, -2.48874885e-01, -4.02692887e-02, ...,\n",
              "        -5.14777116e-02, -3.20651600e-02, -3.43338961e-02]])"
            ]
          },
          "metadata": {},
          "execution_count": 33
        }
      ]
    },
    {
      "cell_type": "code",
      "source": [
        "X_train.shape"
      ],
      "metadata": {
        "colab": {
          "base_uri": "https://localhost:8080/"
        },
        "id": "PsrwPCNzV7A0",
        "outputId": "c0f343ba-d3a8-4dfd-be68-08c1bd02d989"
      },
      "execution_count": null,
      "outputs": [
        {
          "output_type": "execute_result",
          "data": {
            "text/plain": [
              "(79835, 41)"
            ]
          },
          "metadata": {},
          "execution_count": 34
        }
      ]
    },
    {
      "cell_type": "code",
      "source": [
        "from sklearn.decomposition import PCA\n",
        "pca = PCA(svd_solver='randomized', random_state=42)"
      ],
      "metadata": {
        "id": "qQGmXkP65Vtx"
      },
      "execution_count": null,
      "outputs": []
    },
    {
      "cell_type": "code",
      "source": [
        "pca.fit(X_train)\n",
        "pca.fit(X_test)"
      ],
      "metadata": {
        "colab": {
          "base_uri": "https://localhost:8080/"
        },
        "id": "_XpY7T4Y6K_A",
        "outputId": "576e99fa-de21-4831-c9cf-fca76d0855c4"
      },
      "execution_count": null,
      "outputs": [
        {
          "output_type": "execute_result",
          "data": {
            "text/plain": [
              "PCA(random_state=42, svd_solver='randomized')"
            ]
          },
          "metadata": {},
          "execution_count": 36
        }
      ]
    },
    {
      "cell_type": "code",
      "source": [
        "pca.components_"
      ],
      "metadata": {
        "colab": {
          "base_uri": "https://localhost:8080/"
        },
        "id": "kvp7bzVZ6Yz9",
        "outputId": "67c73f94-bc9f-4bd8-8879-2b2bf965cb93"
      },
      "execution_count": null,
      "outputs": [
        {
          "output_type": "execute_result",
          "data": {
            "text/plain": [
              "array([[ 3.18065850e-03, -8.24212315e-03, -1.51622188e-01, ...,\n",
              "         1.48018716e-02,  1.12563127e-02,  9.26063562e-03],\n",
              "       [-1.34152876e-02,  8.31193078e-03,  1.93259639e-01, ...,\n",
              "        -1.72920960e-02, -1.41154667e-02, -1.14398252e-02],\n",
              "       [ 2.67260974e-03, -1.01038652e-02,  4.23955015e-02, ...,\n",
              "         5.49091801e-03,  1.42469220e-02, -8.06482705e-03],\n",
              "       ...,\n",
              "       [-4.29259651e-05, -1.05534177e-04,  1.66285654e-03, ...,\n",
              "        -8.46303760e-02, -5.27442046e-02, -5.67579421e-02],\n",
              "       [ 6.86590609e-17,  3.40380055e-17,  1.02554221e-16, ...,\n",
              "         2.25514052e-17,  6.24500451e-17,  7.45931095e-17],\n",
              "       [ 0.00000000e+00, -7.77538090e-18,  6.33636239e-17, ...,\n",
              "        -6.93889390e-17,  2.01227923e-16, -6.93889390e-18]])"
            ]
          },
          "metadata": {},
          "execution_count": 37
        }
      ]
    },
    {
      "cell_type": "code",
      "source": [
        "# Variance Ratio\n",
        "pca.explained_variance_ratio_"
      ],
      "metadata": {
        "colab": {
          "base_uri": "https://localhost:8080/"
        },
        "id": "H1qoM6bu68YO",
        "outputId": "53af5add-1d94-4b9c-82f6-9ae42e625ea5"
      },
      "execution_count": null,
      "outputs": [
        {
          "output_type": "execute_result",
          "data": {
            "text/plain": [
              "array([6.30475073e-02, 6.22580406e-02, 4.92780638e-02, 4.30525947e-02,\n",
              "       4.22709445e-02, 3.46770377e-02, 3.31689769e-02, 2.95254383e-02,\n",
              "       2.92736156e-02, 2.70608957e-02, 2.67869462e-02, 2.64356206e-02,\n",
              "       2.60010662e-02, 2.57358365e-02, 2.55464212e-02, 2.52021497e-02,\n",
              "       2.51346268e-02, 2.49397912e-02, 2.47193911e-02, 2.44047175e-02,\n",
              "       2.42343513e-02, 2.40196260e-02, 2.37741408e-02, 2.32534618e-02,\n",
              "       2.31733201e-02, 2.28473645e-02, 2.27448348e-02, 2.22636115e-02,\n",
              "       2.17531430e-02, 2.07300681e-02, 1.92057112e-02, 1.83633038e-02,\n",
              "       1.79276502e-02, 1.32926415e-02, 1.30137995e-02, 1.06763451e-02,\n",
              "       7.80431870e-03, 2.19115335e-03, 2.11472409e-04, 1.24339284e-32,\n",
              "       4.58506061e-34])"
            ]
          },
          "metadata": {},
          "execution_count": 38
        }
      ]
    },
    {
      "cell_type": "code",
      "source": [
        "#plotting the cumulative variance against the number of components\n",
        "%matplotlib inline\n",
        "fig = plt.figure(figsize = (12,8))\n",
        "plt.plot(np.cumsum(pca.explained_variance_ratio_))\n",
        "plt.xlabel('number of components')\n",
        "plt.ylabel('cumulative explained variance')\n",
        "plt.show()"
      ],
      "metadata": {
        "colab": {
          "base_uri": "https://localhost:8080/",
          "height": 523
        },
        "id": "BL07Ur8L7Seg",
        "outputId": "aeed1008-11af-4e01-f8a6-a0a727fe720b"
      },
      "execution_count": null,
      "outputs": [
        {
          "output_type": "display_data",
          "data": {
            "text/plain": [
              "<Figure size 864x576 with 1 Axes>"
            ],
            "image/png": "[encoded data removed]"
          },
          "metadata": {
            "needs_background": "light"
          }
        }
      ]
    },
    {
      "cell_type": "code",
      "source": [
        "from sklearn.decomposition import IncrementalPCA\n",
        "pca_final = IncrementalPCA(n_components=30)"
      ],
      "metadata": {
        "id": "hnnelGnT7dMN"
      },
      "execution_count": null,
      "outputs": []
    },
    {
      "cell_type": "code",
      "source": [
        "print(X_train.shape)\n",
        "print(y_train.shape)"
      ],
      "metadata": {
        "colab": {
          "base_uri": "https://localhost:8080/"
        },
        "id": "AN6JUX1LDgLX",
        "outputId": "bbd43795-f6c5-4e93-f89b-d986f243971b"
      },
      "execution_count": null,
      "outputs": [
        {
          "output_type": "stream",
          "name": "stdout",
          "text": [
            "(79835, 41)\n",
            "(79835,)\n"
          ]
        }
      ]
    },
    {
      "cell_type": "code",
      "source": [
        "X_train = pca_final.fit_transform(X_train)\n",
        "X_test = pca_final.fit_transform(X_test)\n",
        "X_train.shape"
      ],
      "metadata": {
        "colab": {
          "base_uri": "https://localhost:8080/"
        },
        "id": "utxWKTcZ7t5t",
        "outputId": "aee978c8-05ff-444f-fb04-5d53feaf036f"
      },
      "execution_count": null,
      "outputs": [
        {
          "output_type": "execute_result",
          "data": {
            "text/plain": [
              "(79835, 30)"
            ]
          },
          "metadata": {},
          "execution_count": 42
        }
      ]
    },
    {
      "cell_type": "code",
      "source": [
        "print(X_train.shape)\n",
        "print(X_test.shape)"
      ],
      "metadata": {
        "colab": {
          "base_uri": "https://localhost:8080/"
        },
        "id": "qBXtjAvkDq9r",
        "outputId": "37611977-a6c5-4ad8-a2e5-2114653db820"
      },
      "execution_count": null,
      "outputs": [
        {
          "output_type": "stream",
          "name": "stdout",
          "text": [
            "(79835, 30)\n",
            "(19959, 30)\n"
          ]
        }
      ]
    },
    {
      "cell_type": "code",
      "source": [
        "#plotting the cumulative variance against the number of components\n",
        "%matplotlib inline\n",
        "fig = plt.figure(figsize = (12,8))\n",
        "plt.plot(np.cumsum(pca_final.explained_variance_ratio_))\n",
        "plt.xlabel('number of components')\n",
        "plt.ylabel('cumulative explained variance')\n",
        "plt.show()"
      ],
      "metadata": {
        "colab": {
          "base_uri": "https://localhost:8080/",
          "height": 523
        },
        "id": "jlThAP0hEgWn",
        "outputId": "f783de36-8727-43e9-88b8-5b30acc98370"
      },
      "execution_count": null,
      "outputs": [
        {
          "output_type": "display_data",
          "data": {
            "text/plain": [
              "<Figure size 864x576 with 1 Axes>"
            ],
            "image/png": "[encoded data removed]"
          },
          "metadata": {
            "needs_background": "light"
          }
        }
      ]
    },
    {
      "cell_type": "code",
      "source": [
        "from sklearn.neighbors import NearestNeighbors\n",
        "from random import sample\n",
        "from numpy.random import uniform\n",
        "import numpy as np\n",
        "from math import isnan\n",
        " \n",
        "def hopkins(X):\n",
        "    d = X.shape[1]\n",
        "    #d = len(vars) # columns\n",
        "    n = len(X) # rows\n",
        "    m = int(0.1 * n) \n",
        "    nbrs = NearestNeighbors(n_neighbors=1).fit(X.values)\n",
        " \n",
        "    rand_X = sample(range(0, n, 1), m)\n",
        " \n",
        "    ujd = []\n",
        "    wjd = []\n",
        "    for j in range(0, m):\n",
        "        u_dist, _ = nbrs.kneighbors(uniform(np.amin(X,axis=0),np.amax(X,axis=0),d).reshape(1, -1), 2, return_distance=True)\n",
        "        ujd.append(u_dist[0][1])\n",
        "        w_dist, _ = nbrs.kneighbors(X.iloc[rand_X[j]].values.reshape(1, -1), 2, return_distance=True)\n",
        "        wjd.append(w_dist[0][1])\n",
        " \n",
        "    H = sum(ujd) / (sum(ujd) + sum(wjd))\n",
        "    if isnan(H):\n",
        "        print(ujd, wjd)\n",
        "        H = 0\n",
        " \n",
        "    return H"
      ],
      "metadata": {
        "id": "f6xja4Wz7zA0"
      },
      "execution_count": null,
      "outputs": []
    },
    {
      "cell_type": "code",
      "source": [
        "# hopkins(df_pca)"
      ],
      "metadata": {
        "id": "bK-2PzjP75Te"
      },
      "execution_count": null,
      "outputs": []
    },
    {
      "cell_type": "code",
      "source": [
        "from sklearn.linear_model import LogisticRegression\n",
        "from sklearn.neighbors import KNeighborsClassifier\n",
        "from sklearn.svm import SVC\n",
        "from sklearn.ensemble import RandomForestClassifier\n",
        "from sklearn.naive_bayes import GaussianNB\n",
        "from xgboost import XGBClassifier\n",
        "from sklearn import model_selection\n",
        "from sklearn.utils import class_weight\n",
        "from sklearn.metrics import classification_report\n",
        "from sklearn.metrics import confusion_matrix\n",
        "from sklearn.tree import DecisionTreeClassifier\n",
        "from sklearn.metrics import plot_confusion_matrix\n",
        "from sklearn import datasets, metrics, model_selection, svm\n",
        "from sklearn.metrics import mean_squared_error\n",
        "from sklearn.metrics import r2_score\n",
        "from sklearn.metrics import accuracy_score\n",
        "from sklearn.metrics import f1_score\n",
        "# from sklearn.metrics import precision\n",
        "from sklearn.metrics import recall_score\n",
        "from sklearn.metrics import roc_auc_score\n",
        "\n",
        "\n",
        "import numpy as np\n",
        "import pandas as pd\n",
        "def run_exps(X_train: pd.DataFrame , y_train: pd.DataFrame, X_test: pd.DataFrame, y_test: pd.DataFrame) -> pd.DataFrame:\n",
        "    '''\n",
        "    Lightweight script to test many models and find winners\n",
        ":param X_train: training split\n",
        "    :param y_train: training target vector\n",
        "    :param X_test: test split\n",
        "    :param y_test: test target vector\n",
        "    :return: DataFrame of predictions\n",
        "    '''\n",
        "    \n",
        "dfs = []\n",
        "results = []\n",
        "\n",
        "names = []\n",
        "scoring = ['accuracy', 'precision_weighted', 'recall_weighted', 'f1_weighted', 'roc_auc']\n",
        "target_names = ['Fully Paid', 'Charged off']\n",
        "models = [\n",
        "          ('LogReg', LogisticRegression()), \n",
        "          ('RF', RandomForestClassifier()),\n",
        "          ('KNN', KNeighborsClassifier()),\n",
        "          ('DecTree', DecisionTreeClassifier()), \n",
        "          ('GNB', GaussianNB()),\n",
        "          ('XGB', XGBClassifier())\n",
        "        ]\n",
        "\n",
        "for name, model in models:\n",
        "        kfold = model_selection.KFold(n_splits=5, shuffle=True, random_state=90210)\n",
        "        cv_results = model_selection.cross_validate(model, X_train, y_train, cv=kfold, scoring=scoring)\n",
        "        clf = model.fit(X_train, y_train)\n",
        "        # #Returns the mean squared error; we'll take a square root\n",
        "        # print('RMSE training {}.format(name)',np.sqrt(mean_squared_error(X_train, y_train)))\n",
        "        # # r_squared = r2_score(X_train, y_train)\n",
        "        # print('r2', r2_score(X_train, y_train))\n",
        "        y_pred = clf.predict(X_test)\n",
        "        # print('RMSE training {}.format(name)',np.sqrt(mean_squared_error(X_train, X_test)))\n",
        "        #print(name)\n",
        "        #print(classification_report(y_test, y_pred, target_names=target_names))\n",
        "        #training set performance\n",
        "        # model_train_accuracy=accuracy_score(y_train,y_train_pred)\n",
        "        # model_train_f1=f1_score(y_train,y_train_pred,average=\"weighted\")\n",
        "        # model_train_precision=precision(y_train,y_train_pred)\n",
        "        # model_train_recall=recall_score(y_train,y_train_pred)\n",
        "        # model_train_rocauc_score=roc_auc_score(y_train,y_train_pred)\n",
        "\n",
        "        # #test set performance\n",
        "        # model_train_accuracy=accuracy_score(y_test,y_test_pred)\n",
        "        # model_train_f1=f1_score(y_test,y_test_pred,average=\"weighted\")\n",
        "        # model_train_precision=precision(y_test,y_test_pred)\n",
        "        # model_train_recall=recall_score(y_test,y_test_pred)\n",
        "        # model_train_rocauc_score=roc_auc_score(y_test,y_test_pred)\n",
        "\n",
        "        # # print(list(models.keys())[i])\n",
        "\n",
        "        # print('{} Model Performance for training set'.format(name))\n",
        "        # print( 'Accuracy : {:.4f}'.format(model_train_accuracy))\n",
        "        # print(' F1 score : {:.4f}'.format(model_train_f1))\n",
        "        # print( 'Precision : {:.4f}'.format(model_train_precision))\n",
        "        # print(' Recall : {:.4f}'.format(model_train_recall))\n",
        "\n",
        "        # Print ('---------------------')\n",
        "        # print('{} Model Performance for test'.format(name))\n",
        "        # print( 'Accuracy : {:.4f}'.format(model_test_accuracy))\n",
        "        # print(' F1 score : {:.4f}'.format(model_test_f1))\n",
        "        # print( 'Precision : {:.4f}'.format(model_test_precision))\n",
        "        # print(' Recall : {:.4f}'.format(model_test_recall))\n",
        "        y_train_pred = clf.predict(X_train)\n",
        "\n",
        "        rse_train = metrics.mean_squared_error(y_train, y_train, squared=False)\n",
        "        print('train-rsme',rse_train)\n",
        "        r_squared = r2_score(y_train, y_train)\n",
        "        print('r2-test',r_squared)\n",
        "        rmse = metrics.mean_squared_error(y_test, y_pred , squared=False)\n",
        "        print('test-rsme',rmse)\n",
        "        r_squared = r2_score(y_test, y_pred)\n",
        "        print('r2-test',r_squared)\n",
        "        results.append(cv_results)\n",
        "        names.append(name)\n",
        "        this_df = pd.DataFrame(cv_results)\n",
        "        this_df['model'] = name\n",
        "        dfs.append(this_df)\n",
        "        # confusion = metrics.confusion_matrix(y_train_pred_final.Converted, y_train_pred_final.Predicted )\n",
        "        # plt.figure(figure=(6,8))\n",
        "        plt.figure(figsize=(6,8))\n",
        "        plot_confusion_matrix(clf, X_test, y_test)\n",
        "        plt.title(\"Test set {}\".format(name))\n",
        "        plt.show()\n",
        "        # metrics.plot_roc_curve(clf, X_test, y_test) \n",
        "        # plt.show()\n",
        "\n",
        "\n",
        "\n",
        "\n",
        "final = pd.concat(dfs, ignore_index=True)\n",
        "# return final"
      ],
      "metadata": {
        "colab": {
          "base_uri": "https://localhost:8080/",
          "height": 1000
        },
        "id": "9OsSjQd75Kds",
        "outputId": "cece0a13-971c-4b52-bda9-28ad9c59b5e2"
      },
      "execution_count": null,
      "outputs": [
        {
          "output_type": "stream",
          "name": "stdout",
          "text": [
            "train-rsme 0.0\n",
            "r2-test 1.0\n",
            "test-rsme 0.5670177189841301\n",
            "r2-test -0.828758589576098\n"
          ]
        },
        {
          "output_type": "stream",
          "name": "stderr",
          "text": [
            "/usr/local/lib/python3.7/dist-packages/sklearn/utils/deprecation.py:87: FutureWarning: Function plot_confusion_matrix is deprecated; Function `plot_confusion_matrix` is deprecated in 1.0 and will be removed in 1.2. Use one of the class methods: ConfusionMatrixDisplay.from_predictions or ConfusionMatrixDisplay.from_estimator.\n",
            "  warnings.warn(msg, category=FutureWarning)\n"
          ]
        },
        {
          "output_type": "display_data",
          "data": {
            "text/plain": [
              "<Figure size 432x576 with 0 Axes>"
            ]
          },
          "metadata": {}
        },
        {
          "output_type": "display_data",
          "data": {
            "text/plain": [
              "<Figure size 432x288 with 2 Axes>"
            ],
            "image/png": "[encoded data removed]"
          },
          "metadata": {
            "needs_background": "light"
          }
        },
        {
          "output_type": "stream",
          "name": "stdout",
          "text": [
            "train-rsme 0.0\n",
            "r2-test 1.0\n",
            "test-rsme 0.4827813268028233\n",
            "r2-test -0.32575735681907547\n"
          ]
        },
        {
          "output_type": "stream",
          "name": "stderr",
          "text": [
            "/usr/local/lib/python3.7/dist-packages/sklearn/utils/deprecation.py:87: FutureWarning: Function plot_confusion_matrix is deprecated; Function `plot_confusion_matrix` is deprecated in 1.0 and will be removed in 1.2. Use one of the class methods: ConfusionMatrixDisplay.from_predictions or ConfusionMatrixDisplay.from_estimator.\n",
            "  warnings.warn(msg, category=FutureWarning)\n"
          ]
        },
        {
          "output_type": "display_data",
          "data": {
            "text/plain": [
              "<Figure size 432x576 with 0 Axes>"
            ]
          },
          "metadata": {}
        },
        {
          "output_type": "display_data",
          "data": {
            "text/plain": [
              "<Figure size 432x288 with 2 Axes>"
            ],
            "image/png": "[encoded data removed]"
          },
          "metadata": {
            "needs_background": "light"
          }
        },
        {
          "output_type": "stream",
          "name": "stdout",
          "text": [
            "train-rsme 0.0\n",
            "r2-test 1.0\n",
            "test-rsme 0.5236526853521299\n",
            "r2-test -0.5597313013479794\n"
          ]
        },
        {
          "output_type": "stream",
          "name": "stderr",
          "text": [
            "/usr/local/lib/python3.7/dist-packages/sklearn/utils/deprecation.py:87: FutureWarning: Function plot_confusion_matrix is deprecated; Function `plot_confusion_matrix` is deprecated in 1.0 and will be removed in 1.2. Use one of the class methods: ConfusionMatrixDisplay.from_predictions or ConfusionMatrixDisplay.from_estimator.\n",
            "  warnings.warn(msg, category=FutureWarning)\n"
          ]
        },
        {
          "output_type": "display_data",
          "data": {
            "text/plain": [
              "<Figure size 432x576 with 0 Axes>"
            ]
          },
          "metadata": {}
        },
        {
          "output_type": "display_data",
          "data": {
            "text/plain": [
              "<Figure size 432x288 with 2 Axes>"
            ],
            "image/png": "[encoded data removed]"
          },
          "metadata": {
            "needs_background": "light"
          }
        },
        {
          "output_type": "stream",
          "name": "stdout",
          "text": [
            "train-rsme 0.0\n",
            "r2-test 1.0\n",
            "test-rsme 0.6559970891482603\n",
            "r2-test -1.4477493417280827\n"
          ]
        },
        {
          "output_type": "stream",
          "name": "stderr",
          "text": [
            "/usr/local/lib/python3.7/dist-packages/sklearn/utils/deprecation.py:87: FutureWarning: Function plot_confusion_matrix is deprecated; Function `plot_confusion_matrix` is deprecated in 1.0 and will be removed in 1.2. Use one of the class methods: ConfusionMatrixDisplay.from_predictions or ConfusionMatrixDisplay.from_estimator.\n",
            "  warnings.warn(msg, category=FutureWarning)\n"
          ]
        },
        {
          "output_type": "display_data",
          "data": {
            "text/plain": [
              "<Figure size 432x576 with 0 Axes>"
            ]
          },
          "metadata": {}
        },
        {
          "output_type": "display_data",
          "data": {
            "text/plain": [
              "<Figure size 432x288 with 2 Axes>"
            ],
            "image/png": "[encoded data removed]"
          },
          "metadata": {
            "needs_background": "light"
          }
        },
        {
          "output_type": "stream",
          "name": "stdout",
          "text": [
            "train-rsme 0.0\n",
            "r2-test 1.0\n",
            "test-rsme 0.48044061811471106\n",
            "r2-test -0.3129329627827775\n"
          ]
        },
        {
          "output_type": "stream",
          "name": "stderr",
          "text": [
            "/usr/local/lib/python3.7/dist-packages/sklearn/utils/deprecation.py:87: FutureWarning: Function plot_confusion_matrix is deprecated; Function `plot_confusion_matrix` is deprecated in 1.0 and will be removed in 1.2. Use one of the class methods: ConfusionMatrixDisplay.from_predictions or ConfusionMatrixDisplay.from_estimator.\n",
            "  warnings.warn(msg, category=FutureWarning)\n"
          ]
        },
        {
          "output_type": "display_data",
          "data": {
            "text/plain": [
              "<Figure size 432x576 with 0 Axes>"
            ]
          },
          "metadata": {}
        },
        {
          "output_type": "display_data",
          "data": {
            "text/plain": [
              "<Figure size 432x288 with 2 Axes>"
            ],
            "image/png": "[encoded data removed]"
          },
          "metadata": {
            "needs_background": "light"
          }
        },
        {
          "output_type": "stream",
          "name": "stdout",
          "text": [
            "train-rsme 0.0\n",
            "r2-test 1.0\n",
            "test-rsme 0.438627870224296\n",
            "r2-test -0.09434829109743115\n"
          ]
        },
        {
          "output_type": "stream",
          "name": "stderr",
          "text": [
            "/usr/local/lib/python3.7/dist-packages/sklearn/utils/deprecation.py:87: FutureWarning: Function plot_confusion_matrix is deprecated; Function `plot_confusion_matrix` is deprecated in 1.0 and will be removed in 1.2. Use one of the class methods: ConfusionMatrixDisplay.from_predictions or ConfusionMatrixDisplay.from_estimator.\n",
            "  warnings.warn(msg, category=FutureWarning)\n"
          ]
        },
        {
          "output_type": "display_data",
          "data": {
            "text/plain": [
              "<Figure size 432x576 with 0 Axes>"
            ]
          },
          "metadata": {}
        },
        {
          "output_type": "display_data",
          "data": {
            "text/plain": [
              "<Figure size 432x288 with 2 Axes>"
            ],
            "image/png": "[encoded data removed]"
          },
          "metadata": {
            "needs_background": "light"
          }
        }
      ]
    },
    {
      "cell_type": "code",
      "source": [
        "bootstraps = []\n",
        "for model in list(set(final.model.values)):\n",
        "    model_df = final.loc[final.model == model]\n",
        "    bootstrap = model_df.sample(n=30, replace=True)\n",
        "    bootstraps.append(bootstrap)\n",
        "        \n",
        "bootstrap_df = pd.concat(bootstraps, ignore_index=True)\n",
        "results_long = pd.melt(bootstrap_df,id_vars=['model'],var_name='metrics', value_name='values')\n",
        "time_metrics = ['fit_time','score_time'] # fit time metrics\n",
        "## PERFORMANCE METRICS\n",
        "results_long_nofit = results_long.loc[~results_long['metrics'].isin(time_metrics)] # get df without fit data\n",
        "results_long_nofit = results_long_nofit.sort_values(by='values')\n",
        "## TIME METRICS\n",
        "results_long_fit = results_long.loc[results_long['metrics'].isin(time_metrics)] # df with fit data\n",
        "results_long_fit = results_long_fit.sort_values(by='values')"
      ],
      "metadata": {
        "id": "qfQqh_v6gg8n"
      },
      "execution_count": null,
      "outputs": []
    },
    {
      "cell_type": "code",
      "source": [
        "results_long_nofit.loc[results_long_nofit['model'] == 'RF']"
      ],
      "metadata": {
        "colab": {
          "base_uri": "https://localhost:8080/",
          "height": 424
        },
        "id": "T3ZQHW_cY8Zv",
        "outputId": "a0063381-ab29-49cc-f8fa-4e5ea2498a7b"
      },
      "execution_count": null,
      "outputs": [
        {
          "output_type": "execute_result",
          "data": {
            "text/plain": [
              "     model               metrics    values\n",
              "1166    RF          test_roc_auc  0.753185\n",
              "1167    RF          test_roc_auc  0.753185\n",
              "1156    RF          test_roc_auc  0.753185\n",
              "1145    RF          test_roc_auc  0.753185\n",
              "1165    RF          test_roc_auc  0.755396\n",
              "...    ...                   ...       ...\n",
              "444     RF         test_accuracy  0.813115\n",
              "442     RF         test_accuracy  0.813115\n",
              "440     RF         test_accuracy  0.813115\n",
              "802     RF  test_recall_weighted  0.813115\n",
              "443     RF         test_accuracy  0.813115\n",
              "\n",
              "[150 rows x 3 columns]"
            ],
            "text/html": [
              "\n",
              "  <div id=\"df-107a1973-8253-431e-874c-2870d4d1c24c\">\n",
              "    <div class=\"colab-df-container\">\n",
              "      <div>\n",
              "<style scoped>\n",
              "    .dataframe tbody tr th:only-of-type {\n",
              "        vertical-align: middle;\n",
              "    }\n",
              "\n",
              "    .dataframe tbody tr th {\n",
              "        vertical-align: top;\n",
              "    }\n",
              "\n",
              "    .dataframe thead th {\n",
              "        text-align: right;\n",
              "    }\n",
              "</style>\n",
              "<table border=\"1\" class=\"dataframe\">\n",
              "  <thead>\n",
              "    <tr style=\"text-align: right;\">\n",
              "      <th></th>\n",
              "      <th>model</th>\n",
              "      <th>metrics</th>\n",
              "      <th>values</th>\n",
              "    </tr>\n",
              "  </thead>\n",
              "  <tbody>\n",
              "    <tr>\n",
              "      <th>1166</th>\n",
              "      <td>RF</td>\n",
              "      <td>test_roc_auc</td>\n",
              "      <td>0.753185</td>\n",
              "    </tr>\n",
              "    <tr>\n",
              "      <th>1167</th>\n",
              "      <td>RF</td>\n",
              "      <td>test_roc_auc</td>\n",
              "      <td>0.753185</td>\n",
              "    </tr>\n",
              "    <tr>\n",
              "      <th>1156</th>\n",
              "      <td>RF</td>\n",
              "      <td>test_roc_auc</td>\n",
              "      <td>0.753185</td>\n",
              "    </tr>\n",
              "    <tr>\n",
              "      <th>1145</th>\n",
              "      <td>RF</td>\n",
              "      <td>test_roc_auc</td>\n",
              "      <td>0.753185</td>\n",
              "    </tr>\n",
              "    <tr>\n",
              "      <th>1165</th>\n",
              "      <td>RF</td>\n",
              "      <td>test_roc_auc</td>\n",
              "      <td>0.755396</td>\n",
              "    </tr>\n",
              "    <tr>\n",
              "      <th>...</th>\n",
              "      <td>...</td>\n",
              "      <td>...</td>\n",
              "      <td>...</td>\n",
              "    </tr>\n",
              "    <tr>\n",
              "      <th>444</th>\n",
              "      <td>RF</td>\n",
              "      <td>test_accuracy</td>\n",
              "      <td>0.813115</td>\n",
              "    </tr>\n",
              "    <tr>\n",
              "      <th>442</th>\n",
              "      <td>RF</td>\n",
              "      <td>test_accuracy</td>\n",
              "      <td>0.813115</td>\n",
              "    </tr>\n",
              "    <tr>\n",
              "      <th>440</th>\n",
              "      <td>RF</td>\n",
              "      <td>test_accuracy</td>\n",
              "      <td>0.813115</td>\n",
              "    </tr>\n",
              "    <tr>\n",
              "      <th>802</th>\n",
              "      <td>RF</td>\n",
              "      <td>test_recall_weighted</td>\n",
              "      <td>0.813115</td>\n",
              "    </tr>\n",
              "    <tr>\n",
              "      <th>443</th>\n",
              "      <td>RF</td>\n",
              "      <td>test_accuracy</td>\n",
              "      <td>0.813115</td>\n",
              "    </tr>\n",
              "  </tbody>\n",
              "</table>\n",
              "<p>150 rows × 3 columns</p>\n",
              "</div>\n",
              "      <button class=\"colab-df-convert\" onclick=\"convertToInteractive('df-107a1973-8253-431e-874c-2870d4d1c24c')\"\n",
              "              title=\"Convert this dataframe to an interactive table.\"\n",
              "              style=\"display:none;\">\n",
              "        \n",
              "  <svg xmlns=\"http://www.w3.org/2000/svg\" height=\"24px\"viewBox=\"0 0 24 24\"\n",
              "       width=\"24px\">\n",
              "    <path d=\"M0 0h24v24H0V0z\" fill=\"none\"/>\n",
              "    <path d=\"M18.56 5.44l.94 2.06.94-2.06 2.06-.94-2.06-.94-.94-2.06-.94 2.06-2.06.94zm-11 1L8.5 8.5l.94-2.06 2.06-.94-2.06-.94L8.5 2.5l-.94 2.06-2.06.94zm10 10l.94 2.06.94-2.06 2.06-.94-2.06-.94-.94-2.06-.94 2.06-2.06.94z\"/><path d=\"M17.41 7.96l-1.37-1.37c-.4-.4-.92-.59-1.43-.59-.52 0-1.04.2-1.43.59L10.3 9.45l-7.72 7.72c-.78.78-.78 2.05 0 2.83L4 21.41c.39.39.9.59 1.41.59.51 0 1.02-.2 1.41-.59l7.78-7.78 2.81-2.81c.8-.78.8-2.07 0-2.86zM5.41 20L4 18.59l7.72-7.72 1.47 1.35L5.41 20z\"/>\n",
              "  </svg>\n",
              "      </button>\n",
              "      \n",
              "  <style>\n",
              "    .colab-df-container {\n",
              "      display:flex;\n",
              "      flex-wrap:wrap;\n",
              "      gap: 12px;\n",
              "    }\n",
              "\n",
              "    .colab-df-convert {\n",
              "      background-color: #E8F0FE;\n",
              "      border: none;\n",
              "      border-radius: 50%;\n",
              "      cursor: pointer;\n",
              "      display: none;\n",
              "      fill: #1967D2;\n",
              "      height: 32px;\n",
              "      padding: 0 0 0 0;\n",
              "      width: 32px;\n",
              "    }\n",
              "\n",
              "    .colab-df-convert:hover {\n",
              "      background-color: #E2EBFA;\n",
              "      box-shadow: 0px 1px 2px rgba(60, 64, 67, 0.3), 0px 1px 3px 1px rgba(60, 64, 67, 0.15);\n",
              "      fill: #174EA6;\n",
              "    }\n",
              "\n",
              "    [theme=dark] .colab-df-convert {\n",
              "      background-color: #3B4455;\n",
              "      fill: #D2E3FC;\n",
              "    }\n",
              "\n",
              "    [theme=dark] .colab-df-convert:hover {\n",
              "      background-color: #434B5C;\n",
              "      box-shadow: 0px 1px 3px 1px rgba(0, 0, 0, 0.15);\n",
              "      filter: drop-shadow(0px 1px 2px rgba(0, 0, 0, 0.3));\n",
              "      fill: #FFFFFF;\n",
              "    }\n",
              "  </style>\n",
              "\n",
              "      <script>\n",
              "        const buttonEl =\n",
              "          document.querySelector('#df-107a1973-8253-431e-874c-2870d4d1c24c button.colab-df-convert');\n",
              "        buttonEl.style.display =\n",
              "          google.colab.kernel.accessAllowed ? 'block' : 'none';\n",
              "\n",
              "        async function convertToInteractive(key) {\n",
              "          const element = document.querySelector('#df-107a1973-8253-431e-874c-2870d4d1c24c');\n",
              "          const dataTable =\n",
              "            await google.colab.kernel.invokeFunction('convertToInteractive',\n",
              "                                                     [key], {});\n",
              "          if (!dataTable) return;\n",
              "\n",
              "          const docLinkHtml = 'Like what you see? Visit the ' +\n",
              "            '<a target=\"_blank\" href=https://colab.research.google.com/notebooks/data_table.ipynb>data table notebook</a>'\n",
              "            + ' to learn more about interactive tables.';\n",
              "          element.innerHTML = '';\n",
              "          dataTable['output_type'] = 'display_data';\n",
              "          await google.colab.output.renderOutput(dataTable, element);\n",
              "          const docLink = document.createElement('div');\n",
              "          docLink.innerHTML = docLinkHtml;\n",
              "          element.appendChild(docLink);\n",
              "        }\n",
              "      </script>\n",
              "    </div>\n",
              "  </div>\n",
              "  "
            ]
          },
          "metadata": {},
          "execution_count": 79
        }
      ]
    },
    {
      "cell_type": "code",
      "source": [
        "results_long_fit.loc[results_long_fit['model'] == 'RF']"
      ],
      "metadata": {
        "colab": {
          "base_uri": "https://localhost:8080/",
          "height": 1000
        },
        "id": "fvl7celINDtD",
        "outputId": "26868189-d50b-42d6-805e-42899502478d"
      },
      "execution_count": null,
      "outputs": [
        {
          "output_type": "execute_result",
          "data": {
            "text/plain": [
              "    model     metrics     values\n",
              "267    RF  score_time   0.947523\n",
              "266    RF  score_time   0.947523\n",
              "245    RF  score_time   0.947523\n",
              "256    RF  score_time   0.947523\n",
              "254    RF  score_time   0.955804\n",
              "252    RF  score_time   0.955804\n",
              "259    RF  score_time   0.955804\n",
              "241    RF  score_time   0.955804\n",
              "251    RF  score_time   0.959186\n",
              "243    RF  score_time   0.959186\n",
              "244    RF  score_time   0.959186\n",
              "247    RF  score_time   0.959186\n",
              "269    RF  score_time   0.959186\n",
              "242    RF  score_time   1.330175\n",
              "265    RF  score_time   1.330175\n",
              "246    RF  score_time   1.330175\n",
              "248    RF  score_time   1.330175\n",
              "261    RF  score_time   1.330175\n",
              "255    RF  score_time   1.330175\n",
              "258    RF  score_time   1.330175\n",
              "262    RF  score_time   1.996442\n",
              "250    RF  score_time   1.996442\n",
              "249    RF  score_time   1.996442\n",
              "253    RF  score_time   1.996442\n",
              "264    RF  score_time   1.996442\n",
              "257    RF  score_time   1.996442\n",
              "263    RF  score_time   1.996442\n",
              "260    RF  score_time   1.996442\n",
              "240    RF  score_time   1.996442\n",
              "268    RF  score_time   1.996442\n",
              "76     RF    fit_time  58.459928\n",
              "87     RF    fit_time  58.459928\n",
              "65     RF    fit_time  58.459928\n",
              "86     RF    fit_time  58.459928\n",
              "71     RF    fit_time  60.479369\n",
              "67     RF    fit_time  60.479369\n",
              "89     RF    fit_time  60.479369\n",
              "64     RF    fit_time  60.479369\n",
              "63     RF    fit_time  60.479369\n",
              "88     RF    fit_time  60.782162\n",
              "84     RF    fit_time  60.782162\n",
              "83     RF    fit_time  60.782162\n",
              "82     RF    fit_time  60.782162\n",
              "60     RF    fit_time  60.782162\n",
              "80     RF    fit_time  60.782162\n",
              "77     RF    fit_time  60.782162\n",
              "73     RF    fit_time  60.782162\n",
              "70     RF    fit_time  60.782162\n",
              "69     RF    fit_time  60.782162\n",
              "79     RF    fit_time  61.891041\n",
              "74     RF    fit_time  61.891041\n",
              "72     RF    fit_time  61.891041\n",
              "61     RF    fit_time  61.891041\n",
              "78     RF    fit_time  62.356751\n",
              "85     RF    fit_time  62.356751\n",
              "75     RF    fit_time  62.356751\n",
              "68     RF    fit_time  62.356751\n",
              "66     RF    fit_time  62.356751\n",
              "62     RF    fit_time  62.356751\n",
              "81     RF    fit_time  62.356751"
            ],
            "text/html": [
              "\n",
              "  <div id=\"df-b9dfa9a9-85e5-45c7-bc9a-d349037e44c8\">\n",
              "    <div class=\"colab-df-container\">\n",
              "      <div>\n",
              "<style scoped>\n",
              "    .dataframe tbody tr th:only-of-type {\n",
              "        vertical-align: middle;\n",
              "    }\n",
              "\n",
              "    .dataframe tbody tr th {\n",
              "        vertical-align: top;\n",
              "    }\n",
              "\n",
              "    .dataframe thead th {\n",
              "        text-align: right;\n",
              "    }\n",
              "</style>\n",
              "<table border=\"1\" class=\"dataframe\">\n",
              "  <thead>\n",
              "    <tr style=\"text-align: right;\">\n",
              "      <th></th>\n",
              "      <th>model</th>\n",
              "      <th>metrics</th>\n",
              "      <th>values</th>\n",
              "    </tr>\n",
              "  </thead>\n",
              "  <tbody>\n",
              "    <tr>\n",
              "      <th>267</th>\n",
              "      <td>RF</td>\n",
              "      <td>score_time</td>\n",
              "      <td>0.947523</td>\n",
              "    </tr>\n",
              "    <tr>\n",
              "      <th>266</th>\n",
              "      <td>RF</td>\n",
              "      <td>score_time</td>\n",
              "      <td>0.947523</td>\n",
              "    </tr>\n",
              "    <tr>\n",
              "      <th>245</th>\n",
              "      <td>RF</td>\n",
              "      <td>score_time</td>\n",
              "      <td>0.947523</td>\n",
              "    </tr>\n",
              "    <tr>\n",
              "      <th>256</th>\n",
              "      <td>RF</td>\n",
              "      <td>score_time</td>\n",
              "      <td>0.947523</td>\n",
              "    </tr>\n",
              "    <tr>\n",
              "      <th>254</th>\n",
              "      <td>RF</td>\n",
              "      <td>score_time</td>\n",
              "      <td>0.955804</td>\n",
              "    </tr>\n",
              "    <tr>\n",
              "      <th>252</th>\n",
              "      <td>RF</td>\n",
              "      <td>score_time</td>\n",
              "      <td>0.955804</td>\n",
              "    </tr>\n",
              "    <tr>\n",
              "      <th>259</th>\n",
              "      <td>RF</td>\n",
              "      <td>score_time</td>\n",
              "      <td>0.955804</td>\n",
              "    </tr>\n",
              "    <tr>\n",
              "      <th>241</th>\n",
              "      <td>RF</td>\n",
              "      <td>score_time</td>\n",
              "      <td>0.955804</td>\n",
              "    </tr>\n",
              "    <tr>\n",
              "      <th>251</th>\n",
              "      <td>RF</td>\n",
              "      <td>score_time</td>\n",
              "      <td>0.959186</td>\n",
              "    </tr>\n",
              "    <tr>\n",
              "      <th>243</th>\n",
              "      <td>RF</td>\n",
              "      <td>score_time</td>\n",
              "      <td>0.959186</td>\n",
              "    </tr>\n",
              "    <tr>\n",
              "      <th>244</th>\n",
              "      <td>RF</td>\n",
              "      <td>score_time</td>\n",
              "      <td>0.959186</td>\n",
              "    </tr>\n",
              "    <tr>\n",
              "      <th>247</th>\n",
              "      <td>RF</td>\n",
              "      <td>score_time</td>\n",
              "      <td>0.959186</td>\n",
              "    </tr>\n",
              "    <tr>\n",
              "      <th>269</th>\n",
              "      <td>RF</td>\n",
              "      <td>score_time</td>\n",
              "      <td>0.959186</td>\n",
              "    </tr>\n",
              "    <tr>\n",
              "      <th>242</th>\n",
              "      <td>RF</td>\n",
              "      <td>score_time</td>\n",
              "      <td>1.330175</td>\n",
              "    </tr>\n",
              "    <tr>\n",
              "      <th>265</th>\n",
              "      <td>RF</td>\n",
              "      <td>score_time</td>\n",
              "      <td>1.330175</td>\n",
              "    </tr>\n",
              "    <tr>\n",
              "      <th>246</th>\n",
              "      <td>RF</td>\n",
              "      <td>score_time</td>\n",
              "      <td>1.330175</td>\n",
              "    </tr>\n",
              "    <tr>\n",
              "      <th>248</th>\n",
              "      <td>RF</td>\n",
              "      <td>score_time</td>\n",
              "      <td>1.330175</td>\n",
              "    </tr>\n",
              "    <tr>\n",
              "      <th>261</th>\n",
              "      <td>RF</td>\n",
              "      <td>score_time</td>\n",
              "      <td>1.330175</td>\n",
              "    </tr>\n",
              "    <tr>\n",
              "      <th>255</th>\n",
              "      <td>RF</td>\n",
              "      <td>score_time</td>\n",
              "      <td>1.330175</td>\n",
              "    </tr>\n",
              "    <tr>\n",
              "      <th>258</th>\n",
              "      <td>RF</td>\n",
              "      <td>score_time</td>\n",
              "      <td>1.330175</td>\n",
              "    </tr>\n",
              "    <tr>\n",
              "      <th>262</th>\n",
              "      <td>RF</td>\n",
              "      <td>score_time</td>\n",
              "      <td>1.996442</td>\n",
              "    </tr>\n",
              "    <tr>\n",
              "      <th>250</th>\n",
              "      <td>RF</td>\n",
              "      <td>score_time</td>\n",
              "      <td>1.996442</td>\n",
              "    </tr>\n",
              "    <tr>\n",
              "      <th>249</th>\n",
              "      <td>RF</td>\n",
              "      <td>score_time</td>\n",
              "      <td>1.996442</td>\n",
              "    </tr>\n",
              "    <tr>\n",
              "      <th>253</th>\n",
              "      <td>RF</td>\n",
              "      <td>score_time</td>\n",
              "      <td>1.996442</td>\n",
              "    </tr>\n",
              "    <tr>\n",
              "      <th>264</th>\n",
              "      <td>RF</td>\n",
              "      <td>score_time</td>\n",
              "      <td>1.996442</td>\n",
              "    </tr>\n",
              "    <tr>\n",
              "      <th>257</th>\n",
              "      <td>RF</td>\n",
              "      <td>score_time</td>\n",
              "      <td>1.996442</td>\n",
              "    </tr>\n",
              "    <tr>\n",
              "      <th>263</th>\n",
              "      <td>RF</td>\n",
              "      <td>score_time</td>\n",
              "      <td>1.996442</td>\n",
              "    </tr>\n",
              "    <tr>\n",
              "      <th>260</th>\n",
              "      <td>RF</td>\n",
              "      <td>score_time</td>\n",
              "      <td>1.996442</td>\n",
              "    </tr>\n",
              "    <tr>\n",
              "      <th>240</th>\n",
              "      <td>RF</td>\n",
              "      <td>score_time</td>\n",
              "      <td>1.996442</td>\n",
              "    </tr>\n",
              "    <tr>\n",
              "      <th>268</th>\n",
              "      <td>RF</td>\n",
              "      <td>score_time</td>\n",
              "      <td>1.996442</td>\n",
              "    </tr>\n",
              "    <tr>\n",
              "      <th>76</th>\n",
              "      <td>RF</td>\n",
              "      <td>fit_time</td>\n",
              "      <td>58.459928</td>\n",
              "    </tr>\n",
              "    <tr>\n",
              "      <th>87</th>\n",
              "      <td>RF</td>\n",
              "      <td>fit_time</td>\n",
              "      <td>58.459928</td>\n",
              "    </tr>\n",
              "    <tr>\n",
              "      <th>65</th>\n",
              "      <td>RF</td>\n",
              "      <td>fit_time</td>\n",
              "      <td>58.459928</td>\n",
              "    </tr>\n",
              "    <tr>\n",
              "      <th>86</th>\n",
              "      <td>RF</td>\n",
              "      <td>fit_time</td>\n",
              "      <td>58.459928</td>\n",
              "    </tr>\n",
              "    <tr>\n",
              "      <th>71</th>\n",
              "      <td>RF</td>\n",
              "      <td>fit_time</td>\n",
              "      <td>60.479369</td>\n",
              "    </tr>\n",
              "    <tr>\n",
              "      <th>67</th>\n",
              "      <td>RF</td>\n",
              "      <td>fit_time</td>\n",
              "      <td>60.479369</td>\n",
              "    </tr>\n",
              "    <tr>\n",
              "      <th>89</th>\n",
              "      <td>RF</td>\n",
              "      <td>fit_time</td>\n",
              "      <td>60.479369</td>\n",
              "    </tr>\n",
              "    <tr>\n",
              "      <th>64</th>\n",
              "      <td>RF</td>\n",
              "      <td>fit_time</td>\n",
              "      <td>60.479369</td>\n",
              "    </tr>\n",
              "    <tr>\n",
              "      <th>63</th>\n",
              "      <td>RF</td>\n",
              "      <td>fit_time</td>\n",
              "      <td>60.479369</td>\n",
              "    </tr>\n",
              "    <tr>\n",
              "      <th>88</th>\n",
              "      <td>RF</td>\n",
              "      <td>fit_time</td>\n",
              "      <td>60.782162</td>\n",
              "    </tr>\n",
              "    <tr>\n",
              "      <th>84</th>\n",
              "      <td>RF</td>\n",
              "      <td>fit_time</td>\n",
              "      <td>60.782162</td>\n",
              "    </tr>\n",
              "    <tr>\n",
              "      <th>83</th>\n",
              "      <td>RF</td>\n",
              "      <td>fit_time</td>\n",
              "      <td>60.782162</td>\n",
              "    </tr>\n",
              "    <tr>\n",
              "      <th>82</th>\n",
              "      <td>RF</td>\n",
              "      <td>fit_time</td>\n",
              "      <td>60.782162</td>\n",
              "    </tr>\n",
              "    <tr>\n",
              "      <th>60</th>\n",
              "      <td>RF</td>\n",
              "      <td>fit_time</td>\n",
              "      <td>60.782162</td>\n",
              "    </tr>\n",
              "    <tr>\n",
              "      <th>80</th>\n",
              "      <td>RF</td>\n",
              "      <td>fit_time</td>\n",
              "      <td>60.782162</td>\n",
              "    </tr>\n",
              "    <tr>\n",
              "      <th>77</th>\n",
              "      <td>RF</td>\n",
              "      <td>fit_time</td>\n",
              "      <td>60.782162</td>\n",
              "    </tr>\n",
              "    <tr>\n",
              "      <th>73</th>\n",
              "      <td>RF</td>\n",
              "      <td>fit_time</td>\n",
              "      <td>60.782162</td>\n",
              "    </tr>\n",
              "    <tr>\n",
              "      <th>70</th>\n",
              "      <td>RF</td>\n",
              "      <td>fit_time</td>\n",
              "      <td>60.782162</td>\n",
              "    </tr>\n",
              "    <tr>\n",
              "      <th>69</th>\n",
              "      <td>RF</td>\n",
              "      <td>fit_time</td>\n",
              "      <td>60.782162</td>\n",
              "    </tr>\n",
              "    <tr>\n",
              "      <th>79</th>\n",
              "      <td>RF</td>\n",
              "      <td>fit_time</td>\n",
              "      <td>61.891041</td>\n",
              "    </tr>\n",
              "    <tr>\n",
              "      <th>74</th>\n",
              "      <td>RF</td>\n",
              "      <td>fit_time</td>\n",
              "      <td>61.891041</td>\n",
              "    </tr>\n",
              "    <tr>\n",
              "      <th>72</th>\n",
              "      <td>RF</td>\n",
              "      <td>fit_time</td>\n",
              "      <td>61.891041</td>\n",
              "    </tr>\n",
              "    <tr>\n",
              "      <th>61</th>\n",
              "      <td>RF</td>\n",
              "      <td>fit_time</td>\n",
              "      <td>61.891041</td>\n",
              "    </tr>\n",
              "    <tr>\n",
              "      <th>78</th>\n",
              "      <td>RF</td>\n",
              "      <td>fit_time</td>\n",
              "      <td>62.356751</td>\n",
              "    </tr>\n",
              "    <tr>\n",
              "      <th>85</th>\n",
              "      <td>RF</td>\n",
              "      <td>fit_time</td>\n",
              "      <td>62.356751</td>\n",
              "    </tr>\n",
              "    <tr>\n",
              "      <th>75</th>\n",
              "      <td>RF</td>\n",
              "      <td>fit_time</td>\n",
              "      <td>62.356751</td>\n",
              "    </tr>\n",
              "    <tr>\n",
              "      <th>68</th>\n",
              "      <td>RF</td>\n",
              "      <td>fit_time</td>\n",
              "      <td>62.356751</td>\n",
              "    </tr>\n",
              "    <tr>\n",
              "      <th>66</th>\n",
              "      <td>RF</td>\n",
              "      <td>fit_time</td>\n",
              "      <td>62.356751</td>\n",
              "    </tr>\n",
              "    <tr>\n",
              "      <th>62</th>\n",
              "      <td>RF</td>\n",
              "      <td>fit_time</td>\n",
              "      <td>62.356751</td>\n",
              "    </tr>\n",
              "    <tr>\n",
              "      <th>81</th>\n",
              "      <td>RF</td>\n",
              "      <td>fit_time</td>\n",
              "      <td>62.356751</td>\n",
              "    </tr>\n",
              "  </tbody>\n",
              "</table>\n",
              "</div>\n",
              "      <button class=\"colab-df-convert\" onclick=\"convertToInteractive('df-b9dfa9a9-85e5-45c7-bc9a-d349037e44c8')\"\n",
              "              title=\"Convert this dataframe to an interactive table.\"\n",
              "              style=\"display:none;\">\n",
              "        \n",
              "  <svg xmlns=\"http://www.w3.org/2000/svg\" height=\"24px\"viewBox=\"0 0 24 24\"\n",
              "       width=\"24px\">\n",
              "    <path d=\"M0 0h24v24H0V0z\" fill=\"none\"/>\n",
              "    <path d=\"M18.56 5.44l.94 2.06.94-2.06 2.06-.94-2.06-.94-.94-2.06-.94 2.06-2.06.94zm-11 1L8.5 8.5l.94-2.06 2.06-.94-2.06-.94L8.5 2.5l-.94 2.06-2.06.94zm10 10l.94 2.06.94-2.06 2.06-.94-2.06-.94-.94-2.06-.94 2.06-2.06.94z\"/><path d=\"M17.41 7.96l-1.37-1.37c-.4-.4-.92-.59-1.43-.59-.52 0-1.04.2-1.43.59L10.3 9.45l-7.72 7.72c-.78.78-.78 2.05 0 2.83L4 21.41c.39.39.9.59 1.41.59.51 0 1.02-.2 1.41-.59l7.78-7.78 2.81-2.81c.8-.78.8-2.07 0-2.86zM5.41 20L4 18.59l7.72-7.72 1.47 1.35L5.41 20z\"/>\n",
              "  </svg>\n",
              "      </button>\n",
              "      \n",
              "  <style>\n",
              "    .colab-df-container {\n",
              "      display:flex;\n",
              "      flex-wrap:wrap;\n",
              "      gap: 12px;\n",
              "    }\n",
              "\n",
              "    .colab-df-convert {\n",
              "      background-color: #E8F0FE;\n",
              "      border: none;\n",
              "      border-radius: 50%;\n",
              "      cursor: pointer;\n",
              "      display: none;\n",
              "      fill: #1967D2;\n",
              "      height: 32px;\n",
              "      padding: 0 0 0 0;\n",
              "      width: 32px;\n",
              "    }\n",
              "\n",
              "    .colab-df-convert:hover {\n",
              "      background-color: #E2EBFA;\n",
              "      box-shadow: 0px 1px 2px rgba(60, 64, 67, 0.3), 0px 1px 3px 1px rgba(60, 64, 67, 0.15);\n",
              "      fill: #174EA6;\n",
              "    }\n",
              "\n",
              "    [theme=dark] .colab-df-convert {\n",
              "      background-color: #3B4455;\n",
              "      fill: #D2E3FC;\n",
              "    }\n",
              "\n",
              "    [theme=dark] .colab-df-convert:hover {\n",
              "      background-color: #434B5C;\n",
              "      box-shadow: 0px 1px 3px 1px rgba(0, 0, 0, 0.15);\n",
              "      filter: drop-shadow(0px 1px 2px rgba(0, 0, 0, 0.3));\n",
              "      fill: #FFFFFF;\n",
              "    }\n",
              "  </style>\n",
              "\n",
              "      <script>\n",
              "        const buttonEl =\n",
              "          document.querySelector('#df-b9dfa9a9-85e5-45c7-bc9a-d349037e44c8 button.colab-df-convert');\n",
              "        buttonEl.style.display =\n",
              "          google.colab.kernel.accessAllowed ? 'block' : 'none';\n",
              "\n",
              "        async function convertToInteractive(key) {\n",
              "          const element = document.querySelector('#df-b9dfa9a9-85e5-45c7-bc9a-d349037e44c8');\n",
              "          const dataTable =\n",
              "            await google.colab.kernel.invokeFunction('convertToInteractive',\n",
              "                                                     [key], {});\n",
              "          if (!dataTable) return;\n",
              "\n",
              "          const docLinkHtml = 'Like what you see? Visit the ' +\n",
              "            '<a target=\"_blank\" href=https://colab.research.google.com/notebooks/data_table.ipynb>data table notebook</a>'\n",
              "            + ' to learn more about interactive tables.';\n",
              "          element.innerHTML = '';\n",
              "          dataTable['output_type'] = 'display_data';\n",
              "          await google.colab.output.renderOutput(dataTable, element);\n",
              "          const docLink = document.createElement('div');\n",
              "          docLink.innerHTML = docLinkHtml;\n",
              "          element.appendChild(docLink);\n",
              "        }\n",
              "      </script>\n",
              "    </div>\n",
              "  </div>\n",
              "  "
            ]
          },
          "metadata": {},
          "execution_count": 70
        }
      ]
    },
    {
      "cell_type": "code",
      "source": [
        "\n",
        "results_long_nofit1 = results_long_nofit.copy(deep=True)\n",
        "# print(results_long_nofit1.iloc(results_long_nofit1['model']==\"RF\"))\n",
        "print(results_long_nofit1.head(40))"
      ],
      "metadata": {
        "colab": {
          "base_uri": "https://localhost:8080/"
        },
        "id": "hu94y-fzDdG3",
        "outputId": "64f0721b-e54c-4d74-fca8-a7e6830c1586"
      },
      "execution_count": null,
      "outputs": [
        {
          "output_type": "stream",
          "name": "stdout",
          "text": [
            "        model       metrics    values\n",
            "1127      GNB  test_roc_auc  0.602315\n",
            "1126      GNB  test_roc_auc  0.602315\n",
            "1133      GNB  test_roc_auc  0.602315\n",
            "1121      GNB  test_roc_auc  0.602315\n",
            "1137      GNB  test_roc_auc  0.602315\n",
            "1134      GNB  test_roc_auc  0.603496\n",
            "1136      GNB  test_roc_auc  0.603496\n",
            "1130      GNB  test_roc_auc  0.603496\n",
            "1129      GNB  test_roc_auc  0.603496\n",
            "1125      GNB  test_roc_auc  0.603496\n",
            "1110      GNB  test_roc_auc  0.603496\n",
            "1112      GNB  test_roc_auc  0.603496\n",
            "1118      GNB  test_roc_auc  0.603496\n",
            "1111      GNB  test_roc_auc  0.603619\n",
            "1114      GNB  test_roc_auc  0.603619\n",
            "1115      GNB  test_roc_auc  0.603619\n",
            "1138      GNB  test_roc_auc  0.603619\n",
            "1117      GNB  test_roc_auc  0.603619\n",
            "1135      GNB  test_roc_auc  0.603619\n",
            "1116      GNB  test_roc_auc  0.603619\n",
            "1120      GNB  test_roc_auc  0.609473\n",
            "1131      GNB  test_roc_auc  0.609473\n",
            "1119      GNB  test_roc_auc  0.609473\n",
            "1139      GNB  test_roc_auc  0.609473\n",
            "1113      GNB  test_roc_auc  0.614051\n",
            "1122      GNB  test_roc_auc  0.614051\n",
            "1123      GNB  test_roc_auc  0.614051\n",
            "1124      GNB  test_roc_auc  0.614051\n",
            "1128      GNB  test_roc_auc  0.614051\n",
            "1132      GNB  test_roc_auc  0.614051\n",
            "1098  DecTree  test_roc_auc  0.625797\n",
            "1085  DecTree  test_roc_auc  0.625797\n",
            "1106  DecTree  test_roc_auc  0.625797\n",
            "1083  DecTree  test_roc_auc  0.625797\n",
            "1081  DecTree  test_roc_auc  0.625797\n",
            "1086  DecTree  test_roc_auc  0.627927\n",
            "1107  DecTree  test_roc_auc  0.627927\n",
            "1101  DecTree  test_roc_auc  0.627927\n",
            "1100  DecTree  test_roc_auc  0.627927\n",
            "1088  DecTree  test_roc_auc  0.627927\n"
          ]
        }
      ]
    },
    {
      "cell_type": "code",
      "source": [
        "results_long_nofit1.loc[results_long_nofit1['model'] == 'RF']"
      ],
      "metadata": {
        "colab": {
          "base_uri": "https://localhost:8080/",
          "height": 424
        },
        "id": "wUgLg7nhMWK4",
        "outputId": "ac273e57-6c67-4ebb-a1c6-f3208a90e19d"
      },
      "execution_count": null,
      "outputs": [
        {
          "output_type": "execute_result",
          "data": {
            "text/plain": [
              "     model               metrics    values\n",
              "1166    RF          test_roc_auc  0.753185\n",
              "1167    RF          test_roc_auc  0.753185\n",
              "1156    RF          test_roc_auc  0.753185\n",
              "1145    RF          test_roc_auc  0.753185\n",
              "1165    RF          test_roc_auc  0.755396\n",
              "...    ...                   ...       ...\n",
              "444     RF         test_accuracy  0.813115\n",
              "442     RF         test_accuracy  0.813115\n",
              "440     RF         test_accuracy  0.813115\n",
              "802     RF  test_recall_weighted  0.813115\n",
              "443     RF         test_accuracy  0.813115\n",
              "\n",
              "[150 rows x 3 columns]"
            ],
            "text/html": [
              "\n",
              "  <div id=\"df-793d4d2f-a66e-4bfd-b7e4-a6fcd266f088\">\n",
              "    <div class=\"colab-df-container\">\n",
              "      <div>\n",
              "<style scoped>\n",
              "    .dataframe tbody tr th:only-of-type {\n",
              "        vertical-align: middle;\n",
              "    }\n",
              "\n",
              "    .dataframe tbody tr th {\n",
              "        vertical-align: top;\n",
              "    }\n",
              "\n",
              "    .dataframe thead th {\n",
              "        text-align: right;\n",
              "    }\n",
              "</style>\n",
              "<table border=\"1\" class=\"dataframe\">\n",
              "  <thead>\n",
              "    <tr style=\"text-align: right;\">\n",
              "      <th></th>\n",
              "      <th>model</th>\n",
              "      <th>metrics</th>\n",
              "      <th>values</th>\n",
              "    </tr>\n",
              "  </thead>\n",
              "  <tbody>\n",
              "    <tr>\n",
              "      <th>1166</th>\n",
              "      <td>RF</td>\n",
              "      <td>test_roc_auc</td>\n",
              "      <td>0.753185</td>\n",
              "    </tr>\n",
              "    <tr>\n",
              "      <th>1167</th>\n",
              "      <td>RF</td>\n",
              "      <td>test_roc_auc</td>\n",
              "      <td>0.753185</td>\n",
              "    </tr>\n",
              "    <tr>\n",
              "      <th>1156</th>\n",
              "      <td>RF</td>\n",
              "      <td>test_roc_auc</td>\n",
              "      <td>0.753185</td>\n",
              "    </tr>\n",
              "    <tr>\n",
              "      <th>1145</th>\n",
              "      <td>RF</td>\n",
              "      <td>test_roc_auc</td>\n",
              "      <td>0.753185</td>\n",
              "    </tr>\n",
              "    <tr>\n",
              "      <th>1165</th>\n",
              "      <td>RF</td>\n",
              "      <td>test_roc_auc</td>\n",
              "      <td>0.755396</td>\n",
              "    </tr>\n",
              "    <tr>\n",
              "      <th>...</th>\n",
              "      <td>...</td>\n",
              "      <td>...</td>\n",
              "      <td>...</td>\n",
              "    </tr>\n",
              "    <tr>\n",
              "      <th>444</th>\n",
              "      <td>RF</td>\n",
              "      <td>test_accuracy</td>\n",
              "      <td>0.813115</td>\n",
              "    </tr>\n",
              "    <tr>\n",
              "      <th>442</th>\n",
              "      <td>RF</td>\n",
              "      <td>test_accuracy</td>\n",
              "      <td>0.813115</td>\n",
              "    </tr>\n",
              "    <tr>\n",
              "      <th>440</th>\n",
              "      <td>RF</td>\n",
              "      <td>test_accuracy</td>\n",
              "      <td>0.813115</td>\n",
              "    </tr>\n",
              "    <tr>\n",
              "      <th>802</th>\n",
              "      <td>RF</td>\n",
              "      <td>test_recall_weighted</td>\n",
              "      <td>0.813115</td>\n",
              "    </tr>\n",
              "    <tr>\n",
              "      <th>443</th>\n",
              "      <td>RF</td>\n",
              "      <td>test_accuracy</td>\n",
              "      <td>0.813115</td>\n",
              "    </tr>\n",
              "  </tbody>\n",
              "</table>\n",
              "<p>150 rows × 3 columns</p>\n",
              "</div>\n",
              "      <button class=\"colab-df-convert\" onclick=\"convertToInteractive('df-793d4d2f-a66e-4bfd-b7e4-a6fcd266f088')\"\n",
              "              title=\"Convert this dataframe to an interactive table.\"\n",
              "              style=\"display:none;\">\n",
              "        \n",
              "  <svg xmlns=\"http://www.w3.org/2000/svg\" height=\"24px\"viewBox=\"0 0 24 24\"\n",
              "       width=\"24px\">\n",
              "    <path d=\"M0 0h24v24H0V0z\" fill=\"none\"/>\n",
              "    <path d=\"M18.56 5.44l.94 2.06.94-2.06 2.06-.94-2.06-.94-.94-2.06-.94 2.06-2.06.94zm-11 1L8.5 8.5l.94-2.06 2.06-.94-2.06-.94L8.5 2.5l-.94 2.06-2.06.94zm10 10l.94 2.06.94-2.06 2.06-.94-2.06-.94-.94-2.06-.94 2.06-2.06.94z\"/><path d=\"M17.41 7.96l-1.37-1.37c-.4-.4-.92-.59-1.43-.59-.52 0-1.04.2-1.43.59L10.3 9.45l-7.72 7.72c-.78.78-.78 2.05 0 2.83L4 21.41c.39.39.9.59 1.41.59.51 0 1.02-.2 1.41-.59l7.78-7.78 2.81-2.81c.8-.78.8-2.07 0-2.86zM5.41 20L4 18.59l7.72-7.72 1.47 1.35L5.41 20z\"/>\n",
              "  </svg>\n",
              "      </button>\n",
              "      \n",
              "  <style>\n",
              "    .colab-df-container {\n",
              "      display:flex;\n",
              "      flex-wrap:wrap;\n",
              "      gap: 12px;\n",
              "    }\n",
              "\n",
              "    .colab-df-convert {\n",
              "      background-color: #E8F0FE;\n",
              "      border: none;\n",
              "      border-radius: 50%;\n",
              "      cursor: pointer;\n",
              "      display: none;\n",
              "      fill: #1967D2;\n",
              "      height: 32px;\n",
              "      padding: 0 0 0 0;\n",
              "      width: 32px;\n",
              "    }\n",
              "\n",
              "    .colab-df-convert:hover {\n",
              "      background-color: #E2EBFA;\n",
              "      box-shadow: 0px 1px 2px rgba(60, 64, 67, 0.3), 0px 1px 3px 1px rgba(60, 64, 67, 0.15);\n",
              "      fill: #174EA6;\n",
              "    }\n",
              "\n",
              "    [theme=dark] .colab-df-convert {\n",
              "      background-color: #3B4455;\n",
              "      fill: #D2E3FC;\n",
              "    }\n",
              "\n",
              "    [theme=dark] .colab-df-convert:hover {\n",
              "      background-color: #434B5C;\n",
              "      box-shadow: 0px 1px 3px 1px rgba(0, 0, 0, 0.15);\n",
              "      filter: drop-shadow(0px 1px 2px rgba(0, 0, 0, 0.3));\n",
              "      fill: #FFFFFF;\n",
              "    }\n",
              "  </style>\n",
              "\n",
              "      <script>\n",
              "        const buttonEl =\n",
              "          document.querySelector('#df-793d4d2f-a66e-4bfd-b7e4-a6fcd266f088 button.colab-df-convert');\n",
              "        buttonEl.style.display =\n",
              "          google.colab.kernel.accessAllowed ? 'block' : 'none';\n",
              "\n",
              "        async function convertToInteractive(key) {\n",
              "          const element = document.querySelector('#df-793d4d2f-a66e-4bfd-b7e4-a6fcd266f088');\n",
              "          const dataTable =\n",
              "            await google.colab.kernel.invokeFunction('convertToInteractive',\n",
              "                                                     [key], {});\n",
              "          if (!dataTable) return;\n",
              "\n",
              "          const docLinkHtml = 'Like what you see? Visit the ' +\n",
              "            '<a target=\"_blank\" href=https://colab.research.google.com/notebooks/data_table.ipynb>data table notebook</a>'\n",
              "            + ' to learn more about interactive tables.';\n",
              "          element.innerHTML = '';\n",
              "          dataTable['output_type'] = 'display_data';\n",
              "          await google.colab.output.renderOutput(dataTable, element);\n",
              "          const docLink = document.createElement('div');\n",
              "          docLink.innerHTML = docLinkHtml;\n",
              "          element.appendChild(docLink);\n",
              "        }\n",
              "      </script>\n",
              "    </div>\n",
              "  </div>\n",
              "  "
            ]
          },
          "metadata": {},
          "execution_count": 68
        }
      ]
    },
    {
      "cell_type": "code",
      "source": [
        "# inserting column with static value in data frame\n",
        "D1=[['LR-TEST'\t\t,0.6923\t\t   ,0.6333\t\t,\t0.7314\t\t,\t0.9123\t,\t0.6712       ],\n",
        "['KNN-TEST'\t\t,0.6911\t\t   , 0.6341,\t0.7318\t\t,\t0.9087\t,\t0.5092       ],\n",
        "['DT-TEST'\t\t,0.5785\t\t   , 0.5991,\t 0.7603,\t0.6145\t,\t0.5483       ],\n",
        "['RF-TEST'\t\t, 0.7253,\t 0.6810,\t\t 0.7547,0.9223,0.5605],\n",
        "['GNB -TEST'\t, 0.7255, 0.6955,0.7658,0.8971,0.5819],\n",
        "['XGB  -TEST'\t,\t 0.7523,0.6740,0.7487,0.9929,0.5511],\n",
        "['DNN- Test'\t,0.81,0.80,\t0.8,1 ,  0.65],\n",
        "['PNN- Test'\t,0.84,0.81,\t0.83,1 ,  0.69]]"
      ],
      "metadata": {
        "id": "X4eoi0JlD63e"
      },
      "execution_count": null,
      "outputs": []
    },
    {
      "cell_type": "code",
      "source": [
        "D2=[['LogReg'\t\t,0.567  ],\n",
        "['KNN'\t\t,0.523  ],\n",
        "['Dec Tree'\t\t,0.6559 ],\n",
        "['RF'\t\t,0.482  ],\n",
        "['GNB' \t,0.4804 ],\n",
        "['XGB'\t\t,0.4386 ],\n",
        "['DNN'\t,0.4270 ],\n",
        "['PNN'\t,0.3870 ]]"
      ],
      "metadata": {
        "id": "8NAmhp4mqz7e"
      },
      "execution_count": null,
      "outputs": []
    },
    {
      "cell_type": "code",
      "source": [
        "D1"
      ],
      "metadata": {
        "colab": {
          "base_uri": "https://localhost:8080/"
        },
        "id": "s1y9koTOkO_Q",
        "outputId": "aaca5108-c0a8-43c2-9120-2d897b71ac38"
      },
      "execution_count": null,
      "outputs": [
        {
          "output_type": "execute_result",
          "data": {
            "text/plain": [
              "[['LR-TEST', 0.6923, 0.6333, 0.7314, 0.9123, 0.6712],\n",
              " ['KNN-TEST', 0.6911, 0.6341, 0.7318, 0.9087, 0.5092],\n",
              " ['DT-TEST', 0.5785, 0.5991, 0.7603, 0.6145, 0.5483],\n",
              " ['RF-TEST', 0.7253, 0.681, 0.7547, 0.9223, 0.5605],\n",
              " ['GNB -TEST', 0.7255, 0.6955, 0.7658, 0.8971, 0.5819],\n",
              " ['XGB  -TEST', 0.7523, 0.674, 0.7487, 0.9929, 0.5511],\n",
              " ['DNN- Test', 0.81, 0.8, 0.8, 1, 0.65],\n",
              " ['PNN- Test', 0.84, 0.81, 0.83, 1, 0.69]]"
            ]
          },
          "metadata": {},
          "execution_count": 7
        }
      ]
    },
    {
      "cell_type": "code",
      "source": [
        "df1 = pd.DataFrame(D1, columns=['Model',\t'Accuracy','f1 score', \t'Precision', 'Recall',\t'ROC AUC'])\n",
        "df1.set_index('Model', inplace=True)"
      ],
      "metadata": {
        "id": "QgctwtH2O8G7"
      },
      "execution_count": null,
      "outputs": []
    },
    {
      "cell_type": "code",
      "source": [
        "\n",
        "plt.figure(figsize=(8,12))\n",
        "\n",
        "sns.countplot(df1['Model'])"
      ],
      "metadata": {
        "colab": {
          "base_uri": "https://localhost:8080/",
          "height": 520
        },
        "id": "qG09V_IdikNH",
        "outputId": "cddbec99-4ed7-411a-8e15-269c6f266834"
      },
      "execution_count": null,
      "outputs": [
        {
          "output_type": "error",
          "ename": "KeyError",
          "evalue": "ignored",
          "traceback": [
            "\u001b[0;31m---------------------------------------------------------------------------\u001b[0m",
            "\u001b[0;31mKeyError\u001b[0m                                  Traceback (most recent call last)",
            "\u001b[0;32m/usr/local/lib/python3.7/dist-packages/pandas/core/indexes/base.py\u001b[0m in \u001b[0;36mget_loc\u001b[0;34m(self, key, method, tolerance)\u001b[0m\n\u001b[1;32m   3360\u001b[0m             \u001b[0;32mtry\u001b[0m\u001b[0;34m:\u001b[0m\u001b[0;34m\u001b[0m\u001b[0;34m\u001b[0m\u001b[0m\n\u001b[0;32m-> 3361\u001b[0;31m                 \u001b[0;32mreturn\u001b[0m \u001b[0mself\u001b[0m\u001b[0;34m.\u001b[0m\u001b[0m_engine\u001b[0m\u001b[0;34m.\u001b[0m\u001b[0mget_loc\u001b[0m\u001b[0;34m(\u001b[0m\u001b[0mcasted_key\u001b[0m\u001b[0;34m)\u001b[0m\u001b[0;34m\u001b[0m\u001b[0;34m\u001b[0m\u001b[0m\n\u001b[0m\u001b[1;32m   3362\u001b[0m             \u001b[0;32mexcept\u001b[0m \u001b[0mKeyError\u001b[0m \u001b[0;32mas\u001b[0m \u001b[0merr\u001b[0m\u001b[0;34m:\u001b[0m\u001b[0;34m\u001b[0m\u001b[0;34m\u001b[0m\u001b[0m\n",
            "\u001b[0;32m/usr/local/lib/python3.7/dist-packages/pandas/_libs/index.pyx\u001b[0m in \u001b[0;36mpandas._libs.index.IndexEngine.get_loc\u001b[0;34m()\u001b[0m\n",
            "\u001b[0;32m/usr/local/lib/python3.7/dist-packages/pandas/_libs/index.pyx\u001b[0m in \u001b[0;36mpandas._libs.index.IndexEngine.get_loc\u001b[0;34m()\u001b[0m\n",
            "\u001b[0;32mpandas/_libs/hashtable_class_helper.pxi\u001b[0m in \u001b[0;36mpandas._libs.hashtable.PyObjectHashTable.get_item\u001b[0;34m()\u001b[0m\n",
            "\u001b[0;32mpandas/_libs/hashtable_class_helper.pxi\u001b[0m in \u001b[0;36mpandas._libs.hashtable.PyObjectHashTable.get_item\u001b[0;34m()\u001b[0m\n",
            "\u001b[0;31mKeyError\u001b[0m: 'Model'",
            "\nThe above exception was the direct cause of the following exception:\n",
            "\u001b[0;31mKeyError\u001b[0m                                  Traceback (most recent call last)",
            "\u001b[0;32m<ipython-input-9-efda0d1defff>\u001b[0m in \u001b[0;36m<module>\u001b[0;34m\u001b[0m\n\u001b[1;32m      1\u001b[0m \u001b[0mplt\u001b[0m\u001b[0;34m.\u001b[0m\u001b[0mfigure\u001b[0m\u001b[0;34m(\u001b[0m\u001b[0mfigsize\u001b[0m\u001b[0;34m=\u001b[0m\u001b[0;34m(\u001b[0m\u001b[0;36m8\u001b[0m\u001b[0;34m,\u001b[0m\u001b[0;36m12\u001b[0m\u001b[0;34m)\u001b[0m\u001b[0;34m)\u001b[0m\u001b[0;34m\u001b[0m\u001b[0;34m\u001b[0m\u001b[0m\n\u001b[1;32m      2\u001b[0m \u001b[0;34m\u001b[0m\u001b[0m\n\u001b[0;32m----> 3\u001b[0;31m \u001b[0msns\u001b[0m\u001b[0;34m.\u001b[0m\u001b[0mcountplot\u001b[0m\u001b[0;34m(\u001b[0m\u001b[0mdf1\u001b[0m\u001b[0;34m[\u001b[0m\u001b[0;34m'Model'\u001b[0m\u001b[0;34m]\u001b[0m\u001b[0;34m)\u001b[0m\u001b[0;34m\u001b[0m\u001b[0;34m\u001b[0m\u001b[0m\n\u001b[0m",
            "\u001b[0;32m/usr/local/lib/python3.7/dist-packages/pandas/core/frame.py\u001b[0m in \u001b[0;36m__getitem__\u001b[0;34m(self, key)\u001b[0m\n\u001b[1;32m   3456\u001b[0m             \u001b[0;32mif\u001b[0m \u001b[0mself\u001b[0m\u001b[0;34m.\u001b[0m\u001b[0mcolumns\u001b[0m\u001b[0;34m.\u001b[0m\u001b[0mnlevels\u001b[0m \u001b[0;34m>\u001b[0m \u001b[0;36m1\u001b[0m\u001b[0;34m:\u001b[0m\u001b[0;34m\u001b[0m\u001b[0;34m\u001b[0m\u001b[0m\n\u001b[1;32m   3457\u001b[0m                 \u001b[0;32mreturn\u001b[0m \u001b[0mself\u001b[0m\u001b[0;34m.\u001b[0m\u001b[0m_getitem_multilevel\u001b[0m\u001b[0;34m(\u001b[0m\u001b[0mkey\u001b[0m\u001b[0;34m)\u001b[0m\u001b[0;34m\u001b[0m\u001b[0;34m\u001b[0m\u001b[0m\n\u001b[0;32m-> 3458\u001b[0;31m             \u001b[0mindexer\u001b[0m \u001b[0;34m=\u001b[0m \u001b[0mself\u001b[0m\u001b[0;34m.\u001b[0m\u001b[0mcolumns\u001b[0m\u001b[0;34m.\u001b[0m\u001b[0mget_loc\u001b[0m\u001b[0;34m(\u001b[0m\u001b[0mkey\u001b[0m\u001b[0;34m)\u001b[0m\u001b[0;34m\u001b[0m\u001b[0;34m\u001b[0m\u001b[0m\n\u001b[0m\u001b[1;32m   3459\u001b[0m             \u001b[0;32mif\u001b[0m \u001b[0mis_integer\u001b[0m\u001b[0;34m(\u001b[0m\u001b[0mindexer\u001b[0m\u001b[0;34m)\u001b[0m\u001b[0;34m:\u001b[0m\u001b[0;34m\u001b[0m\u001b[0;34m\u001b[0m\u001b[0m\n\u001b[1;32m   3460\u001b[0m                 \u001b[0mindexer\u001b[0m \u001b[0;34m=\u001b[0m \u001b[0;34m[\u001b[0m\u001b[0mindexer\u001b[0m\u001b[0;34m]\u001b[0m\u001b[0;34m\u001b[0m\u001b[0;34m\u001b[0m\u001b[0m\n",
            "\u001b[0;32m/usr/local/lib/python3.7/dist-packages/pandas/core/indexes/base.py\u001b[0m in \u001b[0;36mget_loc\u001b[0;34m(self, key, method, tolerance)\u001b[0m\n\u001b[1;32m   3361\u001b[0m                 \u001b[0;32mreturn\u001b[0m \u001b[0mself\u001b[0m\u001b[0;34m.\u001b[0m\u001b[0m_engine\u001b[0m\u001b[0;34m.\u001b[0m\u001b[0mget_loc\u001b[0m\u001b[0;34m(\u001b[0m\u001b[0mcasted_key\u001b[0m\u001b[0;34m)\u001b[0m\u001b[0;34m\u001b[0m\u001b[0;34m\u001b[0m\u001b[0m\n\u001b[1;32m   3362\u001b[0m             \u001b[0;32mexcept\u001b[0m \u001b[0mKeyError\u001b[0m \u001b[0;32mas\u001b[0m \u001b[0merr\u001b[0m\u001b[0;34m:\u001b[0m\u001b[0;34m\u001b[0m\u001b[0;34m\u001b[0m\u001b[0m\n\u001b[0;32m-> 3363\u001b[0;31m                 \u001b[0;32mraise\u001b[0m \u001b[0mKeyError\u001b[0m\u001b[0;34m(\u001b[0m\u001b[0mkey\u001b[0m\u001b[0;34m)\u001b[0m \u001b[0;32mfrom\u001b[0m \u001b[0merr\u001b[0m\u001b[0;34m\u001b[0m\u001b[0;34m\u001b[0m\u001b[0m\n\u001b[0m\u001b[1;32m   3364\u001b[0m \u001b[0;34m\u001b[0m\u001b[0m\n\u001b[1;32m   3365\u001b[0m         \u001b[0;32mif\u001b[0m \u001b[0mis_scalar\u001b[0m\u001b[0;34m(\u001b[0m\u001b[0mkey\u001b[0m\u001b[0;34m)\u001b[0m \u001b[0;32mand\u001b[0m \u001b[0misna\u001b[0m\u001b[0;34m(\u001b[0m\u001b[0mkey\u001b[0m\u001b[0;34m)\u001b[0m \u001b[0;32mand\u001b[0m \u001b[0;32mnot\u001b[0m \u001b[0mself\u001b[0m\u001b[0;34m.\u001b[0m\u001b[0mhasnans\u001b[0m\u001b[0;34m:\u001b[0m\u001b[0;34m\u001b[0m\u001b[0;34m\u001b[0m\u001b[0m\n",
            "\u001b[0;31mKeyError\u001b[0m: 'Model'"
          ]
        },
        {
          "output_type": "display_data",
          "data": {
            "text/plain": [
              "<Figure size 576x864 with 0 Axes>"
            ]
          },
          "metadata": {}
        }
      ]
    },
    {
      "cell_type": "code",
      "source": [
        "df1"
      ],
      "metadata": {
        "colab": {
          "base_uri": "https://localhost:8080/",
          "height": 331
        },
        "id": "Nxm6eniyhvVm",
        "outputId": "e1dce63f-c896-4faa-ad83-c4581ccad54c"
      },
      "execution_count": null,
      "outputs": [
        {
          "output_type": "execute_result",
          "data": {
            "text/plain": [
              "            Accuracy  f1 score  Precision  Recall  ROC AUC\n",
              "Model                                                     \n",
              "LR-TEST       0.6923    0.6333     0.7314  0.9123   0.6712\n",
              "KNN-TEST      0.6911    0.6341     0.7318  0.9087   0.5092\n",
              "DT-TEST       0.5785    0.5991     0.7603  0.6145   0.5483\n",
              "RF-TEST       0.7253    0.6810     0.7547  0.9223   0.5605\n",
              "GNB -TEST     0.7255    0.6955     0.7658  0.8971   0.5819\n",
              "XGB  -TEST    0.7523    0.6740     0.7487  0.9929   0.5511\n",
              "DNN- Test     0.8100    0.8000     0.8000  1.0000   0.6500\n",
              "PNN- Test     0.8400    0.8100     0.8300  1.0000   0.6900"
            ],
            "text/html": [
              "\n",
              "  <div id=\"df-66d7c2ae-8563-418a-b3b2-b43a04745cdc\">\n",
              "    <div class=\"colab-df-container\">\n",
              "      <div>\n",
              "<style scoped>\n",
              "    .dataframe tbody tr th:only-of-type {\n",
              "        vertical-align: middle;\n",
              "    }\n",
              "\n",
              "    .dataframe tbody tr th {\n",
              "        vertical-align: top;\n",
              "    }\n",
              "\n",
              "    .dataframe thead th {\n",
              "        text-align: right;\n",
              "    }\n",
              "</style>\n",
              "<table border=\"1\" class=\"dataframe\">\n",
              "  <thead>\n",
              "    <tr style=\"text-align: right;\">\n",
              "      <th></th>\n",
              "      <th>Accuracy</th>\n",
              "      <th>f1 score</th>\n",
              "      <th>Precision</th>\n",
              "      <th>Recall</th>\n",
              "      <th>ROC AUC</th>\n",
              "    </tr>\n",
              "    <tr>\n",
              "      <th>Model</th>\n",
              "      <th></th>\n",
              "      <th></th>\n",
              "      <th></th>\n",
              "      <th></th>\n",
              "      <th></th>\n",
              "    </tr>\n",
              "  </thead>\n",
              "  <tbody>\n",
              "    <tr>\n",
              "      <th>LR-TEST</th>\n",
              "      <td>0.6923</td>\n",
              "      <td>0.6333</td>\n",
              "      <td>0.7314</td>\n",
              "      <td>0.9123</td>\n",
              "      <td>0.6712</td>\n",
              "    </tr>\n",
              "    <tr>\n",
              "      <th>KNN-TEST</th>\n",
              "      <td>0.6911</td>\n",
              "      <td>0.6341</td>\n",
              "      <td>0.7318</td>\n",
              "      <td>0.9087</td>\n",
              "      <td>0.5092</td>\n",
              "    </tr>\n",
              "    <tr>\n",
              "      <th>DT-TEST</th>\n",
              "      <td>0.5785</td>\n",
              "      <td>0.5991</td>\n",
              "      <td>0.7603</td>\n",
              "      <td>0.6145</td>\n",
              "      <td>0.5483</td>\n",
              "    </tr>\n",
              "    <tr>\n",
              "      <th>RF-TEST</th>\n",
              "      <td>0.7253</td>\n",
              "      <td>0.6810</td>\n",
              "      <td>0.7547</td>\n",
              "      <td>0.9223</td>\n",
              "      <td>0.5605</td>\n",
              "    </tr>\n",
              "    <tr>\n",
              "      <th>GNB -TEST</th>\n",
              "      <td>0.7255</td>\n",
              "      <td>0.6955</td>\n",
              "      <td>0.7658</td>\n",
              "      <td>0.8971</td>\n",
              "      <td>0.5819</td>\n",
              "    </tr>\n",
              "    <tr>\n",
              "      <th>XGB  -TEST</th>\n",
              "      <td>0.7523</td>\n",
              "      <td>0.6740</td>\n",
              "      <td>0.7487</td>\n",
              "      <td>0.9929</td>\n",
              "      <td>0.5511</td>\n",
              "    </tr>\n",
              "    <tr>\n",
              "      <th>DNN- Test</th>\n",
              "      <td>0.8100</td>\n",
              "      <td>0.8000</td>\n",
              "      <td>0.8000</td>\n",
              "      <td>1.0000</td>\n",
              "      <td>0.6500</td>\n",
              "    </tr>\n",
              "    <tr>\n",
              "      <th>PNN- Test</th>\n",
              "      <td>0.8400</td>\n",
              "      <td>0.8100</td>\n",
              "      <td>0.8300</td>\n",
              "      <td>1.0000</td>\n",
              "      <td>0.6900</td>\n",
              "    </tr>\n",
              "  </tbody>\n",
              "</table>\n",
              "</div>\n",
              "      <button class=\"colab-df-convert\" onclick=\"convertToInteractive('df-66d7c2ae-8563-418a-b3b2-b43a04745cdc')\"\n",
              "              title=\"Convert this dataframe to an interactive table.\"\n",
              "              style=\"display:none;\">\n",
              "        \n",
              "  <svg xmlns=\"http://www.w3.org/2000/svg\" height=\"24px\"viewBox=\"0 0 24 24\"\n",
              "       width=\"24px\">\n",
              "    <path d=\"M0 0h24v24H0V0z\" fill=\"none\"/>\n",
              "    <path d=\"M18.56 5.44l.94 2.06.94-2.06 2.06-.94-2.06-.94-.94-2.06-.94 2.06-2.06.94zm-11 1L8.5 8.5l.94-2.06 2.06-.94-2.06-.94L8.5 2.5l-.94 2.06-2.06.94zm10 10l.94 2.06.94-2.06 2.06-.94-2.06-.94-.94-2.06-.94 2.06-2.06.94z\"/><path d=\"M17.41 7.96l-1.37-1.37c-.4-.4-.92-.59-1.43-.59-.52 0-1.04.2-1.43.59L10.3 9.45l-7.72 7.72c-.78.78-.78 2.05 0 2.83L4 21.41c.39.39.9.59 1.41.59.51 0 1.02-.2 1.41-.59l7.78-7.78 2.81-2.81c.8-.78.8-2.07 0-2.86zM5.41 20L4 18.59l7.72-7.72 1.47 1.35L5.41 20z\"/>\n",
              "  </svg>\n",
              "      </button>\n",
              "      \n",
              "  <style>\n",
              "    .colab-df-container {\n",
              "      display:flex;\n",
              "      flex-wrap:wrap;\n",
              "      gap: 12px;\n",
              "    }\n",
              "\n",
              "    .colab-df-convert {\n",
              "      background-color: #E8F0FE;\n",
              "      border: none;\n",
              "      border-radius: 50%;\n",
              "      cursor: pointer;\n",
              "      display: none;\n",
              "      fill: #1967D2;\n",
              "      height: 32px;\n",
              "      padding: 0 0 0 0;\n",
              "      width: 32px;\n",
              "    }\n",
              "\n",
              "    .colab-df-convert:hover {\n",
              "      background-color: #E2EBFA;\n",
              "      box-shadow: 0px 1px 2px rgba(60, 64, 67, 0.3), 0px 1px 3px 1px rgba(60, 64, 67, 0.15);\n",
              "      fill: #174EA6;\n",
              "    }\n",
              "\n",
              "    [theme=dark] .colab-df-convert {\n",
              "      background-color: #3B4455;\n",
              "      fill: #D2E3FC;\n",
              "    }\n",
              "\n",
              "    [theme=dark] .colab-df-convert:hover {\n",
              "      background-color: #434B5C;\n",
              "      box-shadow: 0px 1px 3px 1px rgba(0, 0, 0, 0.15);\n",
              "      filter: drop-shadow(0px 1px 2px rgba(0, 0, 0, 0.3));\n",
              "      fill: #FFFFFF;\n",
              "    }\n",
              "  </style>\n",
              "\n",
              "      <script>\n",
              "        const buttonEl =\n",
              "          document.querySelector('#df-66d7c2ae-8563-418a-b3b2-b43a04745cdc button.colab-df-convert');\n",
              "        buttonEl.style.display =\n",
              "          google.colab.kernel.accessAllowed ? 'block' : 'none';\n",
              "\n",
              "        async function convertToInteractive(key) {\n",
              "          const element = document.querySelector('#df-66d7c2ae-8563-418a-b3b2-b43a04745cdc');\n",
              "          const dataTable =\n",
              "            await google.colab.kernel.invokeFunction('convertToInteractive',\n",
              "                                                     [key], {});\n",
              "          if (!dataTable) return;\n",
              "\n",
              "          const docLinkHtml = 'Like what you see? Visit the ' +\n",
              "            '<a target=\"_blank\" href=https://colab.research.google.com/notebooks/data_table.ipynb>data table notebook</a>'\n",
              "            + ' to learn more about interactive tables.';\n",
              "          element.innerHTML = '';\n",
              "          dataTable['output_type'] = 'display_data';\n",
              "          await google.colab.output.renderOutput(dataTable, element);\n",
              "          const docLink = document.createElement('div');\n",
              "          docLink.innerHTML = docLinkHtml;\n",
              "          element.appendChild(docLink);\n",
              "        }\n",
              "      </script>\n",
              "    </div>\n",
              "  </div>\n",
              "  "
            ]
          },
          "metadata": {},
          "execution_count": 10
        }
      ]
    },
    {
      "cell_type": "code",
      "source": [
        "df1.plot(kind='bar', stacked=True,figsize=(6, 8))\n",
        "plt.title(\"Models Performance\")\n",
        "plt.legend(loc=2, prop={'size': 9})\n",
        "\n",
        "plt.xlabel(\"Model\",)\n",
        "\n",
        "plt.ylabel(\"Scoring\")"
      ],
      "metadata": {
        "colab": {
          "base_uri": "https://localhost:8080/",
          "height": 668
        },
        "id": "Bf_DYEa-hxC4",
        "outputId": "b0a75b50-d86c-4161-a86d-f5f9f73b8bf9"
      },
      "execution_count": null,
      "outputs": [
        {
          "output_type": "execute_result",
          "data": {
            "text/plain": [
              "Text(0, 0.5, 'Scoring')"
            ]
          },
          "metadata": {},
          "execution_count": 11
        },
        {
          "output_type": "display_data",
          "data": {
            "text/plain": [
              "<Figure size 432x576 with 1 Axes>"
            ],
            "image/png": "[encoded data removed]"
          },
          "metadata": {}
        }
      ]
    },
    {
      "cell_type": "code",
      "source": [
        "D2=[['LogReg'\t\t,0.567  ],\n",
        "['KNN'\t\t,0.523  ],\n",
        "['Dec Tree'\t\t,0.6559 ],\n",
        "['RF'\t\t,0.482  ],\n",
        "['GNB' \t,0.4804 ],\n",
        "['XGB'\t\t,0.4386 ],\n",
        "['DNN'\t,0.4270 ],\n",
        "['PNN'\t,0.3870 ]]"
      ],
      "metadata": {
        "id": "qFZlS4UCoARL"
      },
      "execution_count": null,
      "outputs": []
    },
    {
      "cell_type": "code",
      "source": [
        "df2 = pd.DataFrame(D2, columns=['Model',\t'RMSE'])\n",
        "df2.set_index('Model', inplace=True)\n",
        "df2"
      ],
      "metadata": {
        "id": "sy_DP2AXHSfm",
        "colab": {
          "base_uri": "https://localhost:8080/",
          "height": 331
        },
        "outputId": "4662492d-1ca1-4696-d414-42e9b8739158"
      },
      "execution_count": null,
      "outputs": [
        {
          "output_type": "execute_result",
          "data": {
            "text/plain": [
              "            RSME\n",
              "Model           \n",
              "LogReg    0.5670\n",
              "KNN       0.5230\n",
              "Dec Tree  0.6559\n",
              "RF        0.4820\n",
              "GNB       0.4804\n",
              "XGB       0.4386\n",
              "DNN       0.4270\n",
              "PNN       0.3870"
            ],
            "text/html": [
              "\n",
              "  <div id=\"df-e29b524f-78e1-474f-ba18-55dacbbc0882\">\n",
              "    <div class=\"colab-df-container\">\n",
              "      <div>\n",
              "<style scoped>\n",
              "    .dataframe tbody tr th:only-of-type {\n",
              "        vertical-align: middle;\n",
              "    }\n",
              "\n",
              "    .dataframe tbody tr th {\n",
              "        vertical-align: top;\n",
              "    }\n",
              "\n",
              "    .dataframe thead th {\n",
              "        text-align: right;\n",
              "    }\n",
              "</style>\n",
              "<table border=\"1\" class=\"dataframe\">\n",
              "  <thead>\n",
              "    <tr style=\"text-align: right;\">\n",
              "      <th></th>\n",
              "      <th>RSME</th>\n",
              "    </tr>\n",
              "    <tr>\n",
              "      <th>Model</th>\n",
              "      <th></th>\n",
              "    </tr>\n",
              "  </thead>\n",
              "  <tbody>\n",
              "    <tr>\n",
              "      <th>LogReg</th>\n",
              "      <td>0.5670</td>\n",
              "    </tr>\n",
              "    <tr>\n",
              "      <th>KNN</th>\n",
              "      <td>0.5230</td>\n",
              "    </tr>\n",
              "    <tr>\n",
              "      <th>Dec Tree</th>\n",
              "      <td>0.6559</td>\n",
              "    </tr>\n",
              "    <tr>\n",
              "      <th>RF</th>\n",
              "      <td>0.4820</td>\n",
              "    </tr>\n",
              "    <tr>\n",
              "      <th>GNB</th>\n",
              "      <td>0.4804</td>\n",
              "    </tr>\n",
              "    <tr>\n",
              "      <th>XGB</th>\n",
              "      <td>0.4386</td>\n",
              "    </tr>\n",
              "    <tr>\n",
              "      <th>DNN</th>\n",
              "      <td>0.4270</td>\n",
              "    </tr>\n",
              "    <tr>\n",
              "      <th>PNN</th>\n",
              "      <td>0.3870</td>\n",
              "    </tr>\n",
              "  </tbody>\n",
              "</table>\n",
              "</div>\n",
              "      <button class=\"colab-df-convert\" onclick=\"convertToInteractive('df-e29b524f-78e1-474f-ba18-55dacbbc0882')\"\n",
              "              title=\"Convert this dataframe to an interactive table.\"\n",
              "              style=\"display:none;\">\n",
              "        \n",
              "  <svg xmlns=\"http://www.w3.org/2000/svg\" height=\"24px\"viewBox=\"0 0 24 24\"\n",
              "       width=\"24px\">\n",
              "    <path d=\"M0 0h24v24H0V0z\" fill=\"none\"/>\n",
              "    <path d=\"M18.56 5.44l.94 2.06.94-2.06 2.06-.94-2.06-.94-.94-2.06-.94 2.06-2.06.94zm-11 1L8.5 8.5l.94-2.06 2.06-.94-2.06-.94L8.5 2.5l-.94 2.06-2.06.94zm10 10l.94 2.06.94-2.06 2.06-.94-2.06-.94-.94-2.06-.94 2.06-2.06.94z\"/><path d=\"M17.41 7.96l-1.37-1.37c-.4-.4-.92-.59-1.43-.59-.52 0-1.04.2-1.43.59L10.3 9.45l-7.72 7.72c-.78.78-.78 2.05 0 2.83L4 21.41c.39.39.9.59 1.41.59.51 0 1.02-.2 1.41-.59l7.78-7.78 2.81-2.81c.8-.78.8-2.07 0-2.86zM5.41 20L4 18.59l7.72-7.72 1.47 1.35L5.41 20z\"/>\n",
              "  </svg>\n",
              "      </button>\n",
              "      \n",
              "  <style>\n",
              "    .colab-df-container {\n",
              "      display:flex;\n",
              "      flex-wrap:wrap;\n",
              "      gap: 12px;\n",
              "    }\n",
              "\n",
              "    .colab-df-convert {\n",
              "      background-color: #E8F0FE;\n",
              "      border: none;\n",
              "      border-radius: 50%;\n",
              "      cursor: pointer;\n",
              "      display: none;\n",
              "      fill: #1967D2;\n",
              "      height: 32px;\n",
              "      padding: 0 0 0 0;\n",
              "      width: 32px;\n",
              "    }\n",
              "\n",
              "    .colab-df-convert:hover {\n",
              "      background-color: #E2EBFA;\n",
              "      box-shadow: 0px 1px 2px rgba(60, 64, 67, 0.3), 0px 1px 3px 1px rgba(60, 64, 67, 0.15);\n",
              "      fill: #174EA6;\n",
              "    }\n",
              "\n",
              "    [theme=dark] .colab-df-convert {\n",
              "      background-color: #3B4455;\n",
              "      fill: #D2E3FC;\n",
              "    }\n",
              "\n",
              "    [theme=dark] .colab-df-convert:hover {\n",
              "      background-color: #434B5C;\n",
              "      box-shadow: 0px 1px 3px 1px rgba(0, 0, 0, 0.15);\n",
              "      filter: drop-shadow(0px 1px 2px rgba(0, 0, 0, 0.3));\n",
              "      fill: #FFFFFF;\n",
              "    }\n",
              "  </style>\n",
              "\n",
              "      <script>\n",
              "        const buttonEl =\n",
              "          document.querySelector('#df-e29b524f-78e1-474f-ba18-55dacbbc0882 button.colab-df-convert');\n",
              "        buttonEl.style.display =\n",
              "          google.colab.kernel.accessAllowed ? 'block' : 'none';\n",
              "\n",
              "        async function convertToInteractive(key) {\n",
              "          const element = document.querySelector('#df-e29b524f-78e1-474f-ba18-55dacbbc0882');\n",
              "          const dataTable =\n",
              "            await google.colab.kernel.invokeFunction('convertToInteractive',\n",
              "                                                     [key], {});\n",
              "          if (!dataTable) return;\n",
              "\n",
              "          const docLinkHtml = 'Like what you see? Visit the ' +\n",
              "            '<a target=\"_blank\" href=https://colab.research.google.com/notebooks/data_table.ipynb>data table notebook</a>'\n",
              "            + ' to learn more about interactive tables.';\n",
              "          element.innerHTML = '';\n",
              "          dataTable['output_type'] = 'display_data';\n",
              "          await google.colab.output.renderOutput(dataTable, element);\n",
              "          const docLink = document.createElement('div');\n",
              "          docLink.innerHTML = docLinkHtml;\n",
              "          element.appendChild(docLink);\n",
              "        }\n",
              "      </script>\n",
              "    </div>\n",
              "  </div>\n",
              "  "
            ]
          },
          "metadata": {},
          "execution_count": 135
        }
      ]
    },
    {
      "cell_type": "code",
      "source": [
        "df2.plot(kind='bar', stacked=True,figsize=(6, 8))\n",
        "plt.title(\"Models - regression RMSE Performance\")\n",
        "plt.legend(loc=2, prop={'size': 9})\n",
        "\n",
        "plt.xlabel(\"Model\",)\n",
        "\n",
        "plt.ylabel(\"Scoring\")"
      ],
      "metadata": {
        "colab": {
          "base_uri": "https://localhost:8080/",
          "height": 674
        },
        "id": "rI88P_5tp49t",
        "outputId": "3242c5a5-35b2-4b00-eca2-22b6170e129b"
      },
      "execution_count": null,
      "outputs": [
        {
          "output_type": "execute_result",
          "data": {
            "text/plain": [
              "Text(0, 0.5, 'Scoring')"
            ]
          },
          "metadata": {},
          "execution_count": 137
        },
        {
          "output_type": "display_data",
          "data": {
            "text/plain": [
              "<Figure size 432x576 with 1 Axes>"
            ],
            "image/png": "[encoded data removed]"
          },
          "metadata": {}
        }
      ]
    },
    {
      "cell_type": "code",
      "source": [
        "plt.figure(figsize=(8,12))\n",
        "df2.plot( 'Model' , 'RMSE' )\n",
        "plt.legend(loc=2, prop={'size': 9})\n",
        "\n",
        "\n",
        "plt.xlabel(\"Model\")\n",
        "plt.xticks(\n",
        "    rotation=45, \n",
        "    horizontalalignment='right',\n",
        "    fontweight='light',\n",
        "    fontsize='x-small'  \n",
        ")\n",
        "plt.yticks(\n",
        "    rotation=45, \n",
        "    horizontalalignment='right',\n",
        "    fontweight='light',\n",
        "    fontsize='x-small'  \n",
        ")\n",
        "plt.ylabel(\"Scoring\")"
      ],
      "metadata": {
        "colab": {
          "base_uri": "https://localhost:8080/",
          "height": 404
        },
        "id": "vzCrFgzmon2X",
        "outputId": "108c8848-eb4b-45b2-b0fb-26856d26e07d"
      },
      "execution_count": null,
      "outputs": [
        {
          "output_type": "execute_result",
          "data": {
            "text/plain": [
              "Text(0, 0.5, 'Scoring')"
            ]
          },
          "metadata": {},
          "execution_count": 131
        },
        {
          "output_type": "display_data",
          "data": {
            "text/plain": [
              "<Figure size 576x864 with 0 Axes>"
            ]
          },
          "metadata": {}
        },
        {
          "output_type": "display_data",
          "data": {
            "text/plain": [
              "<Figure size 432x288 with 1 Axes>"
            ],
            "image/png": "[encoded data removed]"
          },
          "metadata": {}
        }
      ]
    },
    {
      "cell_type": "code",
      "source": [
        "df2.plot(x='metrics',y='model')"
      ],
      "metadata": {
        "colab": {
          "base_uri": "https://localhost:8080/",
          "height": 312
        },
        "id": "I2dr9zF7P6qS",
        "outputId": "36c248d4-0d3a-484f-9749-43bfc2457b57"
      },
      "execution_count": null,
      "outputs": [
        {
          "output_type": "error",
          "ename": "TypeError",
          "evalue": "ignored",
          "traceback": [
            "\u001b[0;31m---------------------------------------------------------------------------\u001b[0m",
            "\u001b[0;31mTypeError\u001b[0m                                 Traceback (most recent call last)",
            "\u001b[0;32m<ipython-input-76-8d3bae695bff>\u001b[0m in \u001b[0;36m<module>\u001b[0;34m\u001b[0m\n\u001b[0;32m----> 1\u001b[0;31m \u001b[0mdf2\u001b[0m\u001b[0;34m.\u001b[0m\u001b[0mplot\u001b[0m\u001b[0;34m(\u001b[0m\u001b[0mx\u001b[0m\u001b[0;34m=\u001b[0m\u001b[0;34m'metrics'\u001b[0m\u001b[0;34m,\u001b[0m\u001b[0my\u001b[0m\u001b[0;34m=\u001b[0m\u001b[0;34m'model'\u001b[0m\u001b[0;34m)\u001b[0m\u001b[0;34m\u001b[0m\u001b[0;34m\u001b[0m\u001b[0m\n\u001b[0m",
            "\u001b[0;32m/usr/local/lib/python3.7/dist-packages/pandas/plotting/_core.py\u001b[0m in \u001b[0;36m__call__\u001b[0;34m(self, *args, **kwargs)\u001b[0m\n\u001b[1;32m    970\u001b[0m                     \u001b[0mdata\u001b[0m\u001b[0;34m.\u001b[0m\u001b[0mcolumns\u001b[0m \u001b[0;34m=\u001b[0m \u001b[0mlabel_name\u001b[0m\u001b[0;34m\u001b[0m\u001b[0;34m\u001b[0m\u001b[0m\n\u001b[1;32m    971\u001b[0m \u001b[0;34m\u001b[0m\u001b[0m\n\u001b[0;32m--> 972\u001b[0;31m         \u001b[0;32mreturn\u001b[0m \u001b[0mplot_backend\u001b[0m\u001b[0;34m.\u001b[0m\u001b[0mplot\u001b[0m\u001b[0;34m(\u001b[0m\u001b[0mdata\u001b[0m\u001b[0;34m,\u001b[0m \u001b[0mkind\u001b[0m\u001b[0;34m=\u001b[0m\u001b[0mkind\u001b[0m\u001b[0;34m,\u001b[0m \u001b[0;34m**\u001b[0m\u001b[0mkwargs\u001b[0m\u001b[0;34m)\u001b[0m\u001b[0;34m\u001b[0m\u001b[0;34m\u001b[0m\u001b[0m\n\u001b[0m\u001b[1;32m    973\u001b[0m \u001b[0;34m\u001b[0m\u001b[0m\n\u001b[1;32m    974\u001b[0m     \u001b[0m__call__\u001b[0m\u001b[0;34m.\u001b[0m\u001b[0m__doc__\u001b[0m \u001b[0;34m=\u001b[0m \u001b[0m__doc__\u001b[0m\u001b[0;34m\u001b[0m\u001b[0;34m\u001b[0m\u001b[0m\n",
            "\u001b[0;32m/usr/local/lib/python3.7/dist-packages/pandas/plotting/_matplotlib/__init__.py\u001b[0m in \u001b[0;36mplot\u001b[0;34m(data, kind, **kwargs)\u001b[0m\n\u001b[1;32m     69\u001b[0m             \u001b[0mkwargs\u001b[0m\u001b[0;34m[\u001b[0m\u001b[0;34m\"ax\"\u001b[0m\u001b[0;34m]\u001b[0m \u001b[0;34m=\u001b[0m \u001b[0mgetattr\u001b[0m\u001b[0;34m(\u001b[0m\u001b[0max\u001b[0m\u001b[0;34m,\u001b[0m \u001b[0;34m\"left_ax\"\u001b[0m\u001b[0;34m,\u001b[0m \u001b[0max\u001b[0m\u001b[0;34m)\u001b[0m\u001b[0;34m\u001b[0m\u001b[0;34m\u001b[0m\u001b[0m\n\u001b[1;32m     70\u001b[0m     \u001b[0mplot_obj\u001b[0m \u001b[0;34m=\u001b[0m \u001b[0mPLOT_CLASSES\u001b[0m\u001b[0;34m[\u001b[0m\u001b[0mkind\u001b[0m\u001b[0;34m]\u001b[0m\u001b[0;34m(\u001b[0m\u001b[0mdata\u001b[0m\u001b[0;34m,\u001b[0m \u001b[0;34m**\u001b[0m\u001b[0mkwargs\u001b[0m\u001b[0;34m)\u001b[0m\u001b[0;34m\u001b[0m\u001b[0;34m\u001b[0m\u001b[0m\n\u001b[0;32m---> 71\u001b[0;31m     \u001b[0mplot_obj\u001b[0m\u001b[0;34m.\u001b[0m\u001b[0mgenerate\u001b[0m\u001b[0;34m(\u001b[0m\u001b[0;34m)\u001b[0m\u001b[0;34m\u001b[0m\u001b[0;34m\u001b[0m\u001b[0m\n\u001b[0m\u001b[1;32m     72\u001b[0m     \u001b[0mplot_obj\u001b[0m\u001b[0;34m.\u001b[0m\u001b[0mdraw\u001b[0m\u001b[0;34m(\u001b[0m\u001b[0;34m)\u001b[0m\u001b[0;34m\u001b[0m\u001b[0;34m\u001b[0m\u001b[0m\n\u001b[1;32m     73\u001b[0m     \u001b[0;32mreturn\u001b[0m \u001b[0mplot_obj\u001b[0m\u001b[0;34m.\u001b[0m\u001b[0mresult\u001b[0m\u001b[0;34m\u001b[0m\u001b[0;34m\u001b[0m\u001b[0m\n",
            "\u001b[0;32m/usr/local/lib/python3.7/dist-packages/pandas/plotting/_matplotlib/core.py\u001b[0m in \u001b[0;36mgenerate\u001b[0;34m(self)\u001b[0m\n\u001b[1;32m    284\u001b[0m     \u001b[0;32mdef\u001b[0m \u001b[0mgenerate\u001b[0m\u001b[0;34m(\u001b[0m\u001b[0mself\u001b[0m\u001b[0;34m)\u001b[0m\u001b[0;34m:\u001b[0m\u001b[0;34m\u001b[0m\u001b[0;34m\u001b[0m\u001b[0m\n\u001b[1;32m    285\u001b[0m         \u001b[0mself\u001b[0m\u001b[0;34m.\u001b[0m\u001b[0m_args_adjust\u001b[0m\u001b[0;34m(\u001b[0m\u001b[0;34m)\u001b[0m\u001b[0;34m\u001b[0m\u001b[0;34m\u001b[0m\u001b[0m\n\u001b[0;32m--> 286\u001b[0;31m         \u001b[0mself\u001b[0m\u001b[0;34m.\u001b[0m\u001b[0m_compute_plot_data\u001b[0m\u001b[0;34m(\u001b[0m\u001b[0;34m)\u001b[0m\u001b[0;34m\u001b[0m\u001b[0;34m\u001b[0m\u001b[0m\n\u001b[0m\u001b[1;32m    287\u001b[0m         \u001b[0mself\u001b[0m\u001b[0;34m.\u001b[0m\u001b[0m_setup_subplots\u001b[0m\u001b[0;34m(\u001b[0m\u001b[0;34m)\u001b[0m\u001b[0;34m\u001b[0m\u001b[0;34m\u001b[0m\u001b[0m\n\u001b[1;32m    288\u001b[0m         \u001b[0mself\u001b[0m\u001b[0;34m.\u001b[0m\u001b[0m_make_plot\u001b[0m\u001b[0;34m(\u001b[0m\u001b[0;34m)\u001b[0m\u001b[0;34m\u001b[0m\u001b[0;34m\u001b[0m\u001b[0m\n",
            "\u001b[0;32m/usr/local/lib/python3.7/dist-packages/pandas/plotting/_matplotlib/core.py\u001b[0m in \u001b[0;36m_compute_plot_data\u001b[0;34m(self)\u001b[0m\n\u001b[1;32m    451\u001b[0m         \u001b[0;31m# no non-numeric frames or series allowed\u001b[0m\u001b[0;34m\u001b[0m\u001b[0;34m\u001b[0m\u001b[0;34m\u001b[0m\u001b[0m\n\u001b[1;32m    452\u001b[0m         \u001b[0;32mif\u001b[0m \u001b[0mis_empty\u001b[0m\u001b[0;34m:\u001b[0m\u001b[0;34m\u001b[0m\u001b[0;34m\u001b[0m\u001b[0m\n\u001b[0;32m--> 453\u001b[0;31m             \u001b[0;32mraise\u001b[0m \u001b[0mTypeError\u001b[0m\u001b[0;34m(\u001b[0m\u001b[0;34m\"no numeric data to plot\"\u001b[0m\u001b[0;34m)\u001b[0m\u001b[0;34m\u001b[0m\u001b[0;34m\u001b[0m\u001b[0m\n\u001b[0m\u001b[1;32m    454\u001b[0m \u001b[0;34m\u001b[0m\u001b[0m\n\u001b[1;32m    455\u001b[0m         \u001b[0mself\u001b[0m\u001b[0;34m.\u001b[0m\u001b[0mdata\u001b[0m \u001b[0;34m=\u001b[0m \u001b[0mnumeric_data\u001b[0m\u001b[0;34m.\u001b[0m\u001b[0mapply\u001b[0m\u001b[0;34m(\u001b[0m\u001b[0mself\u001b[0m\u001b[0;34m.\u001b[0m\u001b[0m_convert_to_ndarray\u001b[0m\u001b[0;34m)\u001b[0m\u001b[0;34m\u001b[0m\u001b[0;34m\u001b[0m\u001b[0m\n",
            "\u001b[0;31mTypeError\u001b[0m: no numeric data to plot"
          ]
        }
      ]
    },
    {
      "cell_type": "code",
      "source": [
        "import matplotlib.pyplot as plt\n",
        "import seaborn as sns\n",
        "plt.figure(figsize=(20, 12))\n",
        "sns.set(font_scale=2.5)\n",
        "g = sns.boxplot(x=\"model\", y=\"values\", hue=\"metrics\", data=results_long_nofit, palette=\"Set3\")\n",
        "plt.legend(bbox_to_anchor=(1.05, 1), loc=2, borderaxespad=0.)\n",
        "plt.title('Comparison of Model by Classification Metric')\n",
        "plt.savefig('./benchmark_models_performance.png',dpi=300)"
      ],
      "metadata": {
        "colab": {
          "base_uri": "https://localhost:8080/",
          "height": 756
        },
        "id": "S5AX2kY9giA2",
        "outputId": "12710d13-edf0-4a92-f793-5f1eefc2e9d5"
      },
      "execution_count": null,
      "outputs": [
        {
          "output_type": "display_data",
          "data": {
            "text/plain": [
              "<Figure size 1440x864 with 1 Axes>"
            ],
            "image/png": "[encoded data removed]"
          },
          "metadata": {
            "needs_background": "light"
          }
        }
      ]
    },
    {
      "metadata": {
        "_uuid": "03122062d1f1f41806b73d724ecc2cf403894b06",
        "trusted": true,
        "id": "93AJKsfy8eh_"
      },
      "cell_type": "code",
      "source": [
        "# # # Models to Evaluate\n",
        "\n",
        "# We will compare five different machine learning Classification models:\n",
        "\n",
        "# 1 - Logistic Regression\n",
        "# 2 - K-Nearest Neighbors Classification\n",
        "# 3 - Suport Vector Machine\n",
        "# 4 - Naive Bayes\n",
        "# 5 - Random Forest Classification\n",
        "\n",
        "# Function to calculate mean absolute error\n",
        "def cross_val(X_train, y_train, model):\n",
        "    # Applying k-Fold Cross Validation\n",
        "    from sklearn.model_selection import cross_val_score\n",
        "    accuracies = cross_val_score(estimator = model, X = X_train, y = y_train, cv = 5)\n",
        "    return accuracies.mean()\n",
        "\n",
        "# Takes in a model, trains the model, and evaluates the model on the test set\n",
        "def fit_and_evaluate(model):\n",
        "    \n",
        "    # Train the model\n",
        "    model.fit(X_train, y_train)\n",
        "    \n",
        "    # Make predictions and evalute\n",
        "    model_pred = model.predict(X_test)\n",
        "    model_cross = cross_val(X_train, y_train, model)\n",
        "    \n",
        "    # Return the performance metric\n",
        "    return model_cross"
      ],
      "execution_count": null,
      "outputs": []
    },
    {
      "metadata": {
        "_uuid": "e8fa7e51ce560cc110a94fd0d3988f7eefa6f26d",
        "scrolled": false,
        "trusted": true,
        "id": "Df1QVvT08eh_",
        "colab": {
          "base_uri": "https://localhost:8080/"
        },
        "outputId": "57cde7eb-cc45-4bcd-b7ff-a015548f561d"
      },
      "cell_type": "code",
      "source": [
        "# # Logistic Regression\n",
        "from sklearn.linear_model import LogisticRegression\n",
        "logr = LogisticRegression()\n",
        "logr_cross = fit_and_evaluate(logr)\n",
        "\n",
        "print('Logistic Regression Performance on the test set: Cross Validation Score = %0.4f' % logr_cross)\n",
        "\n"
      ],
      "execution_count": null,
      "outputs": [
        {
          "output_type": "stream",
          "name": "stdout",
          "text": [
            "Logistic Regression Performance on the test set: Cross Validation Score = 0.8197\n"
          ]
        }
      ]
    },
    {
      "cell_type": "code",
      "source": [
        "from sklearn.metrics import confusion_matrix\n",
        "results = confusion_matrix(expected, predicted)\n",
        "print(results)"
      ],
      "metadata": {
        "id": "XT454hZKVCI5"
      },
      "execution_count": null,
      "outputs": []
    },
    {
      "metadata": {
        "_uuid": "60e1016bc91b18ebabd1b0cac4585260d5ccd924",
        "trusted": true,
        "id": "VPwh5J9H8eiA"
      },
      "cell_type": "code",
      "source": [
        "# # K-NN\n",
        "from sklearn.neighbors import KNeighborsClassifier\n",
        "knn = KNeighborsClassifier(n_neighbors = 5, metric = 'minkowski', p = 2)\n",
        "knn_cross = fit_and_evaluate(knn)\n",
        "\n",
        "print('KNN Performance on the test set: Cross Validation Score = %0.4f' % knn_cross)"
      ],
      "execution_count": null,
      "outputs": []
    },
    {
      "metadata": {
        "_uuid": "760b7b5bb05d9f130246180ca97c21ddcd67600c",
        "trusted": true,
        "id": "wqUS12hi8eiA"
      },
      "cell_type": "code",
      "source": [
        "# # Naive Bayes\n",
        "from sklearn.naive_bayes import GaussianNB\n",
        "naive = GaussianNB()\n",
        "naive_cross = fit_and_evaluate(naive)\n",
        "\n",
        "print('Naive Bayes Performance on the test set: Cross Validation Score = %0.4f' % naive_cross)"
      ],
      "execution_count": null,
      "outputs": []
    },
    {
      "metadata": {
        "_uuid": "ae4b09b6570c6aa3f9928bc21ae93dbe7066362c",
        "trusted": true,
        "id": "Ru2hVoTm8eiA"
      },
      "cell_type": "code",
      "source": [
        "# # Random Forest Classification\n",
        "from sklearn.ensemble import RandomForestClassifier\n",
        "random = RandomForestClassifier(n_estimators = 10, criterion = 'entropy')\n",
        "random_cross = fit_and_evaluate(random)\n",
        "\n",
        "print('Random Forest Performance on the test set: Cross Validation Score = %0.4f' % random_cross)"
      ],
      "execution_count": null,
      "outputs": []
    },
    {
      "metadata": {
        "_uuid": "d98eaec33f4e6cadd299ec586ab840020952b6fb",
        "trusted": true,
        "id": "p6YOgjAI8eiA"
      },
      "cell_type": "code",
      "source": [
        "# # Gradiente Boosting Classification\n",
        "from xgboost import XGBClassifier\n",
        "gb = XGBClassifier()\n",
        "gb_cross = fit_and_evaluate(gb)\n",
        "\n",
        "print('Gradient Boosting Classification Performance on the test set: Cross Validation Score = %0.4f' % gb_cross)"
      ],
      "execution_count": null,
      "outputs": []
    },
    {
      "cell_type": "code",
      "source": [
        "# normal\n",
        "from sklearn.tree import DecisionTreeClassifier\n",
        "Decision_Tree = DecisionTreeClassifier(max_depth = 8)\n",
        "DT_cross=fit_and_evaluate(Decision_Tree)\n",
        "#scores = cross_val_score(Decision_Tree, X_train, y_train, cv=5, scoring='f1')\n",
        "print('Normal Decision Tree Valdition F1:',DT_cross.mean())\n",
        "print('Decision Classification Performance on the test set: Cross Validation Score = %0.4f' % DT_cross)\n",
        "\n",
        "# # balenced\n",
        "# dt_bal = DecisionTreeClassifier(max_depth = 8, class_weight='balanced')\n",
        "# dt_bal.fit(X_train, y_train)\n",
        "# scores = cross_val_score(dt_bal, X_train, y_train, cv=5, scoring='f1')\n",
        "# print('Balanced class weights Decision Tree Valdition F1:',scores.mean())\n",
        "\n",
        "\n",
        "# # weighted\n",
        "# dt_wtd = DecisionTreeClassifier(class_weight= {0 : 10, 1 : 1})\n",
        "# scores = cross_val_score(dt_wtd, X_train, y_train, cv=5, scoring='f1')\n",
        "# dt_wtd.fit(X_train, y_train)\n",
        "# print('10:1 class weights Decision Tree Valdition F1:',scores.mean())\n",
        "\n",
        "# #gridsearch\n",
        "\n",
        "# tree_param = {'criterion':['gini','entropy'],\n",
        "#               'max_depth':[4,5,6,7,8,9,10,11,12,15,20,30,40,50,70,90,120,150]}\n",
        "\n",
        "# gd_sr = GridSearchCV(DecisionTreeClassifier(), param_grid=tree_param,scoring='f1',cv=5,n_jobs=-1)\n",
        "# gd_sr.fit(X_train, y_train)\n",
        "# best_parameters = gd_sr.best_params_\n",
        "# print('\\n Best param after grid search', best_parameters)\n",
        "# print('\\n Best score after grid search', gd_sr.best_score_)"
      ],
      "metadata": {
        "id": "_5gRY6XCBeCF"
      },
      "execution_count": null,
      "outputs": []
    },
    {
      "metadata": {
        "_uuid": "f4413692210395764ecf6bdaa68678983b7106bc",
        "trusted": true,
        "id": "qrnCQXZ78eiB"
      },
      "cell_type": "code",
      "source": [
        "# Now, to better understand the results, I will show in a graph the model that has the better Cross Validation Score\n",
        "\n",
        "#plt.style.use('fivethirtyeight')\n",
        "plt.figsize=(10, 12)\n",
        "\n",
        "# Dataframe to hold the results\n",
        "model_comparison = pd.DataFrame({'model': ['Logistic Regression', 'K-NN',\n",
        "                                           'Naive Bayes', 'Random Forest',\n",
        "                                            'Gradient Boosting', 'Decision Tree'],\n",
        "                                 'score': [logr_cross, knn_cross, naive_cross, \n",
        "                                         random_cross, gb_cross, DT_cross]})\n",
        "\n",
        "# Horizontal bar chart of test mae\n",
        "model_comparison.sort_values('score',ascending = True).plot(x = 'model', y = 'score', kind = 'barh'\n",
        "                                                          )\n",
        "\n",
        "# Plot formatting\n",
        "plt.ylabel('Accuracy Scores'); plt.yticks(size = 8); plt.xlabel('K-Fold Cross Validation'); plt.xticks(size = 9)\n",
        "\n",
        "plt.title('Model Comparison on Score', size = 12);"
      ],
      "execution_count": null,
      "outputs": []
    },
    {
      "cell_type": "code",
      "source": [
        "model_comparison"
      ],
      "metadata": {
        "id": "_pRZOiF4I_Eo"
      },
      "execution_count": null,
      "outputs": []
    },
    {
      "metadata": {
        "_uuid": "68c0e5f787870535c909005d66113a2651d12830",
        "trusted": true,
        "id": "4Eds-2cN8eiB"
      },
      "cell_type": "code",
      "source": [
        "# # # Model Optimization\n",
        "\n",
        "# # Hyperparameter\n",
        "\n",
        "# Hyperparameter Tuning with Random Search and Cross Validation\n",
        "\n",
        "# Here we will implement random search with cross validation to select the optimal hyperparameters for the gradient boosting regressor. \n",
        "# We first define a grid then peform an iterative process of: randomly sample a set of hyperparameters from the grid, evaluate the hyperparameters using 4-fold cross-validation, \n",
        "# and then select the hyperparameters with the best performance.\n",
        "\n",
        "# Loss function to be optimized\n",
        "loss = ['ls', 'lad', 'huber']\n",
        "\n",
        "# Number of trees used in the boosting process\n",
        "n_estimators = [100, 500, 900, 1100, 1500]\n",
        "\n",
        "# Maximum depth of each tree\n",
        "max_depth = [2, 3, 5, 10, 15]\n",
        "\n",
        "# Minimum number of samples per leaf\n",
        "min_samples_leaf = [1, 2, 4, 6, 8]\n",
        "\n",
        "# Minimum number of samples to split a node\n",
        "min_samples_split = [2, 4, 6, 10]\n",
        "\n",
        "# Maximum number of features to consider for making splits\n",
        "max_features = ['auto', 'sqrt', 'log2', None]\n",
        "\n",
        "# Define the grid of hyperparameters to search\n",
        "hyperparameter_grid = {'loss': loss,\n",
        "                       'n_estimators': n_estimators,\n",
        "                       'max_depth': max_depth,\n",
        "                       'min_samples_leaf': min_samples_leaf,\n",
        "                       'min_samples_split': min_samples_split,\n",
        "                       'max_features': max_features}"
      ],
      "execution_count": null,
      "outputs": []
    },
    {
      "metadata": {
        "_uuid": "ea9ec545e6debd1c3b5c726ab5a63b5230b1955e",
        "trusted": true,
        "id": "M2PbRdxv8eiB"
      },
      "cell_type": "code",
      "source": [
        "# In the code below, we create the Randomized Search Object passing in the following parameters:\n",
        "\n",
        "#    estimator: the model\n",
        "#    param_distributions: the distribution of parameters we defined\n",
        "#    cv the number of folds to use for k-fold cross validation\n",
        "#    n_iter: the number of different combinations to try\n",
        "#    scoring: which metric to use when evaluating candidates\n",
        "#    n_jobs: number of cores to run in parallel (-1 will use all available)\n",
        "#    verbose: how much information to display (1 displays a limited amount)\n",
        "#    return_train_score: return the training score for each cross-validation fold\n",
        "#    random_state: fixes the random number generator used so we get the same results every run"
      ],
      "execution_count": null,
      "outputs": []
    },
    {
      "metadata": {
        "_uuid": "bb8d4b598cb6115f8afa29fed29a1353bcb4ad94",
        "scrolled": true,
        "trusted": true,
        "id": "F8Xr50eY8eiB"
      },
      "cell_type": "code",
      "source": [
        "# The Randomized Search Object is trained the same way as any other scikit-learn model. \n",
        "# After training, we can compare all the different hyperparameter combinations and find the best performing one.\n",
        "\n",
        "# Create the model to use for hyperparameter tuning\n",
        "model = XGBClassifier(random_state = 42)\n",
        "\n",
        "# Set up the random search with 4-fold cross validation\n",
        "from sklearn.model_selection import RandomizedSearchCV, GridSearchCV\n",
        "random_cv = RandomizedSearchCV(estimator=model,\n",
        "                               param_distributions=hyperparameter_grid,\n",
        "                               cv=4, n_iter=25, \n",
        "                               scoring = 'neg_mean_absolute_error',\n",
        "                               n_jobs = -1, verbose = 1, \n",
        "                               return_train_score = True,\n",
        "                               random_state=42)"
      ],
      "execution_count": null,
      "outputs": []
    },
    {
      "metadata": {
        "_uuid": "72cd906f1b667e12946a44102979d8ef55981c7f",
        "trusted": true,
        "id": "BVR7ZNLJ8eiB"
      },
      "cell_type": "code",
      "source": [
        "# Fit on the training data\n",
        "#random_cv.fit(X_train, y_train)"
      ],
      "execution_count": null,
      "outputs": []
    },
    {
      "metadata": {
        "_uuid": "bd8d837b0f6bd084cf29090a89f1fc4368f1df64",
        "trusted": true,
        "id": "Ag9824wJ8eiC"
      },
      "cell_type": "code",
      "source": [
        "# Scikit-learn uses the negative mean absolute error for evaluation because it wants a metric to maximize. \n",
        "# Therefore, a better score will be closer to 0. We can get the results of the randomized search into a dataframe, and sort the values by performance.\n",
        "\n",
        "# Get all of the cv results and sort by the test performance\n",
        "#random_results = pd.DataFrame(random_cv.cv_results_).sort_values('mean_test_score', ascending = False)\n",
        "\n",
        "#random_results.head(10)"
      ],
      "execution_count": null,
      "outputs": []
    },
    {
      "metadata": {
        "_uuid": "922388d85784fec033d756c9c0843c0c91a759e7",
        "trusted": true,
        "id": "cUzlfMLo8eiC"
      },
      "cell_type": "code",
      "source": [
        "#random_cv.best_estimator_"
      ],
      "execution_count": null,
      "outputs": []
    },
    {
      "metadata": {
        "_uuid": "d83a5cec0d161170d31dfa2b46a0d674a787c4d0",
        "trusted": true,
        "id": "EP04JVUv8eiC"
      },
      "cell_type": "code",
      "source": [
        "# The best gradient boosted model has the following hyperparameters:\n",
        "\n",
        "# loss = ls\n",
        "# n_estimators = 100\n",
        "# max_depth = 5\n",
        "# min_samples_leaf = 6\n",
        "# min_samples_split = 2\n",
        "# max_features = auto "
      ],
      "execution_count": null,
      "outputs": []
    },
    {
      "metadata": {
        "_uuid": "3db261e84daf6c4b9777588879ca0a92c8a5e632",
        "trusted": true,
        "id": "XTw7_ThP8eiC"
      },
      "cell_type": "code",
      "source": [
        "# I will focus on a single one, the number of trees in the forest (n_estimators).\n",
        "# By varying only one hyperparameter, we can directly observe how it affects performance. \n",
        "# In the case of the number of trees, we would expect to see a significant affect on the amount of under vs overfitting.\n",
        "\n",
        "# Here we will use grid search with a grid that only has the n_estimators hyperparameter. \n",
        "# We will evaluate a range of trees then plot the training and testing performance to get an idea of what increasing the number of trees does for our model. \n",
        "# We will fix the other hyperparameters at the best values returned from random search to isolate the number of trees effect."
      ],
      "execution_count": null,
      "outputs": []
    },
    {
      "metadata": {
        "_uuid": "c59406726362d253d910af2f3103608a4a1ab847",
        "trusted": true,
        "id": "juqhH2cA8eiC"
      },
      "cell_type": "code",
      "source": [
        "# Create a range of trees to evaluate\n",
        "trees_grid = {'n_estimators': [100, 150, 200, 250, 300, 350, 400, 450, 500, 550, 600, 650, 700, 750, 800]}\n",
        "\n",
        "model = XGBClassifier(loss = 'ls', max_depth = 5,\n",
        "                                  min_samples_leaf = 6,\n",
        "                                  min_samples_split = 2,\n",
        "                                  max_features = 'auto',\n",
        "                                  random_state = 42)\n",
        "\n",
        "# Grid Search Object using the trees range and the random forest model\n",
        "grid_search = GridSearchCV(estimator = model, param_grid=trees_grid, cv = 4, \n",
        "                           scoring = 'neg_mean_absolute_error', verbose = 1,\n",
        "                           n_jobs = -1, return_train_score = True)"
      ],
      "execution_count": null,
      "outputs": []
    },
    {
      "metadata": {
        "_uuid": "0ea5130e0e4e841bd3265f109eaaf0b457edc4ba",
        "trusted": true,
        "id": "3w3FfP748eiC",
        "colab": {
          "base_uri": "https://localhost:8080/"
        },
        "outputId": "92f5f24f-8c91-46c4-9a88-747052c102b7"
      },
      "cell_type": "code",
      "source": [
        "# Fit the grid search\n",
        "grid_search.fit(X_train, y_train)"
      ],
      "execution_count": null,
      "outputs": [
        {
          "output_type": "stream",
          "name": "stdout",
          "text": [
            "Fitting 4 folds for each of 15 candidates, totalling 60 fits\n"
          ]
        },
        {
          "output_type": "execute_result",
          "data": {
            "text/plain": [
              "GridSearchCV(cv=4,\n",
              "             estimator=XGBClassifier(loss='ls', max_depth=5,\n",
              "                                     max_features='auto', min_samples_leaf=6,\n",
              "                                     min_samples_split=2, random_state=42),\n",
              "             n_jobs=-1,\n",
              "             param_grid={'n_estimators': [100, 150, 200, 250, 300, 350, 400,\n",
              "                                          450, 500, 550, 600, 650, 700, 750,\n",
              "                                          800]},\n",
              "             return_train_score=True, scoring='neg_mean_absolute_error',\n",
              "             verbose=1)"
            ]
          },
          "metadata": {},
          "execution_count": 60
        }
      ]
    },
    {
      "metadata": {
        "_uuid": "ab0245973e91237f0eec4f844438b4acc9d62e56",
        "trusted": true,
        "id": "z_QVyVvN8eiD",
        "colab": {
          "base_uri": "https://localhost:8080/",
          "height": 372
        },
        "outputId": "8a4d9cb8-91ef-483d-d2c3-aee08708e253"
      },
      "cell_type": "code",
      "source": [
        "# Get the results into a dataframe\n",
        "results = pd.DataFrame(grid_search.cv_results_)\n",
        "\n",
        "# Plot the training and testing error vs number of trees\n",
        "figsize=(8, 8)\n",
        "#plt.style.use('fivethirtyeight')\n",
        "plt.plot(results['param_n_estimators'], -1 * results['mean_test_score'], label = 'Testing Error')\n",
        "plt.plot(results['param_n_estimators'], -1 * results['mean_train_score'], label = 'Training Error')\n",
        "plt.xlabel('Number of Trees'); plt.ylabel('Mean Abosolute Error'); plt.legend();\n",
        "plt.title('Performance vs Number of Trees');\n",
        "\n",
        "# There will always be a difference between the training error and testing error (the training error is always lower) but if there is a significant difference, \n",
        "# we want to try and reduce overfitting, either by getting more training data or reducing the complexity of the model through hyperparameter tuning or regularization.\n",
        "\n",
        "# For now, we will use the model with the best performance and accept that it may be overfitting to the training set."
      ],
      "execution_count": null,
      "outputs": [
        {
          "output_type": "display_data",
          "data": {
            "text/plain": [
              "<Figure size 432x288 with 1 Axes>"
            ],
            "image/png": "[encoded data removed]"
          },
          "metadata": {}
        }
      ]
    },
    {
      "cell_type": "code",
      "source": [
        "pip install scikeras"
      ],
      "metadata": {
        "colab": {
          "base_uri": "https://localhost:8080/"
        },
        "id": "73lRTbU64IPH",
        "outputId": "26e8035c-3960-4644-e09d-f1fc4040f321"
      },
      "execution_count": null,
      "outputs": [
        {
          "output_type": "stream",
          "name": "stdout",
          "text": [
            "Looking in indexes: https://pypi.org/simple, https://us-python.pkg.dev/colab-wheels/public/simple/\n",
            "Collecting scikeras\n",
            "  Downloading scikeras-0.9.0-py3-none-any.whl (27 kB)\n",
            "Requirement already satisfied: scikit-learn>=1.0.0 in /usr/local/lib/python3.7/dist-packages (from scikeras) (1.0.2)\n",
            "Requirement already satisfied: importlib-metadata>=3 in /usr/local/lib/python3.7/dist-packages (from scikeras) (4.12.0)\n",
            "Requirement already satisfied: packaging>=0.21 in /usr/local/lib/python3.7/dist-packages (from scikeras) (21.3)\n",
            "Requirement already satisfied: typing-extensions>=3.6.4 in /usr/local/lib/python3.7/dist-packages (from importlib-metadata>=3->scikeras) (4.1.1)\n",
            "Requirement already satisfied: zipp>=0.5 in /usr/local/lib/python3.7/dist-packages (from importlib-metadata>=3->scikeras) (3.8.1)\n",
            "Requirement already satisfied: pyparsing!=3.0.5,>=2.0.2 in /usr/local/lib/python3.7/dist-packages (from packaging>=0.21->scikeras) (3.0.9)\n",
            "Requirement already satisfied: joblib>=0.11 in /usr/local/lib/python3.7/dist-packages (from scikit-learn>=1.0.0->scikeras) (1.1.0)\n",
            "Requirement already satisfied: numpy>=1.14.6 in /usr/local/lib/python3.7/dist-packages (from scikit-learn>=1.0.0->scikeras) (1.21.6)\n",
            "Requirement already satisfied: threadpoolctl>=2.0.0 in /usr/local/lib/python3.7/dist-packages (from scikit-learn>=1.0.0->scikeras) (3.1.0)\n",
            "Requirement already satisfied: scipy>=1.1.0 in /usr/local/lib/python3.7/dist-packages (from scikit-learn>=1.0.0->scikeras) (1.7.3)\n",
            "Installing collected packages: scikeras\n",
            "Successfully installed scikeras-0.9.0\n"
          ]
        }
      ]
    },
    {
      "cell_type": "code",
      "source": [
        "credit.info()"
      ],
      "metadata": {
        "colab": {
          "base_uri": "https://localhost:8080/"
        },
        "id": "BCo3CSyU8vmr",
        "outputId": "e7711a8d-f356-4c28-9dfa-6d4edc17dc5f"
      },
      "execution_count": null,
      "outputs": [
        {
          "output_type": "stream",
          "name": "stdout",
          "text": [
            "<class 'pandas.core.frame.DataFrame'>\n",
            "Int64Index: 99794 entries, 0 to 99999\n",
            "Data columns (total 42 columns):\n",
            " #   Column                          Non-Null Count  Dtype  \n",
            "---  ------                          --------------  -----  \n",
            " 0   Current Loan Amount             99794 non-null  float64\n",
            " 1   Credit Score                    99794 non-null  float64\n",
            " 2   Annual Income                   99794 non-null  float64\n",
            " 3   Monthly Debt                    99794 non-null  float64\n",
            " 4   Years of Credit History         99794 non-null  float64\n",
            " 5   Number of Open Accounts         99794 non-null  float64\n",
            " 6   Number of Credit Problems       99794 non-null  float64\n",
            " 7   Current Credit Balance          99794 non-null  float64\n",
            " 8   Maximum Open Credit             99794 non-null  float64\n",
            " 9   Tax Liens                       99794 non-null  float64\n",
            " 10  Term_Long Term                  99794 non-null  uint8  \n",
            " 11  Term_Short Term                 99794 non-null  uint8  \n",
            " 12  Years in current job_1 year     99794 non-null  uint8  \n",
            " 13  Years in current job_10+ years  99794 non-null  uint8  \n",
            " 14  Years in current job_2 years    99794 non-null  uint8  \n",
            " 15  Years in current job_3 years    99794 non-null  uint8  \n",
            " 16  Years in current job_4 years    99794 non-null  uint8  \n",
            " 17  Years in current job_5 years    99794 non-null  uint8  \n",
            " 18  Years in current job_6 years    99794 non-null  uint8  \n",
            " 19  Years in current job_7 years    99794 non-null  uint8  \n",
            " 20  Years in current job_8 years    99794 non-null  uint8  \n",
            " 21  Years in current job_9 years    99794 non-null  uint8  \n",
            " 22  Years in current job_< 1 year   99794 non-null  uint8  \n",
            " 23  Home Ownership_HaveMortgage     99794 non-null  uint8  \n",
            " 24  Home Ownership_Home Mortgage    99794 non-null  uint8  \n",
            " 25  Home Ownership_Own Home         99794 non-null  uint8  \n",
            " 26  Purpose_Business Loan           99794 non-null  uint8  \n",
            " 27  Purpose_Buy House               99794 non-null  uint8  \n",
            " 28  Purpose_Buy a Car               99794 non-null  uint8  \n",
            " 29  Purpose_Debt Consolidation      99794 non-null  uint8  \n",
            " 30  Purpose_Educational Expenses    99794 non-null  uint8  \n",
            " 31  Purpose_Home Improvements       99794 non-null  uint8  \n",
            " 32  Purpose_Medical Bills           99794 non-null  uint8  \n",
            " 33  Purpose_Other                   99794 non-null  uint8  \n",
            " 34  Purpose_major_purchase          99794 non-null  uint8  \n",
            " 35  Purpose_moving                  99794 non-null  uint8  \n",
            " 36  Purpose_other                   99794 non-null  uint8  \n",
            " 37  Purpose_renewable_energy        99794 non-null  uint8  \n",
            " 38  Purpose_small_business          99794 non-null  uint8  \n",
            " 39  Purpose_vacation                99794 non-null  uint8  \n",
            " 40  Purpose_wedding                 99794 non-null  uint8  \n",
            " 41  Loan Status                     99794 non-null  object \n",
            "dtypes: float64(10), object(1), uint8(31)\n",
            "memory usage: 14.1+ MB\n"
          ]
        }
      ]
    },
    {
      "cell_type": "code",
      "source": [
        "# Use scikit-learn to grid search the batch size and epochs\n",
        "import numpy as np\n",
        "import tensorflow as tf\n",
        "from sklearn.model_selection import GridSearchCV\n",
        "from tensorflow.keras.models import Sequential\n",
        "from tensorflow.keras.layers import Dense\n",
        "from scikeras.wrappers import KerasClassifier\n",
        "\n",
        "# Function to create model, required for KerasClassifier\n",
        "def create_model():\n",
        "\t# create model\n",
        "    tf.keras.layers.Dense(20, activation='relu'),\n",
        "    tf.keras.layers.Dense(20, activation='relu'),\n",
        "    tf.keras.layers.Dense(1)\n",
        "    # classifier.compile(optimizer='adam', loss='binary_crossentropy',  metrics=['accuracy'])\n",
        "    # model.compile(optimizer='adam',\n",
        "    #             loss=tf.keras.losses.BinaryCrossentropy(from_logits=True),\n",
        "    #             metrics=['accuracy'])\n",
        "    return model\n",
        "\n",
        "# fix random seed for reproducibility\n",
        "seed = 7\n",
        "tf.random.set_seed(seed)\n",
        "SHUFFLE_BUFFER = 500\n",
        "# load dataset\n",
        "# dataset = np.loadtxt(\"pima-indians-diabetes.csv\", delimiter=\",\")\n",
        "# split into input (X) and output (Y) variables\n",
        "X = credit.iloc[:,0:41]\n",
        "Y = credit.iloc[:,41]\n",
        "print(X.shape)\n",
        "print(Y.shape)\n",
        "# create model\n",
        "model = KerasClassifier(model=create_model, loss=\"binary_crossentropy\", epochs=100, batch_size=10, verbose=0)\n",
        "# define the grid search parameters\n",
        "optimizer = ['SGD', 'RMSprop', 'Adagrad', 'Adadelta', 'Adam', 'Adamax', 'Nadam']\n",
        "param_grid = dict(optimizer=optimizer)\n",
        "grid = GridSearchCV(estimator=model, param_grid=param_grid, n_jobs=-1, cv=3)\n",
        "\n",
        "grid_result = grid.fit(X,Y)\n",
        "# summarize results\n",
        "print(\"Best: %f using %s\" % (grid_result.best_score_, grid_result.best_params_))\n",
        "means = grid_result.cv_results_['mean_test_score']\n",
        "stds = grid_result.cv_results_['std_test_score']\n",
        "params = grid_result.cv_results_['params']\n",
        "for mean, stdev, param in zip(means, stds, params):\n",
        "    print(\"%f (%f) with: %r\" % (mean, stdev, param))"
      ],
      "metadata": {
        "colab": {
          "base_uri": "https://localhost:8080/",
          "height": 832
        },
        "id": "wXXiuURAhDwa",
        "outputId": "8d11abb7-fd4e-4d96-e648-280c6569bdd0"
      },
      "execution_count": null,
      "outputs": [
        {
          "output_type": "stream",
          "name": "stdout",
          "text": [
            "(99794, 41)\n",
            "(99794,)\n"
          ]
        },
        {
          "output_type": "stream",
          "name": "stderr",
          "text": [
            "/usr/local/lib/python3.7/dist-packages/sklearn/model_selection/_validation.py:372: FitFailedWarning: \n",
            "21 fits failed out of a total of 21.\n",
            "The score on these train-test partitions for these parameters will be set to nan.\n",
            "If these failures are not expected, you can try to debug them by setting error_score='raise'.\n",
            "\n",
            "Below are more details about the failures:\n",
            "--------------------------------------------------------------------------------\n",
            "21 fits failed with the following error:\n",
            "Traceback (most recent call last):\n",
            "  File \"/usr/local/lib/python3.7/dist-packages/sklearn/model_selection/_validation.py\", line 680, in _fit_and_score\n",
            "    estimator.fit(X_train, y_train, **fit_params)\n",
            "  File \"/usr/local/lib/python3.7/dist-packages/scikeras/wrappers.py\", line 1494, in fit\n",
            "    super().fit(X=X, y=y, sample_weight=sample_weight, **kwargs)\n",
            "  File \"/usr/local/lib/python3.7/dist-packages/scikeras/wrappers.py\", line 767, in fit\n",
            "    **kwargs,\n",
            "  File \"/usr/local/lib/python3.7/dist-packages/scikeras/wrappers.py\", line 929, in _fit\n",
            "    self._check_model_compatibility(y)\n",
            "  File \"/usr/local/lib/python3.7/dist-packages/scikeras/wrappers.py\", line 551, in _check_model_compatibility\n",
            "    if self.n_outputs_expected_ != len(self.model_.outputs):\n",
            "AttributeError: 'KerasClassifier' object has no attribute 'outputs'\n",
            "\n",
            "  warnings.warn(some_fits_failed_message, FitFailedWarning)\n",
            "/usr/local/lib/python3.7/dist-packages/sklearn/model_selection/_search.py:972: UserWarning: One or more of the test scores are non-finite: [nan nan nan nan nan nan nan]\n",
            "  category=UserWarning,\n"
          ]
        },
        {
          "output_type": "error",
          "ename": "AttributeError",
          "evalue": "ignored",
          "traceback": [
            "\u001b[0;31m---------------------------------------------------------------------------\u001b[0m",
            "\u001b[0;31mAttributeError\u001b[0m                            Traceback (most recent call last)",
            "\u001b[0;32m<ipython-input-103-deafe135ea58>\u001b[0m in \u001b[0;36m<module>\u001b[0;34m\u001b[0m\n\u001b[1;32m     36\u001b[0m \u001b[0mparam_grid\u001b[0m \u001b[0;34m=\u001b[0m \u001b[0mdict\u001b[0m\u001b[0;34m(\u001b[0m\u001b[0moptimizer\u001b[0m\u001b[0;34m=\u001b[0m\u001b[0moptimizer\u001b[0m\u001b[0;34m)\u001b[0m\u001b[0;34m\u001b[0m\u001b[0;34m\u001b[0m\u001b[0m\n\u001b[1;32m     37\u001b[0m \u001b[0mgrid\u001b[0m \u001b[0;34m=\u001b[0m \u001b[0mGridSearchCV\u001b[0m\u001b[0;34m(\u001b[0m\u001b[0mestimator\u001b[0m\u001b[0;34m=\u001b[0m\u001b[0mmodel\u001b[0m\u001b[0;34m,\u001b[0m \u001b[0mparam_grid\u001b[0m\u001b[0;34m=\u001b[0m\u001b[0mparam_grid\u001b[0m\u001b[0;34m,\u001b[0m \u001b[0mn_jobs\u001b[0m\u001b[0;34m=\u001b[0m\u001b[0;34m-\u001b[0m\u001b[0;36m1\u001b[0m\u001b[0;34m,\u001b[0m \u001b[0mcv\u001b[0m\u001b[0;34m=\u001b[0m\u001b[0;36m3\u001b[0m\u001b[0;34m)\u001b[0m\u001b[0;34m\u001b[0m\u001b[0;34m\u001b[0m\u001b[0m\n\u001b[0;32m---> 38\u001b[0;31m \u001b[0mgrid_result\u001b[0m \u001b[0;34m=\u001b[0m \u001b[0mgrid\u001b[0m\u001b[0;34m.\u001b[0m\u001b[0mfit\u001b[0m\u001b[0;34m(\u001b[0m\u001b[0mX\u001b[0m\u001b[0;34m,\u001b[0m\u001b[0mY\u001b[0m\u001b[0;34m)\u001b[0m\u001b[0;34m\u001b[0m\u001b[0;34m\u001b[0m\u001b[0m\n\u001b[0m\u001b[1;32m     39\u001b[0m \u001b[0;31m# summarize results\u001b[0m\u001b[0;34m\u001b[0m\u001b[0;34m\u001b[0m\u001b[0;34m\u001b[0m\u001b[0m\n\u001b[1;32m     40\u001b[0m \u001b[0mprint\u001b[0m\u001b[0;34m(\u001b[0m\u001b[0;34m\"Best: %f using %s\"\u001b[0m \u001b[0;34m%\u001b[0m \u001b[0;34m(\u001b[0m\u001b[0mgrid_result\u001b[0m\u001b[0;34m.\u001b[0m\u001b[0mbest_score_\u001b[0m\u001b[0;34m,\u001b[0m \u001b[0mgrid_result\u001b[0m\u001b[0;34m.\u001b[0m\u001b[0mbest_params_\u001b[0m\u001b[0;34m)\u001b[0m\u001b[0;34m)\u001b[0m\u001b[0;34m\u001b[0m\u001b[0;34m\u001b[0m\u001b[0m\n",
            "\u001b[0;32m/usr/local/lib/python3.7/dist-packages/sklearn/model_selection/_search.py\u001b[0m in \u001b[0;36mfit\u001b[0;34m(self, X, y, groups, **fit_params)\u001b[0m\n\u001b[1;32m    924\u001b[0m             \u001b[0mrefit_start_time\u001b[0m \u001b[0;34m=\u001b[0m \u001b[0mtime\u001b[0m\u001b[0;34m.\u001b[0m\u001b[0mtime\u001b[0m\u001b[0;34m(\u001b[0m\u001b[0;34m)\u001b[0m\u001b[0;34m\u001b[0m\u001b[0;34m\u001b[0m\u001b[0m\n\u001b[1;32m    925\u001b[0m             \u001b[0;32mif\u001b[0m \u001b[0my\u001b[0m \u001b[0;32mis\u001b[0m \u001b[0;32mnot\u001b[0m \u001b[0;32mNone\u001b[0m\u001b[0;34m:\u001b[0m\u001b[0;34m\u001b[0m\u001b[0;34m\u001b[0m\u001b[0m\n\u001b[0;32m--> 926\u001b[0;31m                 \u001b[0mself\u001b[0m\u001b[0;34m.\u001b[0m\u001b[0mbest_estimator_\u001b[0m\u001b[0;34m.\u001b[0m\u001b[0mfit\u001b[0m\u001b[0;34m(\u001b[0m\u001b[0mX\u001b[0m\u001b[0;34m,\u001b[0m \u001b[0my\u001b[0m\u001b[0;34m,\u001b[0m \u001b[0;34m**\u001b[0m\u001b[0mfit_params\u001b[0m\u001b[0;34m)\u001b[0m\u001b[0;34m\u001b[0m\u001b[0;34m\u001b[0m\u001b[0m\n\u001b[0m\u001b[1;32m    927\u001b[0m             \u001b[0;32melse\u001b[0m\u001b[0;34m:\u001b[0m\u001b[0;34m\u001b[0m\u001b[0;34m\u001b[0m\u001b[0m\n\u001b[1;32m    928\u001b[0m                 \u001b[0mself\u001b[0m\u001b[0;34m.\u001b[0m\u001b[0mbest_estimator_\u001b[0m\u001b[0;34m.\u001b[0m\u001b[0mfit\u001b[0m\u001b[0;34m(\u001b[0m\u001b[0mX\u001b[0m\u001b[0;34m,\u001b[0m \u001b[0;34m**\u001b[0m\u001b[0mfit_params\u001b[0m\u001b[0;34m)\u001b[0m\u001b[0;34m\u001b[0m\u001b[0;34m\u001b[0m\u001b[0m\n",
            "\u001b[0;32m/usr/local/lib/python3.7/dist-packages/scikeras/wrappers.py\u001b[0m in \u001b[0;36mfit\u001b[0;34m(self, X, y, sample_weight, **kwargs)\u001b[0m\n\u001b[1;32m   1492\u001b[0m             \u001b[0msample_weight\u001b[0m \u001b[0;34m=\u001b[0m \u001b[0;36m1\u001b[0m \u001b[0;32mif\u001b[0m \u001b[0msample_weight\u001b[0m \u001b[0;32mis\u001b[0m \u001b[0;32mNone\u001b[0m \u001b[0;32melse\u001b[0m \u001b[0msample_weight\u001b[0m\u001b[0;34m\u001b[0m\u001b[0;34m\u001b[0m\u001b[0m\n\u001b[1;32m   1493\u001b[0m             \u001b[0msample_weight\u001b[0m \u001b[0;34m*=\u001b[0m \u001b[0mcompute_sample_weight\u001b[0m\u001b[0;34m(\u001b[0m\u001b[0mclass_weight\u001b[0m\u001b[0;34m=\u001b[0m\u001b[0mself\u001b[0m\u001b[0;34m.\u001b[0m\u001b[0mclass_weight\u001b[0m\u001b[0;34m,\u001b[0m \u001b[0my\u001b[0m\u001b[0;34m=\u001b[0m\u001b[0my\u001b[0m\u001b[0;34m)\u001b[0m\u001b[0;34m\u001b[0m\u001b[0;34m\u001b[0m\u001b[0m\n\u001b[0;32m-> 1494\u001b[0;31m         \u001b[0msuper\u001b[0m\u001b[0;34m(\u001b[0m\u001b[0;34m)\u001b[0m\u001b[0;34m.\u001b[0m\u001b[0mfit\u001b[0m\u001b[0;34m(\u001b[0m\u001b[0mX\u001b[0m\u001b[0;34m=\u001b[0m\u001b[0mX\u001b[0m\u001b[0;34m,\u001b[0m \u001b[0my\u001b[0m\u001b[0;34m=\u001b[0m\u001b[0my\u001b[0m\u001b[0;34m,\u001b[0m \u001b[0msample_weight\u001b[0m\u001b[0;34m=\u001b[0m\u001b[0msample_weight\u001b[0m\u001b[0;34m,\u001b[0m \u001b[0;34m**\u001b[0m\u001b[0mkwargs\u001b[0m\u001b[0;34m)\u001b[0m\u001b[0;34m\u001b[0m\u001b[0;34m\u001b[0m\u001b[0m\n\u001b[0m\u001b[1;32m   1495\u001b[0m         \u001b[0;32mreturn\u001b[0m \u001b[0mself\u001b[0m\u001b[0;34m\u001b[0m\u001b[0;34m\u001b[0m\u001b[0m\n\u001b[1;32m   1496\u001b[0m \u001b[0;34m\u001b[0m\u001b[0m\n",
            "\u001b[0;32m/usr/local/lib/python3.7/dist-packages/scikeras/wrappers.py\u001b[0m in \u001b[0;36mfit\u001b[0;34m(self, X, y, sample_weight, **kwargs)\u001b[0m\n\u001b[1;32m    765\u001b[0m             \u001b[0msample_weight\u001b[0m\u001b[0;34m=\u001b[0m\u001b[0msample_weight\u001b[0m\u001b[0;34m,\u001b[0m\u001b[0;34m\u001b[0m\u001b[0;34m\u001b[0m\u001b[0m\n\u001b[1;32m    766\u001b[0m             \u001b[0mwarm_start\u001b[0m\u001b[0;34m=\u001b[0m\u001b[0mself\u001b[0m\u001b[0;34m.\u001b[0m\u001b[0mwarm_start\u001b[0m\u001b[0;34m,\u001b[0m\u001b[0;34m\u001b[0m\u001b[0;34m\u001b[0m\u001b[0m\n\u001b[0;32m--> 767\u001b[0;31m             \u001b[0;34m**\u001b[0m\u001b[0mkwargs\u001b[0m\u001b[0;34m,\u001b[0m\u001b[0;34m\u001b[0m\u001b[0;34m\u001b[0m\u001b[0m\n\u001b[0m\u001b[1;32m    768\u001b[0m         )\n\u001b[1;32m    769\u001b[0m \u001b[0;34m\u001b[0m\u001b[0m\n",
            "\u001b[0;32m/usr/local/lib/python3.7/dist-packages/scikeras/wrappers.py\u001b[0m in \u001b[0;36m_fit\u001b[0;34m(self, X, y, sample_weight, warm_start, epochs, initial_epoch, **kwargs)\u001b[0m\n\u001b[1;32m    927\u001b[0m         \u001b[0mX\u001b[0m \u001b[0;34m=\u001b[0m \u001b[0mself\u001b[0m\u001b[0;34m.\u001b[0m\u001b[0mfeature_encoder_\u001b[0m\u001b[0;34m.\u001b[0m\u001b[0mtransform\u001b[0m\u001b[0;34m(\u001b[0m\u001b[0mX\u001b[0m\u001b[0;34m)\u001b[0m\u001b[0;34m\u001b[0m\u001b[0;34m\u001b[0m\u001b[0m\n\u001b[1;32m    928\u001b[0m \u001b[0;34m\u001b[0m\u001b[0m\n\u001b[0;32m--> 929\u001b[0;31m         \u001b[0mself\u001b[0m\u001b[0;34m.\u001b[0m\u001b[0m_check_model_compatibility\u001b[0m\u001b[0;34m(\u001b[0m\u001b[0my\u001b[0m\u001b[0;34m)\u001b[0m\u001b[0;34m\u001b[0m\u001b[0;34m\u001b[0m\u001b[0m\n\u001b[0m\u001b[1;32m    930\u001b[0m \u001b[0;34m\u001b[0m\u001b[0m\n\u001b[1;32m    931\u001b[0m         self._fit_keras_model(\n",
            "\u001b[0;32m/usr/local/lib/python3.7/dist-packages/scikeras/wrappers.py\u001b[0m in \u001b[0;36m_check_model_compatibility\u001b[0;34m(self, y)\u001b[0m\n\u001b[1;32m    549\u001b[0m             \u001b[0;31m# we recognize the attribute but do not force it to be\u001b[0m\u001b[0;34m\u001b[0m\u001b[0;34m\u001b[0m\u001b[0;34m\u001b[0m\u001b[0m\n\u001b[1;32m    550\u001b[0m             \u001b[0;31m# generated\u001b[0m\u001b[0;34m\u001b[0m\u001b[0;34m\u001b[0m\u001b[0;34m\u001b[0m\u001b[0m\n\u001b[0;32m--> 551\u001b[0;31m             \u001b[0;32mif\u001b[0m \u001b[0mself\u001b[0m\u001b[0;34m.\u001b[0m\u001b[0mn_outputs_expected_\u001b[0m \u001b[0;34m!=\u001b[0m \u001b[0mlen\u001b[0m\u001b[0;34m(\u001b[0m\u001b[0mself\u001b[0m\u001b[0;34m.\u001b[0m\u001b[0mmodel_\u001b[0m\u001b[0;34m.\u001b[0m\u001b[0moutputs\u001b[0m\u001b[0;34m)\u001b[0m\u001b[0;34m:\u001b[0m\u001b[0;34m\u001b[0m\u001b[0;34m\u001b[0m\u001b[0m\n\u001b[0m\u001b[1;32m    552\u001b[0m                 raise ValueError(\n\u001b[1;32m    553\u001b[0m                     \u001b[0;34m\"Detected a Keras model input of size\"\u001b[0m\u001b[0;34m\u001b[0m\u001b[0;34m\u001b[0m\u001b[0m\n",
            "\u001b[0;31mAttributeError\u001b[0m: 'KerasClassifier' object has no attribute 'outputs'"
          ]
        }
      ]
    },
    {
      "metadata": {
        "_uuid": "c7e28c06eb71850cc45c974d92ae0cd28ce040b2",
        "trusted": true,
        "id": "0gUnDr2p8eiD"
      },
      "cell_type": "code",
      "source": [
        "#results.sort_values('mean_test_score', ascending = False).head(5)"
      ],
      "execution_count": null,
      "outputs": []
    },
    {
      "metadata": {
        "_uuid": "70d076ed10f7ae5b7f280d4e06c6b6d46999d5b3",
        "trusted": true,
        "id": "R1u7srYh8eiD"
      },
      "cell_type": "code",
      "source": [
        "# # # Evaluate Final Model on the Test Set\n",
        "\n",
        "# We will use the best model from hyperparameter tuning to make predictions on the testing set.\n",
        "\n",
        "# For comparison, we can also look at the performance of the default model. The code below creates the final model, trains it (with timing), and evaluates on the test set.\n",
        "\n",
        "# Default model\n",
        "default_model = XGBClassifier(random_state = 42)\n",
        "\n",
        "# Select the best model\n",
        "final_model = grid_search.best_estimator_\n",
        "\n",
        "final_model"
      ],
      "execution_count": null,
      "outputs": []
    },
    {
      "metadata": {
        "_uuid": "f57808f6cc35053386fe04a29181bb31bd5d7468",
        "trusted": true,
        "id": "sChIOGQy8eiD"
      },
      "cell_type": "code",
      "source": [
        "#%%timeit -n 1 -r 5\n",
        "default_model.fit(X_train, y_train)"
      ],
      "execution_count": null,
      "outputs": []
    },
    {
      "metadata": {
        "_uuid": "0679eeb425ab9195402cbc9ec0b1604981aa65de",
        "trusted": true,
        "id": "Gw5P98i18eiD"
      },
      "cell_type": "code",
      "source": [
        "#%%timeit -n 1 -r 5\n",
        "final_model.fit(X_train, y_train)"
      ],
      "execution_count": null,
      "outputs": []
    },
    {
      "metadata": {
        "_uuid": "e22420e5d2d8928d6364322ab1f06c5db5fd9d77",
        "trusted": true,
        "id": "LnRmLq_t8eiD"
      },
      "cell_type": "code",
      "source": [
        "default_pred = default_model.predict(X_test)\n",
        "final_pred = final_model.predict(X_test)\n",
        "\n",
        "# Function to calculate mean absolute error\n",
        "def mae(y_true, y_pred):\n",
        "    return np.mean(abs(y_true - y_pred))\n",
        "\n",
        "print('Default model performance on the test set: MAE = %0.4f.' % mae(y_test, default_pred))\n",
        "print('Final model performance on the test set:   MAE = %0.4f.' % mae(y_test, final_pred))\n",
        "\n",
        "# The final model does out-perform the baseline model by about less than 1% and at the cost of significantly increased running time (it's about 7 times slower on my machine). \n",
        "\n",
        "# Here, the increase in run time is not an impediment, because while the relative difference is very small, the absolute magnitude of the training time is not significant. \n",
        "# In a different situation, the balance might not be the same so we would need to consider what we are optimizing for and the limitations we have to work with."
      ],
      "execution_count": null,
      "outputs": []
    },
    {
      "metadata": {
        "_uuid": "0b59237f724d86418c50cf353a94fcd44f4abd08",
        "trusted": true,
        "id": "dGdFQ6eW8eiE"
      },
      "cell_type": "code",
      "source": [
        "# To get a sense of the predictions, we can plot the distribution of true values on the test set and the predicted values on the test set.\n",
        "\n",
        "figsize=(8, 8)\n",
        "\n",
        "# Density plot of the final predictions and the test values\n",
        "sns.kdeplot(final_pred, label = 'Predictions')\n",
        "sns.kdeplot(y_test, label = 'Values')\n",
        "\n",
        "# Label the plot\n",
        "plt.xlabel('Energy Star Score'); plt.ylabel('Density');\n",
        "plt.title('Test Values and Predictions');\n",
        "\n",
        "# The distribution looks to be nearly the same."
      ],
      "execution_count": null,
      "outputs": []
    },
    {
      "metadata": {
        "_uuid": "8235d97848084acb96059768756b41310b1791d9",
        "trusted": true,
        "id": "EdmTE2MU8eiE"
      },
      "cell_type": "code",
      "source": [
        "# Another diagnostic plot is a histogram of the residuals. \n",
        "# Ideally, we would hope that the residuals are normally distributed, meaning that the model is wrong the same amount in both directions (high and low).\n",
        "\n",
        "figsize = (6, 6)\n",
        "\n",
        "# Calculate the residuals \n",
        "residuals = final_pred - y_test\n",
        "\n",
        "# Plot the residuals in a histogram\n",
        "plt.hist(residuals, color = 'red', bins = 20,\n",
        "         edgecolor = 'black')\n",
        "plt.xlabel('Error'); plt.ylabel('Count')\n",
        "plt.title('Distribution of Residuals');\n",
        "\n",
        "# The residuals are very close to zero value, with a one noticeable outliers on the low end. \n",
        "# These indicate errors where the model estimate was far below that of the true value."
      ],
      "execution_count": null,
      "outputs": []
    },
    {
      "metadata": {
        "_uuid": "309148f882872f058d9133c8c4e63826138b58ca",
        "trusted": true,
        "id": "TEwtgUZU8eiE"
      },
      "cell_type": "code",
      "source": [
        "model.fit(X_train, y_train)"
      ],
      "execution_count": null,
      "outputs": []
    },
    {
      "cell_type": "code",
      "source": [
        "!pip install xgboost==0.4a30"
      ],
      "metadata": {
        "id": "uzJiFeDP34j8"
      },
      "execution_count": null,
      "outputs": []
    },
    {
      "cell_type": "code",
      "source": [
        "model.feature_importances"
      ],
      "metadata": {
        "id": "N8b0fWfW3n7U"
      },
      "execution_count": null,
      "outputs": []
    },
    {
      "metadata": {
        "_uuid": "01603b280ddc008608d8f00f5f9cf035fea4f07e",
        "trusted": true,
        "id": "SCSup1TC8eiE"
      },
      "cell_type": "code",
      "source": [
        "# # # Feature Importances\n",
        "\n",
        "# One of the basic ways we can interpret an ensemble of decision trees is through what are known as the feature importances. \n",
        "# These can be interpreted as the variables which are most predictive of the target.\n",
        "\n",
        "# Extracting the feature importances from a trained ensemble of trees is quite easy in scikit-learn. \n",
        "# We will store the feature importances in a dataframe to analyze and visualize them.\n",
        "\n",
        "# Extract the feature importances into a dataframe\n",
        "feature_results = pd.DataFrame({'feature': list(features.columns), \n",
        "                                'importance': model.feature_importances_})\n",
        "\n",
        "# Show the top 10 most important\n",
        "feature_results = feature_results.sort_values('importance', ascending = False).reset_index(drop=True)\n",
        "\n",
        "feature_results.head(10)\n",
        "\n",
        "# The Credit Score, Current Loan Amount and Annual Income are the three most important features by quite a large margin. After that, Maximum Open Credit, Monthly Debt and Years of Credit History have\n",
        "# almost the same importance and, Home Ownership_Home Mortgage and Term_Long Term have almost the same importance as well. It indicates that we might not need to retain all of the features \n",
        "# to create a model with nearly the same performance."
      ],
      "execution_count": null,
      "outputs": []
    },
    {
      "metadata": {
        "_uuid": "f3b17fbc413c19433b5bfe4bfcfb905e4d15e49d",
        "trusted": true,
        "id": "Z4Y0pNJX8eiF"
      },
      "cell_type": "code",
      "source": [
        "# Let's graph the feature importances to compare visually.\n",
        "\n",
        "figsize=(12, 15)\n",
        "#plt.style.use('fivethirtyeight')\n",
        "\n",
        "# Plot the 10 most important features in a horizontal bar chart\n",
        "feature_results.loc[:9, :].plot(x = 'feature', y = 'importance', \n",
        "                                 edgecolor = 'k',\n",
        "                                 kind='barh',legend=None);\n",
        "    \n",
        "plt.xlabel('Relative Importance', size = 10); \n",
        "plt.ylabel('Feature',size=10)\n",
        "plt.title('Feature Importances from Random Forest', size = 12);"
      ],
      "execution_count": null,
      "outputs": []
    },
    {
      "metadata": {
        "_uuid": "c8d1b749cf7a33872d29ed4b474fa5ef3f4cc919",
        "trusted": true,
        "id": "8S3vpTU28eiF"
      },
      "cell_type": "code",
      "source": [
        "# # Use Feature Importances for Feature Selection\n",
        "\n",
        "# Given that not every feature is important for finding the score, what would happen if we used a simpler model, such as a logistic regression, with the subset of most important features from the \n",
        "# random forest? The logistic regression did outperform the baseline, but it did not perform well compared to the model complex models. \n",
        "# Let's try using only the 6 most important features in the logistic regression to see if performance is improved. We can also limit to these features and re-evaluate the random forest.\n",
        "\n",
        "# Extract the names of the most important features\n",
        "most_important_features = feature_results['feature'][:10]\n",
        "\n",
        "# Find the index that corresponds to each feature name\n",
        "indices = [list(features.columns).index(x) for x in most_important_features]\n",
        "\n",
        "# Keep only the most important features\n",
        "X_train_reduced = X_train[:, indices]\n",
        "X_test_reduced = X_test[:, indices]\n",
        "\n",
        "print('Most important training features shape: ', X_train_reduced.shape)\n",
        "print('Most important testing  features shape: ', X_test_reduced.shape)"
      ],
      "execution_count": null,
      "outputs": []
    },
    {
      "metadata": {
        "_uuid": "62651e122078dcbaa967e73249601371aab0ee5b",
        "trusted": true,
        "id": "_hY2Ytvd8eiF"
      },
      "cell_type": "code",
      "source": [
        "logr = LogisticRegression()\n",
        "\n",
        "# Fit on full set of features\n",
        "logr.fit(X_train, y_train)\n",
        "logr_full_pred = logr.predict(X_test)\n",
        "\n",
        "# Fit on reduced set of features\n",
        "logr.fit(X_train_reduced, y_train)\n",
        "logr_reduced_pred = logr.predict(X_test_reduced)\n",
        "\n",
        "# Display results\n",
        "print('Logistic Regression Full Results: MAE =    %0.4f.' % mae(y_test, logr_full_pred))\n",
        "print('Logistic Regression Reduced Results: MAE = %0.4f.' % mae(y_test, logr_reduced_pred))\n",
        "\n",
        "# Well, reducing the features did improve the linear regression results little beat! \n",
        "# It turns out that the extra information in the features with soft importance do actually improve performance."
      ],
      "execution_count": null,
      "outputs": []
    },
    {
      "metadata": {
        "_uuid": "b0a03897e8d9cabb0b43f8dc18b7d832721802b4",
        "trusted": true,
        "id": "D8brg2Ja8eiF"
      },
      "cell_type": "code",
      "source": [
        "# Let's look at using the reduced set of features in the gradient boosted regressor. How is the performance affected?\n",
        "\n",
        "# Create the model with the same hyperparamters\n",
        "model_reduced = XGBClassifier(loss='ls', max_depth=5, max_features='auto',\n",
        "                                  min_samples_leaf=6, min_samples_split=2, \n",
        "                                  n_estimators=450, random_state=42)\n",
        "\n",
        "# Fit and test on the reduced set of features\n",
        "model_reduced.fit(X_train_reduced, y_train)\n",
        "model_reduced_pred = model_reduced.predict(X_test_reduced)\n",
        "\n",
        "print('Gradient Boosted Reduced Results: MAE = %0.4f' % mae(y_test, model_reduced_pred))\n",
        "\n",
        "# The model results are slightly worse with the reduced set of features and we will keep all of the features for the final model."
      ],
      "execution_count": null,
      "outputs": []
    },
    {
      "metadata": {
        "_uuid": "d1e10affb766c994ab0f06509c061e9f78a0c249",
        "trusted": true,
        "id": "lnKUloyq8eiF"
      },
      "cell_type": "code",
      "source": [
        "# # Locally Interpretable Model-agnostic Explanations (LIME)\n",
        "\n",
        "# We will look at using LIME to explain individual predictions made the by the model. \n",
        "#LIME is a relatively new effort aimed at showing how a machine learning model thinks by approximating the region around a prediction with a linear model.\n",
        "\n",
        "# We will look at trying to explain the predictions on an example the model gets very wrong and an example the model gets correct. \n",
        "#We will restrict ourselves to using the reduced set of 10 features to aid interpretability. \n",
        "#The model trained on the 10 most important features is slightly less accurate, but we generally have to trade off accuracy for interpretability!"
      ],
      "execution_count": null,
      "outputs": []
    },
    {
      "metadata": {
        "_uuid": "fe7fce785eb534a560c6ca6e7446babf5e81c042",
        "trusted": true,
        "id": "PM32Me1X8eiG"
      },
      "cell_type": "code",
      "source": [
        "# Find the residuals\n",
        "residuals = abs(model_reduced_pred - y_test)\n",
        "    \n",
        "# Exact the worst and best prediction\n",
        "wrong = X_test_reduced[np.argmax(residuals), :]\n",
        "right = X_test_reduced[np.argmin(residuals), :]"
      ],
      "execution_count": null,
      "outputs": []
    },
    {
      "cell_type": "code",
      "source": [
        "!pip install lime"
      ],
      "metadata": {
        "id": "dI1pJP8RmQhM"
      },
      "execution_count": null,
      "outputs": []
    },
    {
      "metadata": {
        "_uuid": "01e95559f6c5b0a269de6f220f297e58f64f4245",
        "trusted": true,
        "id": "CAVXtf668eiG"
      },
      "cell_type": "code",
      "source": [
        "# Create a lime explainer object\n",
        "\n",
        "# LIME for explaining predictions\n",
        "import lime \n",
        "import lime.lime_tabular\n",
        "\n",
        "explainer = lime.lime_tabular.LimeTabularExplainer(training_data = X_train_reduced, \n",
        "                                                   mode = 'classification',\n",
        "                                                   training_labels = y_train,\n",
        "                                                   feature_names = list(most_important_features))"
      ],
      "execution_count": null,
      "outputs": []
    },
    {
      "metadata": {
        "_uuid": "e45da9ad22dcfc8e8a8484efe3d502b5f2f03df3",
        "trusted": true,
        "id": "sIhovjds8eiG"
      },
      "cell_type": "code",
      "source": [
        "# Display the predicted and true value for the wrong instance\n",
        "print('Prediction: %0.4f' % model_reduced.predict(wrong.reshape(1, -1)))\n",
        "print('Actual Value: %0.4f' % y_test[np.argmax(residuals)])\n",
        "\n",
        "# Explanation for wrong prediction\n",
        "wrong_exp = explainer.explain_instance(data_row = wrong, \n",
        "                                       predict_fn = model_reduced.predict_proba,\n",
        "                                      num_features=10)\n",
        "\n",
        "# Plot the prediction explaination\n",
        "wrong_exp.as_pyplot_figure();\n",
        "plt.title('Explanation of Prediction', size = 28);\n",
        "plt.xlabel('Effect on Prediction', size = 22);\n",
        "\n",
        "# In this example, our gradient boosted model predicted a score of 1.0 and the actual value was 0.0.\n",
        "\n",
        "# The plot from LIME is showing us the contribution to the final prediction from each of the features for the example.\n",
        "\n",
        "# We can see that the Credit Score singificantly decreased the prediction when we comparing with the others. \n",
        "# The Maximum Open Credit on the other hand, incresed the prediction when we comparing with the others."
      ],
      "execution_count": null,
      "outputs": []
    },
    {
      "metadata": {
        "_uuid": "b281086bbc210fa9d65fda37268ca79c9007bc4d",
        "trusted": true,
        "id": "GTrmRpoS8eiG"
      },
      "cell_type": "code",
      "source": [
        "# Now we can go through the same process with a prediction the model got correct.\n",
        "\n",
        "# Display the predicted and true value for the wrong instance\n",
        "print('Prediction: %0.4f' % model_reduced.predict(right.reshape(1, -1)))\n",
        "print('Actual Value: %0.4f' % y_test[np.argmin(residuals)])\n",
        "\n",
        "# Explanation for wrong prediction\n",
        "right_exp = explainer.explain_instance(right, model_reduced.predict_proba, num_features=10)\n",
        "right_exp.as_pyplot_figure();\n",
        "plt.title('Explanation of Prediction', size = 28);\n",
        "plt.xlabel('Effect on Prediction', size = 22);\n",
        "\n",
        "# The correct value for this case was 1.0 which our gradient boosted model got right on!\n",
        "\n",
        "# The plot from LIME again shows the contribution to the prediciton of each of feature variables for the example.\n",
        "\n",
        "# Observing break down plots like these allow us to get an idea of how the model makes a prediction. \n",
        "# This is probably most valuable for cases where the model is off by a large amount as we can inspect the errors and perhaps engineer better features or adjust the hyperparameters of the model \n",
        "# to improve predictions for next time. The examples where the model is off the most could also be interesting edge cases to look at manually."
      ],
      "execution_count": null,
      "outputs": []
    },
    {
      "metadata": {
        "_uuid": "d99aafb8327e9ea54a06afd92f482991a24d8fb6",
        "trusted": true,
        "id": "yGk3P2fN8eiG"
      },
      "cell_type": "code",
      "source": [
        "# A process such as this where we try to work with the machine learning algorithm to gain understanding of a problem seems much better than simply letting the model make predictions\n",
        "# and completely trusting them! Although LIME is not perfect, it represents a step in the right direction towards explaining machine learning models."
      ],
      "execution_count": null,
      "outputs": []
    },
    {
      "metadata": {
        "_uuid": "73c2b9dc497155d2e81ca8c82da9ba1e77e0f71d",
        "trusted": true,
        "id": "QoWiiq2g8eiG"
      },
      "cell_type": "code",
      "source": [
        "# Good job with this project!\n",
        "# See you in the next one!!!"
      ],
      "execution_count": null,
      "outputs": []
    },
    {
      "metadata": {
        "_uuid": "34a9898eca390491966577e7ac84dffcc4f1fb68",
        "trusted": true,
        "id": "sLo4TPVh8eiH"
      },
      "cell_type": "code",
      "source": [
        "# I will use in this Kernel the step-by-step process of Will Koehrsen.\n",
        "# I won't use everything, but most of them.\n",
        "# This project at in GitHub repository: https://github.com/WillKoehrsen/machine-learning-project-walkthrough"
      ],
      "execution_count": null,
      "outputs": []
    }
  ],
  "metadata": {
    "kernelspec": {
      "display_name": "Python 3",
      "language": "python",
      "name": "python3"
    },
    "language_info": {
      "name": "python",
      "version": "3.6.6",
      "mimetype": "text/x-python",
      "codemirror_mode": {
        "name": "ipython",
        "version": 3
      },
      "pygments_lexer": "ipython3",
      "nbconvert_exporter": "python",
      "file_extension": ".py"
    },
    "colab": {
      "provenance": [],
      "collapsed_sections": [],
      "include_colab_link": true
    }
  },
  "nbformat": 4,
  "nbformat_minor": 0
}